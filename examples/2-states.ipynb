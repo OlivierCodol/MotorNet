{
 "cells": [
  {
   "attachments": {},
   "cell_type": "markdown",
   "metadata": {
    "collapsed": false,
    "pycharm": {
     "name": "#%% md\n"
    }
   },
   "source": [
    "# Structure of the State Dictionary\n",
    "\n",
    "In this tutorial, we will go over the different types of states used in MotorNet, how they flow during simulation, how they are structured and what information they carry.\n",
    "\n",
    "Let's start by importing what we need.\n"
   ]
  },
  {
   "cell_type": "code",
   "execution_count": 1,
   "metadata": {
    "collapsed": false,
    "pycharm": {
     "name": "#%%\n"
    }
   },
   "outputs": [
    {
     "name": "stdout",
     "output_type": "stream",
     "text": [
      "Running cell using LOCAL initialization...\n",
      "All packages imported.\n",
      "pytorch version: 2.0.1\n",
      "numpy version: 1.23.0\n",
      "motornet version: 0.2.0\n"
     ]
    }
   ],
   "source": [
    "\n",
    "import os\n",
    "import sys\n",
    "import numpy as np\n",
    "import torch as th\n",
    "from IPython import get_ipython\n",
    "\n",
    "motornet_in_cwd = os.path.exists(\"MotorNet\") or os.path.exists(\"motornet\")\n",
    "colab_env = 'google.colab' in str(get_ipython()) if hasattr(__builtins__,'__IPYTHON__') else False\n",
    "colab_initialized = True if motornet_in_cwd else False\n",
    "\n",
    "if colab_env and not colab_initialized:\n",
    "  !pip install gymnasium>=2.8\n",
    "  !pip install git+https://github.com/OlivierCodol/MotorNet@pytorch\n",
    "  sys.path.append('MotorNet')\n",
    "  print(\"Running cell using COLAB initialization...\")\n",
    "elif colab_env and colab_initialized:\n",
    "  print(\"Already initialized using COLAB initialization.\")\n",
    "else:\n",
    "  paths = [p for p in sys.path if os.path.exists(p)]\n",
    "  local_initialized = True if [p for p in paths if \"MotorNet\" in os.listdir(p)] else False\n",
    "  if local_initialized:\n",
    "    %load_ext autoreload\n",
    "    %autoreload 2\n",
    "    print(\"Already initialized using LOCAL initialization.\")\n",
    "  else:\n",
    "    path = [p for p in paths if p.__contains__(\"examples\")]\n",
    "    if len(path) != 1:\n",
    "      raise ValueError(\"Path to MotorNet could not be determined with certainty.\")\n",
    "    else:\n",
    "      path = path[0]\n",
    "    sys.path.append(os.path.dirname(path[:path.rfind('examples')]))\n",
    "    %load_ext autoreload\n",
    "    %autoreload 2\n",
    "    print(\"Running cell using LOCAL initialization...\")\n",
    "\n",
    "\n",
    "import motornet as mn\n",
    "\n",
    "\n",
    "print('All packages imported.')\n",
    "print('pytorch version: ' + th.__version__)\n",
    "print('numpy version: ' + np.__version__)\n",
    "print('motornet version: ' + mn.__version__)"
   ]
  },
  {
   "attachments": {},
   "cell_type": "markdown",
   "metadata": {
    "collapsed": false,
    "pycharm": {
     "name": "#%% md\n"
    }
   },
   "source": [
    "\n",
    "# I. Types of States\n",
    "\n",
    "States are the main mean of communication between MotorNet objects and so they convey a wide variety of information.\n",
    "\n",
    "There are 5 states that will always be present at the `Effector` level, regardless of the effector being created.\n",
    "\n",
    "- Joint state\n",
    "- Cartesian state\n",
    "- Muscle state\n",
    "- Geometry state\n",
    "- Fingertip\n",
    "\n",
    "Additionally, `Environment` objects will likely have states associated with its computation. This will be further detailed below in this tutorial, as well as in the follow-up `3-environments.ipynb` tutorial.\n"
   ]
  },
  {
   "attachments": {},
   "cell_type": "markdown",
   "metadata": {
    "collapsed": false,
    "pycharm": {
     "name": "#%% md\n"
    }
   },
   "source": [
    "\n",
    "# II. State flow at runtime\n",
    "\n",
    "Below is an overview of where states are generated and updated in a MotorNet model, and how they flow from object to object.\n"
   ]
  },
  {
   "attachments": {},
   "cell_type": "markdown",
   "metadata": {
    "collapsed": false,
    "pycharm": {
     "name": "#%% md\n"
    }
   },
   "source": [
    "\n",
    "\n",
    "<img src=\"img/states.png\" alt=\"drawing\" width=\"600\"/>\n"
   ]
  },
  {
   "attachments": {},
   "cell_type": "markdown",
   "metadata": {
    "collapsed": false,
    "pycharm": {
     "name": "#%% md\n"
    }
   },
   "source": [
    "From the above illustration, we can clearly see that `Muscle` objects generate muscle states, `Skeleton` objects generate joint, cartesian, and fingertip states, and `Effector` objects generate geometry states (though partially using `Skeleton` information). The `Environment` object applies noise and time delays to states if applicable, creates an observation vector using these states, and outputs all the state contents alongside `Environment` specific information so that the user can collect them and feed them into the policy network if desired.\n"
   ]
  },
  {
   "attachments": {},
   "cell_type": "markdown",
   "metadata": {
    "collapsed": false,
    "pycharm": {
     "name": "#%% md\n"
    }
   },
   "source": [
    "# III. Dimensionality of State tensors\n",
    "\n",
    "## III. 1. Effector States\n",
    "Let us create an effector, and then get initial states for a batch size of 7.\n",
    "We use a pre-built effector with 4 muscle, and then add a fifth muscle. The effector's skeleton has 2 degrees of freedom and evolves in a 2D cartesian space.\n",
    "\n",
    "One can retrieve the current states of an effector by using the `Effector.states` attribute, which returns a dictionary with all the states as entries.\n"
   ]
  },
  {
   "cell_type": "code",
   "execution_count": 2,
   "metadata": {
    "collapsed": false,
    "pycharm": {
     "name": "#%%\n"
    }
   },
   "outputs": [
    {
     "name": "stdout",
     "output_type": "stream",
     "text": [
      "joint shape:       torch.Size([7, 4])\n",
      "cartesian shape:   torch.Size([7, 4])\n",
      "muscle shape:      torch.Size([7, 4, 5])\n",
      "geometry shape:    torch.Size([7, 4, 5])\n",
      "fingertip shape:   torch.Size([7, 2])\n"
     ]
    }
   ],
   "source": [
    "\n",
    "effector = mn.effector.ReluPointMass24()\n",
    "\n",
    "# adding a fifth muscle\n",
    "effector.add_muscle(path_fixation_body=[0, 1], path_coordinates=[[1, 0], [0, 0]], max_isometric_force=1)\n",
    "\n",
    "effector.reset(options={\"batch_size\": 7})\n",
    "\n",
    "for key, state in effector.states.items():\n",
    "  print(key + \" shape: \" + \" \" * (10-len(key)), state.shape)\n"
   ]
  },
  {
   "attachments": {},
   "cell_type": "markdown",
   "metadata": {
    "collapsed": false,
    "pycharm": {
     "name": "#%% md\n"
    }
   },
   "source": [
    "From the example above it is fairly easy to see that for all states, the first dimension always corresponds to the `batch_size`. We can also see that for the muscle and geometry states, the last dimension is always the number of muscles.\n",
    "\n",
    "The second dimension is the number of features of that state. For the joint state, this is the number of degrees of freedom times two (position and velocity). For the cartesian state, this is the dimensionality of the cartesian space (here 2D) times two (cartesian position of the effector's endpoint, cartesian velocity of the effector's endpoint). For the fingertip state, it is simply the cartesian position of the effector's endpoint, i.e., the first half of the cartesian state. This is for convenience of use, as we often want the cartesian position but not the velocities, for instance when penalizing positional error.\n",
    "\n",
    "For the geometry state, this will always be musculotendon length, musculotendon velocity, and the moment of the muscle considered for each joint. Because there are two degrees of freedom here for the skeleton (two joints), there are two moments. Additionally, this information can be obtained by checking the `Plant` object's `geometry_state_name` attribute.\n",
    "\n",
    "For the muscle state, this depends on the muscle type being used. This information can be obtained by checking the `Muscle` object's `state_name` attribute. The `Muscle` object is directly accessible from the `Plant` object as demonstrated below.\n",
    "\n"
   ]
  },
  {
   "cell_type": "code",
   "execution_count": 3,
   "metadata": {
    "collapsed": false,
    "pycharm": {
     "name": "#%%\n"
    }
   },
   "outputs": [
    {
     "name": "stdout",
     "output_type": "stream",
     "text": [
      "feature 0:  activation\n",
      "feature 1:  muscle length\n",
      "feature 2:  muscle velocity\n",
      "feature 3:  force\n"
     ]
    }
   ],
   "source": [
    "features = effector.muscle.state_name\n",
    "for n, feature in enumerate(features):\n",
    "  print(\"feature \" + str(n) + \": \", feature)\n"
   ]
  },
  {
   "attachments": {},
   "cell_type": "markdown",
   "metadata": {
    "collapsed": false,
    "pycharm": {
     "name": "#%% md\n"
    }
   },
   "source": [
    "\n",
    "And below, we fetch the geometry state names using the equivalent attribute for geometry at the `Plant` level.\n"
   ]
  },
  {
   "cell_type": "code",
   "execution_count": 4,
   "metadata": {
    "collapsed": false,
    "pycharm": {
     "name": "#%%\n"
    }
   },
   "outputs": [
    {
     "name": "stdout",
     "output_type": "stream",
     "text": [
      "feature 0:  musculotendon length\n",
      "feature 1:  musculotendon velocity\n",
      "feature 2:  moment for joint 0\n",
      "feature 3:  moment for joint 1\n"
     ]
    }
   ],
   "source": [
    "features = effector.geometry_state_name\n",
    "for n, feature in enumerate(features):\n",
    "  print(\"feature \" + str(n) + \": \", feature)\n"
   ]
  },
  {
   "attachments": {},
   "cell_type": "markdown",
   "metadata": {
    "collapsed": false,
    "pycharm": {
     "name": "#%% md\n"
    }
   },
   "source": [
    "## III. 2. Environment \"States\" (`obs` vector and `info` dictionary)\n",
    "\n",
    "Let's now look at states at the `Environment` level. First, we build a `Environment` that includes the same effector as earlier (with five muscles).\n",
    "\n",
    "We must first initialize the environment by using the `.reset()` method. Then we can print the observation and state shapes that this method returns.\n",
    "\n"
   ]
  },
  {
   "cell_type": "code",
   "execution_count": 5,
   "metadata": {
    "collapsed": false,
    "pycharm": {
     "name": "#%%\n"
    }
   },
   "outputs": [
    {
     "name": "stdout",
     "output_type": "stream",
     "text": [
      "obs shape:           torch.Size([7, 14])\n",
      "\n",
      "\n",
      "states: \n",
      "\t\t\tjoint shape:      torch.Size([7, 4])\n",
      "\t\t\tcartesian shape:  torch.Size([7, 4])\n",
      "\t\t\tmuscle shape:     torch.Size([7, 4, 5])\n",
      "\t\t\tgeometry shape:   torch.Size([7, 4, 5])\n",
      "\t\t\tfingertip shape:  torch.Size([7, 2])\n",
      "action shape:        torch.Size([7, 5])\n",
      "noisy action shape:  torch.Size([7, 5])\n",
      "goal shape:          torch.Size([7, 2])\n"
     ]
    }
   ],
   "source": [
    "\n",
    "effector = mn.effector.ReluPointMass24()\n",
    "\n",
    "# adding a fifth muscle\n",
    "effector.add_muscle(path_fixation_body=[0, 1], path_coordinates=[[1, 0], [0, 0]], max_isometric_force=1)\n",
    "\n",
    "env = mn.environment.Environment(effector=effector, proprioception_delay=0.03, vision_delay=0.09)\n",
    "\n",
    "\n",
    "\n",
    "obs, info = env.reset(options={\"batch_size\": 7})\n",
    "\n",
    "print(\"obs shape:          \", obs.shape, end=\"\\n\\n\\n\")\n",
    "\n",
    "for key, val in info.items():\n",
    "  if type(val) is dict:\n",
    "    print(key + \": \")\n",
    "    for k, v in val.items():\n",
    "      print(\"\\t\\t\\t\" + k + \" shape:\" + \" \" * (10-len(k)), v.shape)\n",
    "  else:\n",
    "    print(key + \" shape:\" + \" \" * (13-len(key)), val.shape)\n"
   ]
  },
  {
   "attachments": {},
   "cell_type": "markdown",
   "metadata": {
    "collapsed": false,
    "pycharm": {
     "name": "#%% md\n"
    }
   },
   "source": [
    "\n",
    "We can see that the `Effector` states are carried over to the `info` dictionary. In addition, the action, and its noisy version are also available, with shape `(batch_size, n_muscles)`. Additionally, the goal attribute, which is held at the `Environment` level, is also returned.\n",
    "\n",
    "The observation vector dimensionality is `(batch_size, n_observations)`, with the second dimension being an arbitrary combination of `Effector` states and other information that the user deems relevant for the network to receive as input. These observations can be potentially noised and/or time-delayed. By default, this is the goal, the fingertip state, the normalized muscle length for each muscle and normalized muscle elocity for each muscle. Since there are five muscles in this effector, and the goal and fingertip are 2D cartesian position vectors, this yields `n_observations = 2 + 2 + 5 + 5 = 14`. The content of the observation vector, and whether noise and/or time-delay is applied is defined when building the `Environment` class. This is further detailed in the follow-up `3-environments.ipynb` tutorial.\n",
    "\n",
    "**Importantly**, users familiar with reinforcement learning (RL) toolboxes will notice that this API design matches the standardized API used for RL packages and pipelines. This is not coincidental. The RL community has been relying on open-source packages and cross-compatible pipelines for years now, and abiding by a similar API design ensures that the insights and best practices learnt through this experience is translated here. Another important feature is that it enables compatibility between this package and packages implementing state-of-the-art RL agents.\n"
   ]
  }
 ],
 "metadata": {
  "kernelspec": {
   "display_name": "Python 3",
   "language": "python",
   "name": "python3"
  },
  "language_info": {
   "codemirror_mode": {
    "name": "ipython",
    "version": 3
   },
   "file_extension": ".py",
   "mimetype": "text/x-python",
   "name": "python",
   "nbconvert_exporter": "python",
   "pygments_lexer": "ipython3",
   "version": "3.10.12"
  }
 },
 "nbformat": 4,
 "nbformat_minor": 0
}
