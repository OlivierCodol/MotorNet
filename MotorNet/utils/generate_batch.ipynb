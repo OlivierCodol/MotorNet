{
 "cells": [
  {
   "cell_type": "code",
   "execution_count": 16,
   "outputs": [
    {
     "name": "stdout",
     "output_type": "stream",
     "text": [
      "The autoreload extension is already loaded. To reload it, use:\n",
      "  %reload_ext autoreload\n",
      "tensorflow version: 2.4.1\n"
     ]
    }
   ],
   "source": [
    "import numpy as np\n",
    "import tensorflow as tf\n",
    "import os, sys\n",
    "from tensorflow.keras.layers import Input\n",
    "\n",
    "# find root directory and add to path\n",
    "root_index = os.getcwd().rfind('notebooks')\n",
    "root_directory = os.path.dirname(os.getcwd()[:root_index])\n",
    "sys.path.append(root_directory)\n",
    "os.environ[\"CUDA_VISIBLE_DEVICES\"] = \"-1\"\n",
    "from MotorNet.plants import RigidTendonArm\n",
    "from MotorNet.plants.muscles import RigidTendonHillMuscle, RigidTendonHillMuscleThelen\n",
    "from MotorNet.nets.layers import GRUController\n",
    "from MotorNet.tasks.tasks import TaskLoadProbability, TaskStaticTarget, TaskDelayedReach, TaskStaticTargetWithPerturbations, TaskDelayedMultiReach\n",
    "from MotorNet.nets.custommodels import MotorNetModel\n",
    "\n",
    "%load_ext autoreload\n",
    "%autoreload 2\n",
    "print('tensorflow version: ' + tf.__version__)"
   ],
   "metadata": {
    "collapsed": false,
    "pycharm": {
     "name": "#%%\n"
    }
   }
  },
  {
   "cell_type": "code",
   "execution_count": 17,
   "outputs": [],
   "source": [
    "save_folder = '/home/jonathan/Desktop/MotorNetModels/LoadProb/'\n",
    "save_name = 'LoadProb'\n",
    "# specify number of models in batch\n",
    "models_in_batch = 4\n",
    "\n",
    "if not os.path.exists(save_folder):\n",
    "    os.mkdir(save_folder)\n",
    "\n",
    "for i in range(models_in_batch):\n",
    "    # Create model\n",
    "    arm = RigidTendonArm(muscle_type=RigidTendonHillMuscleThelen(), timestep=0.01,\n",
    "                         proprioceptive_delay=0.04, visual_delay=0.09,\n",
    "                         excitation_noise_sd=0.0001)\n",
    "    visual_feedback_noise = 0.01\n",
    "    proprio_feedback_noise = 0.001\n",
    "    hidden_noise = 0.00001\n",
    "    cell = GRUController(plant=arm, n_units=300, kernel_regularizer=1e-6,\n",
    "                         recurrent_regularizer=2e-5, name='cell',\n",
    "                         proprioceptive_noise_sd=proprio_feedback_noise, visual_noise_sd=visual_feedback_noise,\n",
    "                         hidden_noise_sd=hidden_noise)\n",
    "\n",
    "    delay_range = [200, 1200]\n",
    "    target_time_range = [200, 400]\n",
    "    if i < 2:\n",
    "        do_recompute_targets = False\n",
    "    else:\n",
    "        do_recompute_targets = True\n",
    "    cartesian_loss = 1\n",
    "    muscle_loss = 20\n",
    "    task = TaskLoadProbability(cell, initial_joint_state=np.deg2rad([60., 80., 0., 0.]),\n",
    "                               delay_range=delay_range,\n",
    "                               target_time_range=target_time_range,\n",
    "                               do_recompute_targets=do_recompute_targets,\n",
    "                               cartesian_loss=cartesian_loss,\n",
    "                               muscle_loss=muscle_loss\n",
    "                               )\n",
    "\n",
    "    # declare inputs\n",
    "    inputs = Input((None, task.get_input_dim()), name='inputs')\n",
    "    state0 = [Input((arm.state_dim, ), name='joint0'),\n",
    "              Input((arm.state_dim, ), name='cartesian0'),\n",
    "              Input((arm.muscle_state_dim, arm.n_muscles, ), name='muscle0'),\n",
    "              Input((arm.geometry_state_dim, arm.n_muscles, ), name='geometry0'),\n",
    "              Input((arm.n_muscles*2, arm.proprioceptive_delay, ), name='proprio_feedback0'),\n",
    "              Input((arm.space_dim, arm.visual_delay, ), name='visual_feedback0')]\n",
    "    state0.extend([Input((n, ), name='gru' + str(k) + '_hidden0') for k, n in enumerate(cell.n_units)])\n",
    "\n",
    "    # wrap cell in an RNN layer\n",
    "    states_out = tf.keras.layers.RNN(cell=cell, return_sequences=True, name='RNN')(inputs, initial_state=state0)\n",
    "    control_rnn = MotorNetModel(inputs=[inputs, state0], outputs=states_out, name='controller', task=task)\n",
    "\n",
    "    batch_size = 32\n",
    "    n_t = int(2.0 / arm.dt)\n",
    "    control_rnn.task.set_training_params(batch_size=batch_size, n_timesteps=n_t, iterations=15000)\n",
    "\n",
    "    # save model config\n",
    "    control_rnn.save_model(save_folder + save_name + '_' + str(i))"
   ],
   "metadata": {
    "collapsed": false,
    "pycharm": {
     "name": "#%% Specify directory to save the batch\n"
    }
   }
  }
 ],
 "metadata": {
  "kernelspec": {
   "display_name": "Python 3",
   "language": "python",
   "name": "python3"
  },
  "language_info": {
   "codemirror_mode": {
    "name": "ipython",
    "version": 2
   },
   "file_extension": ".py",
   "mimetype": "text/x-python",
   "name": "python",
   "nbconvert_exporter": "python",
   "pygments_lexer": "ipython2",
   "version": "2.7.6"
  }
 },
 "nbformat": 4,
 "nbformat_minor": 0
}