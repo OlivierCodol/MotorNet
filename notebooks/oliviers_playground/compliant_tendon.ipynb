{
 "nbformat": 4,
 "nbformat_minor": 0,
 "metadata": {
  "kernelspec": {
   "name": "python3",
   "language": "python",
   "display_name": "Python 3"
  },
  "language_info": {
   "codemirror_mode": {
    "name": "ipython",
    "version": 2
   },
   "file_extension": ".py",
   "mimetype": "text/x-python",
   "name": "python",
   "nbconvert_exporter": "python",
   "pygments_lexer": "ipython2",
   "version": "2.7.6"
  },
  "colab": {
   "name": "Copy of rigid_tendon.ipynb",
   "provenance": [
    {
     "file_id": "https://github.com/OlivierCodol/LS_replication/blob/JAM/rigid_tendon.ipynb",
     "timestamp": 1617481277374
    }
   ],
   "collapsed_sections": []
  }
 },
 "cells": [
  {
   "cell_type": "code",
   "metadata": {
    "collapsed": true,
    "id": "ExIIsASHP3zj",
    "colab": {
     "base_uri": "https://localhost:8080/"
    },
    "executionInfo": {
     "status": "ok",
     "timestamp": 1617484810056,
     "user_tz": 240,
     "elapsed": 244,
     "user": {
      "displayName": "Jonathan Michaels",
      "photoUrl": "https://lh3.googleusercontent.com/a-/AOh14Gh0Ek1qqyQyhZw10le51afY7T-sbK20C7Lqixw3Wv8=s64",
      "userId": "10871465445165793729"
     }
    },
    "outputId": "4d756cd0-c6d0-4db4-e180-028b1bde32b4"
   },
   "source": [
    "import numpy as np\n",
    "import time\n",
    "import tensorflow as tf\n",
    "import matplotlib.pyplot as plt\n",
    "import os, sys\n",
    "from tensorflow.keras.layers import Input\n",
    "from tensorflow.keras.models import Model\n",
    "\n",
    "# find root directory and add to path\n",
    "root_index = os.getcwd().rfind('notebooks')\n",
    "root_directory = os.path.dirname(os.getcwd()[:root_index])\n",
    "sys.path.append(root_directory)\n",
    "\n",
    "from MotorNet.plants import CompliantTendonArm\n",
    "from MotorNet.utils.plotor import plot_pos_over_time\n",
    "from MotorNet.nets.losses import empty_loss, position_loss, activation_squared_loss\n",
    "from MotorNet.nets.layers import GRUController\n",
    "from MotorNet.nets.callbacks import BatchLogger, TrainingPlotter\n",
    "\n",
    "%load_ext autoreload\n",
    "%autoreload 2\n",
    "\n",
    "# tf.debugging.enable_check_numerics()\n",
    "print('tensorflow version: ' + tf.__version__)"
   ],
   "execution_count": 51,
   "outputs": [
    {
     "name": "stdout",
     "output_type": "stream",
     "text": [
      "The autoreload extension is already loaded. To reload it, use:\n",
      "  %reload_ext autoreload\n",
      "tensorflow version: 2.3.0\n"
     ]
    }
   ]
  },
  {
   "cell_type": "code",
   "execution_count": 52,
   "outputs": [
    {
     "name": "stdout",
     "output_type": "stream",
     "text": [
      "0.9591234772558495\n"
     ]
    },
    {
     "data": {
      "text/plain": "<Figure size 432x288 with 1 Axes>",
      "image/png": "[encoded data removed]"
     },
     "metadata": {
      "needs_background": "light"
     },
     "output_type": "display_data"
    }
   ],
   "source": [
    "\n",
    "norm_muscle_len = 0.5\n",
    "new_activation = 1.\n",
    "rho = 1.37e-4 * 5.27e4 * (2.9 - 1) * norm_muscle_len / (2.9 - norm_muscle_len)\n",
    "cte = (rho * new_activation) ** 3\n",
    "q = (5e-3 + cte) / (1 + cte)\n",
    "print(q)\n",
    "q=np.array([1., 0.7, 0.4, 0.1, 0.05, 0.01]).astype('float32').reshape((1,-1))\n",
    "a = 1 / (0.66 ** 2)\n",
    "q_crit = 0.3\n",
    "f_iso_n = tf.maximum(- a * norm_muscle_len ** 2 + 2 * a * norm_muscle_len - a + 1, 0.)\n",
    "\n",
    "\n",
    "a_rel_st = tf.where(norm_muscle_len > 1., .41 * f_iso_n, .41)\n",
    "b_rel_st = tf.where(q < q_crit, 5.2 * (1 - .9 * ((q - q_crit) / (5e-3 - q_crit))) ** 2, 5.2)\n",
    "\n",
    "f_asymp = 1.5  # * f_iso_n * q\n",
    "slopfac = 2.\n",
    "sloplin = 1000.\n",
    "\n",
    "dvdf_isom_con = b_rel_st / (q * (f_iso_n + a_rel_st)) # slope in the isometric point at wrt concentric part\n",
    "dfdvcon0 = 1. / dvdf_isom_con\n",
    "s_as = 1. / sloplin\n",
    "\n",
    "p1 = -(f_iso_n * q * (f_asymp - 1)) / (s_as - dfdvcon0 * slopfac)\n",
    "p2 = ((f_iso_n * q * (f_asymp - 1)) ** 2) / (s_as - dfdvcon0 * slopfac)\n",
    "p3 =  -f_asymp * f_iso_n * q\n",
    "p4 =  -s_as\n",
    "\n",
    "v = tf.reshape(tf.linspace(-15.,15.,101), (-1, 1))\n",
    "F = tf.where(\n",
    "    v<0,\n",
    "    (v * q * a_rel_st + f_iso_n * q * b_rel_st) / (b_rel_st - v),\n",
    "    (-p1*p3 - p1*p4*v + p2 - p3*v - p4*v**2)/(p1 + v)\n",
    ")\n",
    "F = tf.where(f_iso_n * q > 0.01, F, v / sloplin + f_iso_n * q)\n",
    "\n",
    "F = tf.maximum(F, 0.)\n",
    "plt.plot(v, F)\n",
    "plt.show()\n",
    "\n"
   ],
   "metadata": {
    "collapsed": false,
    "pycharm": {
     "name": "#%%\n"
    }
   }
  },
  {
   "cell_type": "code",
   "execution_count": 53,
   "outputs": [
    {
     "name": "stdout",
     "output_type": "stream",
     "text": [
      "0.009857668\n"
     ]
    },
    {
     "data": {
      "text/plain": "<Figure size 432x288 with 1 Axes>",
      "image/png": "[encoded data removed]"
     },
     "metadata": {
      "needs_background": "light"
     },
     "output_type": "display_data"
    }
   ],
   "source": [
    "sloplin = 1000.\n",
    "s_as = 1 / sloplin\n",
    "min_iso_force = 1.\n",
    "max_iso_force = 1000.\n",
    "f_iso_n_den = .66 ** 2\n",
    "b_rel_st_den = 5e-3 - 0.3\n",
    "lin_thres = 0.01\n",
    "\n",
    "active_force = np.linspace(0., 0.1, 101).astype('float32').reshape((-1,1))\n",
    "F = active_force\n",
    "norm_muscle_len = 0.53\n",
    "q = .02\n",
    "\n",
    "\n",
    "f_iso_n = 1 + (- norm_muscle_len ** 2 + 2 * norm_muscle_len - 1) / f_iso_n_den\n",
    "f_iso_n = tf.maximum(f_iso_n, min_iso_force / max_iso_force)\n",
    "\n",
    "q_f_iso_n = f_iso_n * q\n",
    "not_use_lin = q_f_iso_n >= lin_thres\n",
    "print(q_f_iso_n.numpy())\n",
    "\n",
    "new_muscle_vel_lin = sloplin * (active_force - q_f_iso_n)\n",
    "transition_line = sloplin * (active_force - lin_thres)\n",
    "\n",
    "# a_rel_st = tf.where(norm_muscle_len > 1., .41 * f_iso_n, .41)\n",
    "# b_rel_st = tf.where(q < 0.3, 5.2 * (1 - .9 * ((q - 0.3) / b_rel_st_den)) ** 2, 5.2)\n",
    "# (active_force - f_iso_n * b_rel_st) / a_rel_st\n",
    "# (active_force - f_iso_n * b_rel_st) / a_rel_st\n",
    "\n",
    "\n",
    "a_rel_st = tf.where(norm_muscle_len > 1., .41 * f_iso_n, .41)\n",
    "b_rel_st = tf.where(q < 0.3, 5.2 * (1 - .9 * ((q - 0.3) / b_rel_st_den)) ** 2, 5.2)\n",
    "\n",
    "dvdf_isom_con = b_rel_st / (q * (f_iso_n + a_rel_st))  # slope in the isometric point at wrt concentric part\n",
    "dfdvcon0 = 1. / dvdf_isom_con\n",
    "\n",
    "p1 = -(q_f_iso_n * 0.5) / (s_as - dfdvcon0 * 2)\n",
    "p3 = - 1.5 * q_f_iso_n\n",
    "p4 = - s_as\n",
    "p2_containing_term = (4 * ((q_f_iso_n * 0.5) ** 2) * p4) / (s_as - dfdvcon0 * 2)\n",
    "\n",
    "sqrt_term = active_force ** 2 - 2 * active_force * p1 * p4 + \\\n",
    "    2 * active_force * p3 + p1 ** 2 * p4 ** 2 - 2 * p1 * p3 * p4 + p2_containing_term + p3 ** 2\n",
    "# cond = tf.where(tf.logical_and(tf.logical_and(sqrt_term < 0, active_force >= q_f_iso_n), not_use_lin), -1, 1)\n",
    "cond = tf.where(tf.logical_and(sqrt_term < 0, active_force >= q_f_iso_n), -1, 1)\n",
    "tf.debugging.assert_non_negative(cond, message='root that should be used is negative.')\n",
    "sqrt_term = tf.maximum(sqrt_term, 0.)\n",
    "\n",
    "new_muscle_vel_nom = tf.where(\n",
    "    active_force < q_f_iso_n,\n",
    "    b_rel_st * (active_force - q_f_iso_n),\n",
    "    -active_force + p1 * s_as - p3 - tf.sqrt(sqrt_term)\n",
    ")\n",
    "new_muscle_vel_den = tf.where(\n",
    "    active_force < q_f_iso_n,\n",
    "    active_force + q * a_rel_st,\n",
    "    -2 * s_as,\n",
    ")\n",
    "\n",
    "v = tf.minimum(new_muscle_vel_nom / new_muscle_vel_den, transition_line)\n",
    "# v = new_muscle_vel_nom / new_muscle_vel_den\n",
    "v = tf.where(not_use_lin, v, new_muscle_vel_lin)\n",
    "\n",
    "plt.plot(F, v)\n",
    "plt.show()\n"
   ],
   "metadata": {
    "collapsed": false,
    "pycharm": {
     "name": "#%%\n"
    }
   }
  },
  {
   "cell_type": "code",
   "metadata": {
    "pycharm": {
     "name": "#%% Test the full joint space for errors\n"
    },
    "id": "rB2voWlXP3z2",
    "colab": {
     "base_uri": "https://localhost:8080/",
     "height": 394
    },
    "executionInfo": {
     "status": "ok",
     "timestamp": 1617484816993,
     "user_tz": 240,
     "elapsed": 7154,
     "user": {
      "displayName": "Jonathan Michaels",
      "photoUrl": "https://lh3.googleusercontent.com/a-/AOh14Gh0Ek1qqyQyhZw10le51afY7T-sbK20C7Lqixw3Wv8=s64",
      "userId": "10871465445165793729"
     }
    },
    "outputId": "9fa8f3a5-5ee3-4bc7-ad1b-727c4a9c36e7"
   },
   "source": [
    "arm = CompliantTendonArm(timestep=0.0001, min_activation=0.01)\n",
    "\n",
    "sho, elb = np.meshgrid(\n",
    "    np.linspace(arm.pos_lower_bound[0], arm.pos_upper_bound[0], 21).astype('float32'),\n",
    "    np.linspace(arm.pos_lower_bound[1], arm.pos_upper_bound[1], 21).astype('float32'))\n",
    "z = tf.zeros_like(sho.reshape(-1))\n",
    "\n",
    "ex = tf.ones((sho.size, arm.n_muscles)) * [0, 1, 0, 0, 0, 0]\n",
    "state0 = arm.get_initial_state(joint_state=tf.stack([sho.reshape(-1), elb.reshape(-1), z, z], axis=1))\n",
    "\n",
    "j_results = state0[0][:, tf.newaxis, :]\n",
    "c_results = state0[1][:, tf.newaxis, :]\n",
    "m_results = state0[2][:, tf.newaxis, :, :]\n",
    "states = state0\n",
    "\n",
    "start = time.monotonic()\n",
    "# 200 ms simulation to assess drift\n",
    "for _ in range(int(0.05 / arm.dt)):\n",
    "    states = arm(ex, states[0], states[-2], states[-1])\n",
    "    j_results = tf.concat([j_results, states[0][:, tf.newaxis, :]], axis=1)\n",
    "    c_results = tf.concat([c_results, states[1][:, tf.newaxis, :]], axis=1)\n",
    "    m_results = tf.concat([m_results, states[-2][:, tf.newaxis, :, :]], axis=1)\n",
    "print('simulation duration: ' + str(time.monotonic() - start) + ' sec')\n",
    "\n",
    "plt.figure(figsize=(5, 3)).set_tight_layout(True)\n",
    "plot_pos_over_time(cart_results=c_results)\n",
    "plt.title('drift from passive muscle forces alone')\n"
   ],
   "execution_count": 60,
   "outputs": [
    {
     "name": "stdout",
     "output_type": "stream",
     "text": [
      "simulation duration: 11.952999999979511 sec\n"
     ]
    },
    {
     "data": {
      "text/plain": "Text(0.5, 1.0, 'drift from passive muscle forces alone')"
     },
     "execution_count": 60,
     "metadata": {},
     "output_type": "execute_result"
    },
    {
     "data": {
      "text/plain": "<Figure size 360x216 with 2 Axes>",
      "image/png": "[encoded data removed]"
     },
     "metadata": {
      "needs_background": "light"
     },
     "output_type": "display_data"
    }
   ]
  },
  {
   "cell_type": "code",
   "execution_count": 61,
   "outputs": [
    {
     "data": {
      "text/plain": "<Figure size 1008x360 with 5 Axes>",
      "image/png": "[encoded data removed]"
     },
     "metadata": {
      "needs_background": "light"
     },
     "output_type": "display_data"
    }
   ],
   "source": [
    "trial = 72\n",
    "plt.figure(figsize=(14, 5)).set_tight_layout(True)\n",
    "\n",
    "plt.subplot(241)\n",
    "plt.plot(j_results[trial, :, 0].numpy().squeeze(), label='x')\n",
    "plt.plot(j_results[trial, :, 1].numpy().squeeze(), label='y')\n",
    "plt.legend()\n",
    "plt.xlabel('timestep')\n",
    "plt.ylabel('position')\n",
    "\n",
    "plt.subplot(242)\n",
    "plt.plot(j_results[trial, :, 2].numpy().squeeze(), label='x')\n",
    "plt.plot(j_results[trial, :, 3].numpy().squeeze(), label='y')\n",
    "plt.legend()\n",
    "plt.xlabel('timestep')\n",
    "plt.ylabel('velocity')\n",
    "\n",
    "plt.subplot(243)\n",
    "plt.plot(m_results[trial, :, 0, :].numpy().squeeze())\n",
    "plt.xlabel('timestep')\n",
    "plt.ylabel('activation')\n",
    "\n",
    "plt.subplot(244)\n",
    "x= m_results[trial, :, 5, :]\n",
    "plt.plot(x.numpy().squeeze())\n",
    "plt.xlabel('timestep')\n",
    "plt.ylabel('tendon forces')\n",
    "\n",
    "plt.subplot(245)\n",
    "x= m_results[trial, :, 2, :]\n",
    "plt.plot(x.numpy().squeeze())\n",
    "plt.xlabel('timestep')\n",
    "plt.ylabel('muscle velocity')\n",
    "\n",
    "plt.show()\n",
    "# new_muscle_state = tf.concat([new_activation, new_muscle_len, new_muscle_vel, moment_arm, flpe, flse, active_force], axis=1)"
   ],
   "metadata": {
    "collapsed": false,
    "pycharm": {
     "name": "#%%\n"
    }
   }
  },
  {
   "cell_type": "code",
   "metadata": {
    "pycharm": {
     "name": "#%%\n"
    },
    "id": "f4uEwEDZP3z5",
    "colab": {
     "base_uri": "https://localhost:8080/",
     "height": 438
    },
    "executionInfo": {
     "status": "ok",
     "timestamp": 1617484818430,
     "user_tz": 240,
     "elapsed": 8582,
     "user": {
      "displayName": "Jonathan Michaels",
      "photoUrl": "https://lh3.googleusercontent.com/a-/AOh14Gh0Ek1qqyQyhZw10le51afY7T-sbK20C7Lqixw3Wv8=s64",
      "userId": "10871465445165793729"
     }
    },
    "outputId": "2fe8210e-c4ff-4c62-9076-1e1899ab373a"
   },
   "source": [
    "class MultistepController(GRUController):\n",
    "    def __init__(self, **kwargs):\n",
    "        super().__init__(**kwargs)\n",
    "\n",
    "    def build(self, input_shapes):\n",
    "        for k in range(self.n_hidden_layers):\n",
    "            layer = tf.keras.layers.GRUCell(units=self.n_units[k],\n",
    "                            activation=self.activation,\n",
    "                            name='hidden_layer_' + str(k),\n",
    "                            kernel_regularizer=self.kernel_regularizer,\n",
    "                            activity_regularizer=self.activity_regularizer)\n",
    "            self.layers.append(layer)\n",
    "        output_layer = tf.keras.layers.Dense(units=self.plant.input_dim,\n",
    "                             activation='sigmoid',\n",
    "                             name='output_layer',\n",
    "                             bias_initializer=tf.initializers.Constant(value=0),\n",
    "                             kernel_initializer=tf.initializers.random_normal(stddev=10 ** -1))\n",
    "        self.layers.append(output_layer)\n",
    "        self.built = True\n"
   ],
   "execution_count": 65,
   "outputs": []
  },
  {
   "cell_type": "code",
   "metadata": {
    "pycharm": {
     "name": "#%% Create model\n"
    },
    "id": "N1MiHNq0P3z7",
    "colab": {
     "base_uri": "https://localhost:8080/",
     "height": 375
    },
    "executionInfo": {
     "status": "error",
     "timestamp": 1617484820853,
     "user_tz": 240,
     "elapsed": 10976,
     "user": {
      "displayName": "Jonathan Michaels",
      "photoUrl": "https://lh3.googleusercontent.com/a-/AOh14Gh0Ek1qqyQyhZw10le51afY7T-sbK20C7Lqixw3Wv8=s64",
      "userId": "10871465445165793729"
     }
    },
    "outputId": "b448355d-1220-462b-dac3-7b7df876fb1d"
   },
   "source": [
    "for _ in range(100):\n",
    "    arm = CompliantTendonArm(timestep=0.0001, min_activation=0.01)\n",
    "    rnn = MultistepController(plant=arm, n_units=50, kernel_regularizer=0.*10**-6, name='cell', n_ministeps=10)\n",
    "\n",
    "    # declare inputs\n",
    "    targets = Input((None, arm.state_dim,), name='target')\n",
    "    state0 = [Input((arm.state_dim, ), name='joint0'),\n",
    "              Input((arm.state_dim, ), name='cartesian0'),\n",
    "              Input((arm.muscle_state_dim, arm.n_muscles, ), name='muscle0'),\n",
    "              Input((arm.geometry_state_dim, arm.n_muscles, ), name='geometry0'),\n",
    "              Input((arm.n_muscles * 2, arm.proprioceptive_delay, ), name='proprio_feedback0'),\n",
    "              Input((arm.space_dim, arm.visual_delay, ), name='visual_feedback0')]\n",
    "    state0.extend([Input((n, ), name='gru' + str(k) + '_hidden0') for k, n in enumerate(rnn.n_units)])\n",
    "\n",
    "\n",
    "    # wrap cell in an RNN layer\n",
    "    states_out = tf.keras.layers.RNN(cell=rnn, return_sequences=True, name='RNN')(targets, initial_state=state0)\n",
    "    control_rnn = Model(inputs=[targets, state0], outputs=states_out, name='controller')\n",
    "\n",
    "\n",
    "    # link outputs to their loss\n",
    "    losses = {name: empty_loss() for name in states_out.keys()}\n",
    "    loss_weights = {name: 0. for name in states_out.keys()}\n",
    "    losses['cartesian position'] = position_loss()\n",
    "    losses['muscle state'] = activation_squared_loss()\n",
    "    loss_weights['cartesian position'] = 1\n",
    "    loss_weights['muscle state'] = 0\n",
    "\n",
    "\n",
    "    # and compile\n",
    "    control_rnn.compile(optimizer=tf.optimizers.Adam(learning_rate=0.01), loss=losses, loss_weights=loss_weights)\n",
    "    batchlog_callback = BatchLogger()\n",
    "    # control_rnn.summary()\n",
    "    # losses\n",
    "\n",
    "    #%\n",
    "\n",
    "    # name = '50gru_1e-3dt_10ministeps'\n",
    "    # control_rnn.load_weights(os.getcwd() + '/saved_models/compliant_tendon/' + name)\n",
    "    batch_size = 64\n",
    "    dataset_size = 150 * batch_size\n",
    "    # n_t = int(0.5 / (arm.dt * cell.n_ministeps))\n",
    "    n_t = int(0.5 / (arm.dt * rnn.n_ministeps))\n",
    "    # n_t\n",
    "\n",
    "    #%\n",
    "\n",
    "    # tf.debugging.disable_check_numerics()\n",
    "    with tf.device('/cpu:0'):\n",
    "        for _ in range(1):\n",
    "            init_states = rnn.get_initial_state(batch_size=dataset_size)\n",
    "            # inputs=cell.plant.draw_fixed_states(position=np.deg2rad([45., 90.]), batch_size=dataset_size),\n",
    "            goal_states = arm.draw_random_uniform_states(batch_size=dataset_size)\n",
    "            target = arm.state2target(state=arm.joint2cartesian(goal_states), n_timesteps=n_t)\n",
    "            control_rnn.fit([target, init_states], target, epochs=1, batch_size=batch_size, callbacks=[TrainingPlotter()], verbose=1, shuffle=False)\n",
    "\n"
   ],
   "execution_count": 67,
   "outputs": [
    {
     "ename": "NameError",
     "evalue": "name 'TrainingPlotter' is not defined",
     "output_type": "error",
     "traceback": [
      "\u001B[1;31m---------------------------------------------------------------------------\u001B[0m",
      "\u001B[1;31mNameError\u001B[0m                                 Traceback (most recent call last)",
      "\u001B[1;32m<ipython-input-67-c32c2e25e3cb>\u001B[0m in \u001B[0;36m<module>\u001B[1;34m\u001B[0m\n\u001B[0;32m     53\u001B[0m             \u001B[0mgoal_states\u001B[0m \u001B[1;33m=\u001B[0m \u001B[0marm\u001B[0m\u001B[1;33m.\u001B[0m\u001B[0mdraw_random_uniform_states\u001B[0m\u001B[1;33m(\u001B[0m\u001B[0mbatch_size\u001B[0m\u001B[1;33m=\u001B[0m\u001B[0mdataset_size\u001B[0m\u001B[1;33m)\u001B[0m\u001B[1;33m\u001B[0m\u001B[1;33m\u001B[0m\u001B[0m\n\u001B[0;32m     54\u001B[0m             \u001B[0mtarget\u001B[0m \u001B[1;33m=\u001B[0m \u001B[0marm\u001B[0m\u001B[1;33m.\u001B[0m\u001B[0mstate2target\u001B[0m\u001B[1;33m(\u001B[0m\u001B[0mstate\u001B[0m\u001B[1;33m=\u001B[0m\u001B[0marm\u001B[0m\u001B[1;33m.\u001B[0m\u001B[0mjoint2cartesian\u001B[0m\u001B[1;33m(\u001B[0m\u001B[0mgoal_states\u001B[0m\u001B[1;33m)\u001B[0m\u001B[1;33m,\u001B[0m \u001B[0mn_timesteps\u001B[0m\u001B[1;33m=\u001B[0m\u001B[0mn_t\u001B[0m\u001B[1;33m)\u001B[0m\u001B[1;33m\u001B[0m\u001B[1;33m\u001B[0m\u001B[0m\n\u001B[1;32m---> 55\u001B[1;33m             \u001B[0mcontrol_rnn\u001B[0m\u001B[1;33m.\u001B[0m\u001B[0mfit\u001B[0m\u001B[1;33m(\u001B[0m\u001B[1;33m[\u001B[0m\u001B[0mtarget\u001B[0m\u001B[1;33m,\u001B[0m \u001B[0minit_states\u001B[0m\u001B[1;33m]\u001B[0m\u001B[1;33m,\u001B[0m \u001B[0mtarget\u001B[0m\u001B[1;33m,\u001B[0m \u001B[0mepochs\u001B[0m\u001B[1;33m=\u001B[0m\u001B[1;36m1\u001B[0m\u001B[1;33m,\u001B[0m \u001B[0mbatch_size\u001B[0m\u001B[1;33m=\u001B[0m\u001B[0mbatch_size\u001B[0m\u001B[1;33m,\u001B[0m \u001B[0mcallbacks\u001B[0m\u001B[1;33m=\u001B[0m\u001B[1;33m[\u001B[0m\u001B[0mTrainingPlotter\u001B[0m\u001B[1;33m(\u001B[0m\u001B[1;33m)\u001B[0m\u001B[1;33m]\u001B[0m\u001B[1;33m,\u001B[0m \u001B[0mverbose\u001B[0m\u001B[1;33m=\u001B[0m\u001B[1;36m1\u001B[0m\u001B[1;33m,\u001B[0m \u001B[0mshuffle\u001B[0m\u001B[1;33m=\u001B[0m\u001B[1;32mFalse\u001B[0m\u001B[1;33m)\u001B[0m\u001B[1;33m\u001B[0m\u001B[1;33m\u001B[0m\u001B[0m\n\u001B[0m\u001B[0;32m     56\u001B[0m \u001B[1;33m\u001B[0m\u001B[0m\n\u001B[0;32m     57\u001B[0m \u001B[1;33m\u001B[0m\u001B[0m\n",
      "\u001B[1;31mNameError\u001B[0m: name 'TrainingPlotter' is not defined"
     ]
    }
   ]
  },
  {
   "cell_type": "code",
   "metadata": {
    "pycharm": {
     "name": "#%% plot loss\n"
    },
    "id": "99VrIpedP3z7",
    "executionInfo": {
     "status": "aborted",
     "timestamp": 1617484820848,
     "user_tz": 240,
     "elapsed": 10961,
     "user": {
      "displayName": "Jonathan Michaels",
      "photoUrl": "https://lh3.googleusercontent.com/a-/AOh14Gh0Ek1qqyQyhZw10le51afY7T-sbK20C7Lqixw3Wv8=s64",
      "userId": "10871465445165793729"
     }
    }
   },
   "source": [
    "if 'loss' in batchlog_callback.history:\n",
    "    plt.plot(batchlog_callback.history['loss'])\n",
    "    plt.xlabel('batch')\n",
    "    plt.ylabel('loss')\n",
    "    # plt.semilogy()\n",
    "    plt.show()\n"
   ],
   "execution_count": null,
   "outputs": []
  },
  {
   "cell_type": "code",
   "execution_count": null,
   "outputs": [],
   "source": [
    "init_states_sample = cell.get_initial_state(batch_size=50)\n",
    "# inputs=cell.plant.draw_fixed_states(position=np.deg2rad([45., 90.]), batch_size=50),\n",
    "goal_states = arm.draw_random_uniform_states(batch_size=50)\n",
    "target_sample = arm.state2target(state=arm.joint2cartesian(goal_states), n_timesteps=n_t)\n",
    "\n",
    "results = control_rnn([target_sample, init_states_sample], training=False)\n",
    "\n",
    "#%\n",
    "j_results = results['joint position']\n",
    "c_results = results['cartesian position']\n",
    "m_results = results['muscle state']\n",
    "\n",
    "plt.figure(figsize=(16, 4)).set_tight_layout(True)\n",
    "plt.subplot(121)\n",
    "plot_pos_over_time(cart_results=c_results)\n",
    "plt.scatter(target_sample[:, 0, 0], target_sample[:, 0, 1])\n",
    "\n",
    "plt.subplot(122)\n",
    "plot_pos_over_time(cart_results=c_results - target_sample)\n",
    "plt.xlabel('distance to target (x)')\n",
    "plt.ylabel('distance to target (y)')\n",
    "plt.show()\n"
   ],
   "metadata": {
    "collapsed": false,
    "pycharm": {
     "name": "#%%\n"
    }
   }
  },
  {
   "cell_type": "code",
   "metadata": {
    "pycharm": {
     "name": "#%%\n"
    },
    "id": "dLYSDCGfP3z8",
    "executionInfo": {
     "status": "aborted",
     "timestamp": 1617484820851,
     "user_tz": 240,
     "elapsed": 10952,
     "user": {
      "displayName": "Jonathan Michaels",
      "photoUrl": "https://lh3.googleusercontent.com/a-/AOh14Gh0Ek1qqyQyhZw10le51afY7T-sbK20C7Lqixw3Wv8=s64",
      "userId": "10871465445165793729"
     }
    }
   },
   "source": [
    "trial += 1\n",
    "plt.figure(figsize=(18, 2.5)).set_tight_layout(True)\n",
    "\n",
    "plt.subplot(161)\n",
    "plt.plot(j_results[trial, :, 0].numpy().squeeze(), label='sho')\n",
    "plt.plot(j_results[trial, :, 1].numpy().squeeze(), label='elb')\n",
    "plt.legend()\n",
    "plt.xlabel('time (ms)')\n",
    "plt.ylabel('angle (rad)')\n",
    "\n",
    "plt.subplot(162)\n",
    "plt.plot(j_results[trial, :, 2].numpy().squeeze(), label='sho')\n",
    "plt.plot(j_results[trial, :, 3].numpy().squeeze(), label='elb')\n",
    "plt.legend()\n",
    "plt.xlabel('time (ms)')\n",
    "plt.ylabel('angle velocity (rad/sec)')\n",
    "\n",
    "plt.subplot(163)\n",
    "plt.plot(m_results[trial, :, 0, :].numpy().squeeze())\n",
    "plt.xlabel('time (ms)')\n",
    "plt.ylabel('activation (a.u.)')\n",
    "\n",
    "plt.subplot(164)\n",
    "plt.plot(m_results[trial, :, 2, :].numpy().squeeze())\n",
    "plt.xlabel('time (ms)')\n",
    "plt.ylabel('muscle velocity (m/sec)')\n",
    "# plt.xlim([100, 150])\n",
    "\n",
    "plt.subplot(165)\n",
    "plt.plot(m_results[trial, :, 4, :].numpy().squeeze())\n",
    "plt.xlabel('time (ms)')\n",
    "plt.ylabel('tendon force (normalized)')\n",
    "# plt.xlim([100, 130])\n",
    "\n",
    "plt.show()\n"
   ],
   "execution_count": null,
   "outputs": []
  },
  {
   "cell_type": "code",
   "metadata": {
    "pycharm": {
     "name": "#%% Plot histogram of weight values at initialization and at end of training\n"
    },
    "id": "F2hZNvXFP3z8",
    "executionInfo": {
     "status": "aborted",
     "timestamp": 1617484820852,
     "user_tz": 240,
     "elapsed": 10946,
     "user": {
      "displayName": "Jonathan Michaels",
      "photoUrl": "https://lh3.googleusercontent.com/a-/AOh14Gh0Ek1qqyQyhZw10le51afY7T-sbK20C7Lqixw3Wv8=s64",
      "userId": "10871465445165793729"
     }
    }
   },
   "source": [
    "if len(batchlog_callback.weights_log) > 0:\n",
    "    w0 = batchlog_callback.weights_log[0]\n",
    "    w1 = batchlog_callback.weights_log[-4]\n",
    "\n",
    "    fig, axs = plt.subplots(nrows=2, ncols=len(w0), sharex='col')\n",
    "    fig.set_tight_layout(tight=True)\n",
    "    fig.set_size_inches((15, 6))\n",
    "\n",
    "    for n in range(len(w0)):\n",
    "        weights_ini = w0[n].numpy()\n",
    "        weights_fin = w1[n].numpy()\n",
    "\n",
    "        if len(weights_ini.shape) < 10:\n",
    "            axs[0,n].hist(weights_ini.flatten())\n",
    "            axs[1,n].hist(weights_fin.flatten())\n",
    "        else:\n",
    "            axs[0,n].imshow(weights_ini, interpolation='none')\n",
    "            axs[1,n].imshow(weights_fin, interpolation='none')\n",
    "\n",
    "    plt.show()\n",
    "\n"
   ],
   "execution_count": null,
   "outputs": []
  },
  {
   "cell_type": "code",
   "metadata": {
    "pycharm": {
     "name": "#%% utilities\n"
    },
    "id": "7wfLHJZjP3z8",
    "executionInfo": {
     "status": "aborted",
     "timestamp": 1617484820852,
     "user_tz": 240,
     "elapsed": 10941,
     "user": {
      "displayName": "Jonathan Michaels",
      "photoUrl": "https://lh3.googleusercontent.com/a-/AOh14Gh0Ek1qqyQyhZw10le51afY7T-sbK20C7Lqixw3Wv8=s64",
      "userId": "10871465445165793729"
     }
    }
   },
   "source": [
    "### To apply a set of weights from a previous iteration weight set w1\n",
    "# control_rnn.get_layer('RNN').set_weights([w.numpy() for w in w1])\n",
    "\n",
    "### save model\n",
    "# name = '50gru_1e-3dt_10ministeps'\n",
    "# control_rnn.save_weights(os.getcwd() + '/saved_models/compliant_tendon/' + name)"
   ],
   "execution_count": null,
   "outputs": []
  },
  {
   "cell_type": "code",
   "metadata": {
    "pycharm": {
     "name": "#%%\n"
    },
    "id": "a1USF90tP3z8",
    "executionInfo": {
     "status": "aborted",
     "timestamp": 1617484820853,
     "user_tz": 240,
     "elapsed": 10936,
     "user": {
      "displayName": "Jonathan Michaels",
      "photoUrl": "https://lh3.googleusercontent.com/a-/AOh14Gh0Ek1qqyQyhZw10le51afY7T-sbK20C7Lqixw3Wv8=s64",
      "userId": "10871465445165793729"
     }
    }
   },
   "source": [
    "\n",
    "\n",
    "\n",
    "\n",
    "\n",
    "\n",
    "\n",
    "\n",
    "\n",
    "\n",
    "\n",
    "\n",
    "\n",
    "\n",
    "\n",
    "\n",
    "\n",
    "\n",
    "\n",
    "\n",
    "\n",
    "\n"
   ],
   "execution_count": null,
   "outputs": []
  }
 ]
}