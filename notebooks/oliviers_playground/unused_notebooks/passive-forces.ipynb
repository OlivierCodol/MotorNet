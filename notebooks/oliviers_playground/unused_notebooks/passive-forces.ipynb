{
 "cells": [
  {
   "cell_type": "code",
   "execution_count": 2,
   "metadata": {
    "collapsed": true
   },
   "outputs": [],
   "source": [
    "import numpy as np\n",
    "import matplotlib.pyplot as plt\n",
    "import tensorflow as tf"
   ]
  },
  {
   "cell_type": "code",
   "execution_count": 22,
   "outputs": [
    {
     "data": {
      "text/plain": "<Figure size 432x288 with 1 Axes>",
      "image/png": "[encoded data removed]"
     },
     "metadata": {
      "needs_background": "light"
     },
     "output_type": "display_data"
    }
   ],
   "source": [
    "pe_k = 5.\n",
    "pe_1 = pe_k / 0.66\n",
    "pe_den = tf.exp(pe_k) - 1\n",
    "l0_ce = .1\n",
    "l0_pe = l0_ce * 1.4\n",
    "\n",
    "muscle_len = np.linspace(0., .2, 101).astype('float32')\n",
    "muscle_strain = (muscle_len - l0_pe) / l0_ce\n",
    "force_len_pe = tf.maximum((tf.exp(pe_1 * muscle_strain) - 1) / pe_den, 0.)\n",
    "flpe_dk = (1 / (1.66 - 1.4) ** 2) * tf.maximum(muscle_strain, 0.) ** 2\n",
    "\n",
    "plt.plot(muscle_len, force_len_pe)\n",
    "plt.plot(muscle_len, flpe_dk)\n",
    "plt.show()"
   ],
   "metadata": {
    "collapsed": false,
    "pycharm": {
     "name": "#%%\n"
    }
   }
  }
 ],
 "metadata": {
  "kernelspec": {
   "display_name": "Python 3",
   "language": "python",
   "name": "python3"
  },
  "language_info": {
   "codemirror_mode": {
    "name": "ipython",
    "version": 2
   },
   "file_extension": ".py",
   "mimetype": "text/x-python",
   "name": "python",
   "nbconvert_exporter": "python",
   "pygments_lexer": "ipython2",
   "version": "2.7.6"
  }
 },
 "nbformat": 4,
 "nbformat_minor": 0
}