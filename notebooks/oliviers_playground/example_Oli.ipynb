{
 "cells": [
  {
   "cell_type": "code",
   "execution_count": 11,
   "metadata": {
    "colab": {
     "base_uri": "https://localhost:8080/"
    },
    "executionInfo": {
     "elapsed": 244,
     "status": "ok",
     "timestamp": 1617484810056,
     "user": {
      "displayName": "Jonathan Michaels",
      "photoUrl": "https://lh3.googleusercontent.com/a-/AOh14Gh0Ek1qqyQyhZw10le51afY7T-sbK20C7Lqixw3Wv8=s64",
      "userId": "10871465445165793729"
     },
     "user_tz": 240
    },
    "id": "ExIIsASHP3zj",
    "outputId": "4d756cd0-c6d0-4db4-e180-028b1bde32b4",
    "tags": []
   },
   "outputs": [
    {
     "name": "stdout",
     "output_type": "stream",
     "text": [
      "The autoreload extension is already loaded. To reload it, use:\n",
      "  %reload_ext autoreload\n",
      "tensorflow version: 2.3.0\n"
     ]
    }
   ],
   "source": [
    "import numpy as np\n",
    "import time\n",
    "import tensorflow as tf\n",
    "import matplotlib.pyplot as plt\n",
    "import os, sys\n",
    "from tensorflow.keras.layers import Input\n",
    "from tensorflow.keras.models import Model\n",
    "\n",
    "# find root directory and add to path\n",
    "root_index = os.getcwd().rfind('notebooks')\n",
    "root_directory = os.path.dirname(os.getcwd()[:root_index])\n",
    "sys.path.append(root_directory)\n",
    "\n",
    "from MotorNet.plants import RigidTendonArm\n",
    "from MotorNet.plants.muscles import RigidTendonHillMuscleThelen\n",
    "from MotorNet.utils.plotor import plot_pos_over_time\n",
    "from MotorNet.nets.layers import GRUController\n",
    "from MotorNet.nets.callbacks import BatchLogger, TrainingPlotter\n",
    "from MotorNet.tasks.tasks import TaskStaticTarget, TaskDelayedReach, TaskDelayedMultiReach\n",
    "\n",
    "from MotorNet.nets.custommodels import MotorNetModel\n",
    "\n",
    "%load_ext autoreload\n",
    "%autoreload 2\n",
    "\n",
    "# tf.debugging.enable_check_numerics()\n",
    "print('tensorflow version: ' + tf.__version__)"
   ]
  },
  {
   "cell_type": "code",
   "execution_count": 12,
   "metadata": {},
   "outputs": [
    {
     "name": "stdout",
     "output_type": "stream",
     "text": [
      "n_t:  50\n",
      "WARNING:tensorflow:Layer lambda_136 is casting an input tensor from dtype float64 to the layer's dtype of float32, which is new behavior in TensorFlow 2.  The layer has dtype float32 because its dtype defaults to floatx.\n",
      "\n",
      "If you intended to run this layer in float32, you can safely ignore this warning. If in doubt, this warning is likely only an issue if you are porting a TensorFlow 1.X model to TensorFlow 2.\n",
      "\n",
      "To change all layers to have dtype float64 by default, call `tf.keras.backend.set_floatx('float64')`. To change just this layer, pass dtype='float64' to the layer constructor. If you are the author of this layer, you can disable autocasting by passing autocast=False to the base Layer constructor.\n",
      "\n",
      "Input shape:  (10, 205, 5)\n",
      "Target shape:  (10, 205, 4)\n"
     ]
    },
    {
     "data": {
      "text/plain": "<Figure size 432x288 with 2 Axes>",
      "image/png": "[encoded data removed]"
     },
     "metadata": {
      "needs_background": "light"
     },
     "output_type": "display_data"
    }
   ],
   "source": [
    "arm = RigidTendonArm(muscle_type=RigidTendonHillMuscleThelen(), proprioceptive_delay=0.04, visual_delay=0.13,\n",
    "                     excitation_noise_sd=0.001)\n",
    "feedback_noise = 0.001\n",
    "# kernel 0, activity 0, recurrent 0\n",
    "cell = GRUController(plant=arm, n_units=200, kernel_regularizer=10**-5, activity_regularizer=10**-4,\n",
    "                     recurrent_regularizer=10**-6, name='cell',\n",
    "                     proprioceptive_noise_sd=feedback_noise, visual_noise_sd=feedback_noise)\n",
    "\n",
    "sho = np.random.uniform(20, 80, (100, 1))\n",
    "elb = np.random.uniform(20, 80, (100, 1))\n",
    "initial_joint_state = np.deg2rad(np.concatenate([sho, elb, np.zeros_like(sho), np.zeros_like(sho)], axis=-1))\n",
    "task = TaskDelayedMultiReach(cell, initial_joint_state=initial_joint_state, delay_range=[30,50], num_target=2)\n",
    "\n",
    "task.delay_range = [30,50]\n",
    "task.variable_init = True\n",
    "task.num_target = 2\n",
    "\n",
    "n_t = int(.5 / arm.dt)\n",
    "print('n_t: ', n_t)\n",
    "[inputs, targets, init_states] = task.generate(n_timesteps=n_t, batch_size=10)\n",
    "print(\"Input shape: \", inputs.shape)\n",
    "print(\"Target shape: \" , targets.shape)\n",
    "fig, axs = plt.subplots(2,1)\n",
    "axs[0].plot(inputs[0])\n",
    "axs[1].plot(targets[0])\n",
    "plt.show()"
   ]
  },
  {
   "cell_type": "code",
   "execution_count": 14,
   "metadata": {},
   "outputs": [
    {
     "name": "stdout",
     "output_type": "stream",
     "text": [
      "WARNING:tensorflow:Layer lambda_170 is casting an input tensor from dtype float64 to the layer's dtype of float32, which is new behavior in TensorFlow 2.  The layer has dtype float32 because its dtype defaults to floatx.\n",
      "\n",
      "If you intended to run this layer in float32, you can safely ignore this warning. If in doubt, this warning is likely only an issue if you are porting a TensorFlow 1.X model to TensorFlow 2.\n",
      "\n",
      "To change all layers to have dtype float64 by default, call `tf.keras.backend.set_floatx('float64')`. To change just this layer, pass dtype='float64' to the layer constructor. If you are the author of this layer, you can disable autocasting by passing autocast=False to the base Layer constructor.\n",
      "\n",
      "Model: \"controller\"\n",
      "__________________________________________________________________________________________________\n",
      "Layer (type)                    Output Shape         Param #     Connected to                     \n",
      "==================================================================================================\n",
      "input_3 (InputLayer)            [(None, None, 3)]    0                                            \n",
      "__________________________________________________________________________________________________\n",
      "joint0 (InputLayer)             [(None, 4)]          0                                            \n",
      "__________________________________________________________________________________________________\n",
      "cartesian0 (InputLayer)         [(None, 4)]          0                                            \n",
      "__________________________________________________________________________________________________\n",
      "muscle0 (InputLayer)            [(None, 6, 6)]       0                                            \n",
      "__________________________________________________________________________________________________\n",
      "geometry0 (InputLayer)          [(None, 4, 6)]       0                                            \n",
      "__________________________________________________________________________________________________\n",
      "proprio_feedback0 (InputLayer)  [(None, 12, 4)]      0                                            \n",
      "__________________________________________________________________________________________________\n",
      "visual_feedback0 (InputLayer)   [(None, 2, 13)]      0                                            \n",
      "__________________________________________________________________________________________________\n",
      "gru0_hidden0 (InputLayer)       [(None, 200)]        0                                            \n",
      "__________________________________________________________________________________________________\n",
      "RNN (RNN)                       {'joint position': ( 132606      input_3[0][0]                    \n",
      "                                                                 joint0[0][0]                     \n",
      "                                                                 cartesian0[0][0]                 \n",
      "                                                                 muscle0[0][0]                    \n",
      "                                                                 geometry0[0][0]                  \n",
      "                                                                 proprio_feedback0[0][0]          \n",
      "                                                                 visual_feedback0[0][0]           \n",
      "                                                                 gru0_hidden0[0][0]               \n",
      "==================================================================================================\n",
      "Total params: 132,606\n",
      "Trainable params: 132,606\n",
      "Non-trainable params: 0\n",
      "__________________________________________________________________________________________________\n"
     ]
    },
    {
     "data": {
      "text/plain": "{'cartesian position': <function MotorNet.nets.losses.position_loss.<locals>.loss(y_true, y_pred)>,\n 'muscle state': <function MotorNet.nets.losses.activation_squared_loss.<locals>.loss(y_true, y_pred)>}"
     },
     "execution_count": 14,
     "metadata": {},
     "output_type": "execute_result"
    }
   ],
   "source": [
    "arm = RigidTendonArm(muscle_type=RigidTendonHillMuscleThelen(), proprioceptive_delay=0.04, visual_delay=0.13,\n",
    "                     excitation_noise_sd=0.001)\n",
    "feedback_noise = 0.001\n",
    "# kernel 0, activity 0, recurrent 0\n",
    "cell = GRUController(plant=arm, n_units=200, kernel_regularizer=10**-5, activity_regularizer=10**-4,\n",
    "                     recurrent_regularizer=10**-6, name='cell',\n",
    "                     proprioceptive_noise_sd=feedback_noise, visual_noise_sd=feedback_noise)\n",
    "\n",
    "sho = np.random.uniform(20, 80, (100, 1))\n",
    "elb = np.random.uniform(20, 80, (100, 1))\n",
    "initial_joint_state = np.deg2rad(np.concatenate([sho, elb, np.zeros_like(sho), np.zeros_like(sho)], axis=-1))\n",
    "task = TaskDelayedMultiReach(cell, initial_joint_state=initial_joint_state, delay_range=[30,50], num_target=2)\n",
    "task.delay_range = [10,80]\n",
    "task.num_target = 1\n",
    "batch_size = 64\n",
    "\n",
    "\n",
    "# declare inputs\n",
    "targets = Input((None, arm.state_dim,), name='target')\n",
    "inputs = Input((None, task.get_input_dim()))\n",
    "state0 = [Input((arm.state_dim, ), name='joint0'),\n",
    "          Input((arm.state_dim, ), name='cartesian0'),\n",
    "          Input((arm.muscle_state_dim, arm.n_muscles, ), name='muscle0'),\n",
    "          Input((arm.geometry_state_dim, arm.n_muscles, ), name='geometry0'),\n",
    "          Input((arm.n_muscles*2, arm.proprioceptive_delay, ), name='proprio_feedback0'),\n",
    "          Input((arm.space_dim, arm.visual_delay, ), name='visual_feedback0')]\n",
    "state0.extend([Input((n, ), name='gru' + str(k) + '_hidden0') for k, n in enumerate(cell.n_units)])\n",
    "\n",
    "\n",
    "# wrap cell in an RNN layer\n",
    "states_out = tf.keras.layers.RNN(cell=cell, return_sequences=True, name='RNN')(inputs, initial_state=state0)\n",
    "control_rnn = MotorNetModel(inputs=[inputs, state0], outputs=states_out, task=task, name='controller')\n",
    "\n",
    "# pull the losses from the task itself\n",
    "[losses, loss_weights] = task.get_losses()\n",
    "\n",
    "# and compile\n",
    "control_rnn.compile(optimizer=tf.optimizers.Adam(learning_rate=0.001, clipnorm=1.), loss=losses, loss_weights=loss_weights)\n",
    "batchlog_callback = BatchLogger()\n",
    "trainingplot_callback = TrainingPlotter(task, plot_freq=100)\n",
    "control_rnn.summary()\n",
    "losses"
   ]
  },
  {
   "cell_type": "code",
   "execution_count": null,
   "metadata": {},
   "outputs": [],
   "source": [
    "#name = '50gru_1e-3dt_weights'\n",
    "#control_rnn.load_weights(os.getcwd() + '/saved_models/' + name)\n",
    "\n",
    "\n",
    "batch_size = 64\n",
    "dataset_size = 30 * batch_size\n",
    "n_t = int(1 / arm.dt)\n",
    "\n",
    "# Test A\n",
    "# Work without specifying any initial joint state\n",
    "\n",
    "\n",
    "# Test B\n",
    "# This works\n",
    "# task.initial_joint_state = np.deg2rad([90., 45., 0., 0.])\n",
    "\n",
    "\n",
    "# Test C\n",
    "# When removeing expland_dim from Task line 26, this should work!\n",
    "#task.initial_joint_state = np.deg2rad(\n",
    "#np.concatenate((\n",
    "#np.random.uniform(low=arm.pos_lower_bound[0], high=arm.pos_upper_bound[0], size=(dataset_size, 1)),\n",
    "#np.random.uniform(low=arm.pos_lower_bound[1], high=arm.pos_upper_bound[1], size=(dataset_size, 1)),\n",
    "#np.zeros((dataset_size,2))\n",
    "#    ), axis=1)\n",
    "#)\n",
    "\n",
    "\n",
    "with tf.device('/cpu:0'):\n",
    "    for _ in range(1):\n",
    "        [inputs, targets, init_states] = task.generate(batch_size=dataset_size, n_timesteps=n_t)\n",
    "        control_rnn.fit([inputs, init_states], targets, epochs=1, batch_size=batch_size, verbose=1, callbacks=[batchlog_callback, trainingplot_callback], shuffle=False)"
   ]
  },
  {
   "cell_type": "code",
   "execution_count": null,
   "outputs": [],
   "source": [
    "[inputs, targets, init_states] = task.generate(batch_size=dataset_size, n_timesteps=n_t)\n",
    "\n",
    "print(inputs.shape)\n",
    "print(targets.shape)\n",
    "test = [print(s.shape) for s in init_states]"
   ],
   "metadata": {
    "collapsed": false,
    "pycharm": {
     "name": "#%%\n"
    }
   }
  }
 ],
 "metadata": {
  "colab": {
   "collapsed_sections": [],
   "name": "Copy of rigid_tendon.ipynb",
   "provenance": [
    {
     "file_id": "https://github.com/OlivierCodol/LS_replication/blob/JAM/rigid_tendon.ipynb",
     "timestamp": 1617481277374
    }
   ]
  },
  "kernelspec": {
   "name": "base",
   "language": "python",
   "display_name": "base"
  },
  "language_info": {
   "codemirror_mode": {
    "name": "ipython",
    "version": 3
   },
   "file_extension": ".py",
   "mimetype": "text/x-python",
   "name": "python",
   "nbconvert_exporter": "python",
   "pygments_lexer": "ipython3",
   "version": "3.9.2"
  }
 },
 "nbformat": 4,
 "nbformat_minor": 4
}