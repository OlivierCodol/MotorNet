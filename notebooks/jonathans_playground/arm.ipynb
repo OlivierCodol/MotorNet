{
 "nbformat": 4,
 "nbformat_minor": 0,
 "metadata": {
  "kernelspec": {
   "name": "python3",
   "language": "python",
   "display_name": "Python 3"
  },
  "language_info": {
   "codemirror_mode": {
    "name": "ipython",
    "version": 2
   },
   "file_extension": ".py",
   "mimetype": "text/x-python",
   "name": "python",
   "nbconvert_exporter": "python",
   "pygments_lexer": "ipython2",
   "version": "2.7.6"
  },
  "colab": {
   "name": "Copy of rigid_tendon.ipynb",
   "provenance": [
    {
     "file_id": "https://github.com/OlivierCodol/LS_replication/blob/JAM/rigid_tendon.ipynb",
     "timestamp": 1617481277374
    }
   ],
   "collapsed_sections": []
  }
 },
 "cells": [
  {
   "cell_type": "code",
   "metadata": {
    "collapsed": true,
    "id": "ExIIsASHP3zj",
    "colab": {
     "base_uri": "https://localhost:8080/"
    },
    "executionInfo": {
     "status": "ok",
     "timestamp": 1617484810056,
     "user_tz": 240,
     "elapsed": 244,
     "user": {
      "displayName": "Jonathan Michaels",
      "photoUrl": "https://lh3.googleusercontent.com/a-/AOh14Gh0Ek1qqyQyhZw10le51afY7T-sbK20C7Lqixw3Wv8=s64",
      "userId": "10871465445165793729"
     }
    },
    "outputId": "4d756cd0-c6d0-4db4-e180-028b1bde32b4"
   },
   "source": [
    "import numpy as np\n",
    "import time\n",
    "import tensorflow as tf\n",
    "import matplotlib.pyplot as plt\n",
    "import os, sys\n",
    "from tensorflow.keras.layers import Input\n",
    "from tensorflow.keras.models import Model\n",
    "\n",
    "# find root directory and add to path\n",
    "root_index = os.getcwd().rfind('notebooks')\n",
    "root_directory = os.path.dirname(os.getcwd()[:root_index])\n",
    "sys.path.append(root_directory)\n",
    "\n",
    "from MotorNet.plants import RigidTendonArm\n",
    "from MotorNet.plants.muscles import RigidTendonHillMuscle, RigidTendonHillMuscleThelen\n",
    "from MotorNet.utils.plotor import plot_pos_over_time\n",
    "from MotorNet.nets.layers import GRUController\n",
    "from MotorNet.nets.callbacks import BatchLogger, TrainingPlotter\n",
    "from MotorNet.tasks.tasks import TaskStaticTarget, TaskDelayedReach, TaskStaticTargetWithPerturbations\n",
    "\n",
    "from MotorNet.nets.custommodels import MotorNetModel\n",
    "\n",
    "%load_ext autoreload\n",
    "%autoreload 2\n",
    "\n",
    "# tf.debugging.enable_check_numerics()\n",
    "print('tensorflow version: ' + tf.__version__)"
   ],
   "execution_count": 2,
   "outputs": [
    {
     "name": "stdout",
     "output_type": "stream",
     "text": [
      "tensorflow version: 2.4.1\n"
     ]
    }
   ]
  },
  {
   "cell_type": "code",
   "metadata": {
    "pycharm": {
     "name": "#%% Create model\n"
    },
    "id": "N1MiHNq0P3z7",
    "colab": {
     "base_uri": "https://localhost:8080/",
     "height": 375
    },
    "executionInfo": {
     "status": "error",
     "timestamp": 1617484820853,
     "user_tz": 240,
     "elapsed": 10976,
     "user": {
      "displayName": "Jonathan Michaels",
      "photoUrl": "https://lh3.googleusercontent.com/a-/AOh14Gh0Ek1qqyQyhZw10le51afY7T-sbK20C7Lqixw3Wv8=s64",
      "userId": "10871465445165793729"
     }
    },
    "outputId": "b448355d-1220-462b-dac3-7b7df876fb1d"
   },
   "source": [
    "arm = RigidTendonArm(muscle_type=RigidTendonHillMuscleThelen(), proprioceptive_delay=0.04, visual_delay=0.13)\n",
    "regularizer = 10**-6\n",
    "feedback_noise = 0.\n",
    "cell = GRUController(plant=arm, n_units=50, kernel_regularizer=regularizer, activity_regularizer=0., recurrent_regularizer=0.,\n",
    "                     name='cell',\n",
    "                     proprioceptive_noise_sd=feedback_noise, visual_noise_sd=feedback_noise)\n",
    "task = TaskStaticTarget(arm, cell)\n",
    "\n",
    "# declare inputs\n",
    "targets = Input((None, arm.state_dim,), name='target')\n",
    "inputs = Input((None, task.get_input_dim()))\n",
    "state0 = [Input((arm.state_dim, ), name='joint0'),\n",
    "          Input((arm.state_dim, ), name='cartesian0'),\n",
    "          Input((arm.muscle_state_dim, arm.n_muscles, ), name='muscle0'),\n",
    "          Input((arm.geometry_state_dim, arm.n_muscles, ), name='geometry0'),\n",
    "          Input((arm.n_muscles*2, arm.proprioceptive_delay, ), name='proprio_feedback0'),\n",
    "          Input((arm.space_dim, arm.visual_delay, ), name='visual_feedback0')]\n",
    "state0.extend([Input((n, ), name='gru' + str(k) + '_hidden0') for k, n in enumerate(cell.n_units)])\n",
    "\n",
    "\n",
    "# wrap cell in an RNN layer\n",
    "states_out = tf.keras.layers.RNN(cell=cell, return_sequences=True, name='RNN')(inputs, initial_state=state0)\n",
    "control_rnn = MotorNetModel(inputs=[inputs, state0], outputs=states_out, name='controller')\n",
    "\n",
    "# pull the losses from the task itself\n",
    "[losses, loss_weights] = task.get_losses()\n",
    "\n",
    "# and compile\n",
    "control_rnn.compile(optimizer=tf.optimizers.Adam(learning_rate=0.001), loss=losses, loss_weights=loss_weights)\n",
    "batchlog_callback = BatchLogger()\n",
    "trainingplot_callback = TrainingPlotter(task, plot_freq=100)\n",
    "control_rnn.summary()\n",
    "losses"
   ],
   "execution_count": 3,
   "outputs": [
    {
     "ename": "ValueError",
     "evalue": "Attempt to convert a value (None) with an unsupported type (<class 'NoneType'>) to a Tensor.",
     "output_type": "error",
     "traceback": [
      "\u001B[0;31m---------------------------------------------------------------------------\u001B[0m",
      "\u001B[0;31mValueError\u001B[0m                                Traceback (most recent call last)",
      "\u001B[0;32m<ipython-input-3-5d66efd10cef>\u001B[0m in \u001B[0;36m<module>\u001B[0;34m\u001B[0m\n\u001B[0;32m----> 1\u001B[0;31m \u001B[0marm\u001B[0m \u001B[0;34m=\u001B[0m \u001B[0mRigidTendonArm\u001B[0m\u001B[0;34m(\u001B[0m\u001B[0mmuscle_type\u001B[0m\u001B[0;34m=\u001B[0m\u001B[0mRigidTendonHillMuscleThelen\u001B[0m\u001B[0;34m(\u001B[0m\u001B[0;34m)\u001B[0m\u001B[0;34m,\u001B[0m \u001B[0mproprioceptive_delay\u001B[0m\u001B[0;34m=\u001B[0m\u001B[0;36m0.04\u001B[0m\u001B[0;34m,\u001B[0m \u001B[0mvisual_delay\u001B[0m\u001B[0;34m=\u001B[0m\u001B[0;36m0.13\u001B[0m\u001B[0;34m)\u001B[0m\u001B[0;34m\u001B[0m\u001B[0;34m\u001B[0m\u001B[0m\n\u001B[0m\u001B[1;32m      2\u001B[0m \u001B[0mregularizer\u001B[0m \u001B[0;34m=\u001B[0m \u001B[0;36m10\u001B[0m\u001B[0;34m**\u001B[0m\u001B[0;34m-\u001B[0m\u001B[0;36m6\u001B[0m\u001B[0;34m\u001B[0m\u001B[0;34m\u001B[0m\u001B[0m\n\u001B[1;32m      3\u001B[0m \u001B[0mfeedback_noise\u001B[0m \u001B[0;34m=\u001B[0m \u001B[0;36m0.\u001B[0m\u001B[0;34m\u001B[0m\u001B[0;34m\u001B[0m\u001B[0m\n\u001B[1;32m      4\u001B[0m cell = GRUController(plant=arm, n_units=50, kernel_regularizer=regularizer, activity_regularizer=0., recurrent_regularizer=0.,\n\u001B[1;32m      5\u001B[0m                      \u001B[0mname\u001B[0m\u001B[0;34m=\u001B[0m\u001B[0;34m'cell'\u001B[0m\u001B[0;34m,\u001B[0m\u001B[0;34m\u001B[0m\u001B[0;34m\u001B[0m\u001B[0m\n",
      "\u001B[0;32m~/Desktop/MotorNet/MotorNet/plants/__init__.py\u001B[0m in \u001B[0;36m__init__\u001B[0;34m(self, muscle_type, skeleton, timestep, **kwargs)\u001B[0m\n\u001B[1;32m    273\u001B[0m         \u001B[0mself\u001B[0m\u001B[0;34m.\u001B[0m\u001B[0minput_dim\u001B[0m \u001B[0;34m=\u001B[0m \u001B[0mself\u001B[0m\u001B[0;34m.\u001B[0m\u001B[0mn_muscles\u001B[0m\u001B[0;34m\u001B[0m\u001B[0;34m\u001B[0m\u001B[0m\n\u001B[1;32m    274\u001B[0m         \u001B[0mself\u001B[0m\u001B[0;34m.\u001B[0m\u001B[0mmuscle_name\u001B[0m \u001B[0;34m=\u001B[0m \u001B[0;34m[\u001B[0m\u001B[0;34m'pectoralis'\u001B[0m\u001B[0;34m,\u001B[0m \u001B[0;34m'deltoid'\u001B[0m\u001B[0;34m,\u001B[0m \u001B[0;34m'brachioradialis'\u001B[0m\u001B[0;34m,\u001B[0m \u001B[0;34m'tricepslat'\u001B[0m\u001B[0;34m,\u001B[0m \u001B[0;34m'biceps'\u001B[0m\u001B[0;34m,\u001B[0m \u001B[0;34m'tricepslong'\u001B[0m\u001B[0;34m]\u001B[0m\u001B[0;34m\u001B[0m\u001B[0;34m\u001B[0m\u001B[0m\n\u001B[0;32m--> 275\u001B[0;31m         self.Muscle.build(\n\u001B[0m\u001B[1;32m    276\u001B[0m             \u001B[0mtimestep\u001B[0m\u001B[0;34m=\u001B[0m\u001B[0mself\u001B[0m\u001B[0;34m.\u001B[0m\u001B[0mdt\u001B[0m\u001B[0;34m,\u001B[0m\u001B[0;34m\u001B[0m\u001B[0;34m\u001B[0m\u001B[0m\n\u001B[1;32m    277\u001B[0m             \u001B[0mmax_isometric_force\u001B[0m\u001B[0;34m=\u001B[0m\u001B[0;34m[\u001B[0m\u001B[0;36m838\u001B[0m\u001B[0;34m,\u001B[0m \u001B[0;36m1207\u001B[0m\u001B[0;34m,\u001B[0m \u001B[0;36m1422\u001B[0m\u001B[0;34m,\u001B[0m \u001B[0;36m1549\u001B[0m\u001B[0;34m,\u001B[0m \u001B[0;36m414\u001B[0m\u001B[0;34m,\u001B[0m \u001B[0;36m603\u001B[0m\u001B[0;34m]\u001B[0m\u001B[0;34m,\u001B[0m\u001B[0;34m\u001B[0m\u001B[0;34m\u001B[0m\u001B[0m\n",
      "\u001B[0;32m~/Desktop/MotorNet/MotorNet/plants/muscles.py\u001B[0m in \u001B[0;36mbuild\u001B[0;34m(self, timestep, max_isometric_force, **kwargs)\u001B[0m\n\u001B[1;32m    241\u001B[0m         \u001B[0mself\u001B[0m\u001B[0;34m.\u001B[0m\u001B[0ml0_ce\u001B[0m \u001B[0;34m=\u001B[0m \u001B[0mtf\u001B[0m\u001B[0;34m.\u001B[0m\u001B[0mreshape\u001B[0m\u001B[0;34m(\u001B[0m\u001B[0mtf\u001B[0m\u001B[0;34m.\u001B[0m\u001B[0mcast\u001B[0m\u001B[0;34m(\u001B[0m\u001B[0moptimal_muscle_length\u001B[0m\u001B[0;34m,\u001B[0m \u001B[0mdtype\u001B[0m\u001B[0;34m=\u001B[0m\u001B[0mtf\u001B[0m\u001B[0;34m.\u001B[0m\u001B[0mfloat32\u001B[0m\u001B[0;34m)\u001B[0m\u001B[0;34m,\u001B[0m \u001B[0;34m(\u001B[0m\u001B[0;36m1\u001B[0m\u001B[0;34m,\u001B[0m \u001B[0;36m1\u001B[0m\u001B[0;34m,\u001B[0m \u001B[0mself\u001B[0m\u001B[0;34m.\u001B[0m\u001B[0mn_muscles\u001B[0m\u001B[0;34m)\u001B[0m\u001B[0;34m)\u001B[0m\u001B[0;34m\u001B[0m\u001B[0;34m\u001B[0m\u001B[0m\n\u001B[1;32m    242\u001B[0m         \u001B[0mself\u001B[0m\u001B[0;34m.\u001B[0m\u001B[0ml0_pe\u001B[0m \u001B[0;34m=\u001B[0m \u001B[0mself\u001B[0m\u001B[0;34m.\u001B[0m\u001B[0ml0_ce\u001B[0m \u001B[0;34m*\u001B[0m \u001B[0mnormalized_slack_muscle_length\u001B[0m\u001B[0;34m\u001B[0m\u001B[0;34m\u001B[0m\u001B[0m\n\u001B[0;32m--> 243\u001B[0;31m         \u001B[0mself\u001B[0m\u001B[0;34m.\u001B[0m\u001B[0mmusculotendon_slack_len\u001B[0m \u001B[0;34m=\u001B[0m \u001B[0mself\u001B[0m\u001B[0;34m.\u001B[0m\u001B[0ml0_pe\u001B[0m \u001B[0;34m+\u001B[0m \u001B[0mself\u001B[0m\u001B[0;34m.\u001B[0m\u001B[0ml0_se\u001B[0m\u001B[0;34m\u001B[0m\u001B[0;34m\u001B[0m\u001B[0m\n\u001B[0m\u001B[1;32m    244\u001B[0m         \u001B[0mself\u001B[0m\u001B[0;34m.\u001B[0m\u001B[0mvmax\u001B[0m \u001B[0;34m=\u001B[0m \u001B[0;36m10\u001B[0m \u001B[0;34m*\u001B[0m \u001B[0mself\u001B[0m\u001B[0;34m.\u001B[0m\u001B[0ml0_ce\u001B[0m\u001B[0;34m\u001B[0m\u001B[0;34m\u001B[0m\u001B[0m\n\u001B[1;32m    245\u001B[0m         \u001B[0mself\u001B[0m\u001B[0;34m.\u001B[0m\u001B[0ml0_se\u001B[0m \u001B[0;34m=\u001B[0m \u001B[0mtf\u001B[0m\u001B[0;34m.\u001B[0m\u001B[0mreshape\u001B[0m\u001B[0;34m(\u001B[0m\u001B[0mtf\u001B[0m\u001B[0;34m.\u001B[0m\u001B[0mcast\u001B[0m\u001B[0;34m(\u001B[0m\u001B[0mtendon_length\u001B[0m\u001B[0;34m,\u001B[0m \u001B[0mdtype\u001B[0m\u001B[0;34m=\u001B[0m\u001B[0mtf\u001B[0m\u001B[0;34m.\u001B[0m\u001B[0mfloat32\u001B[0m\u001B[0;34m)\u001B[0m\u001B[0;34m,\u001B[0m \u001B[0;34m(\u001B[0m\u001B[0;36m1\u001B[0m\u001B[0;34m,\u001B[0m \u001B[0;36m1\u001B[0m\u001B[0;34m,\u001B[0m \u001B[0mself\u001B[0m\u001B[0;34m.\u001B[0m\u001B[0mn_muscles\u001B[0m\u001B[0;34m)\u001B[0m\u001B[0;34m)\u001B[0m\u001B[0;34m\u001B[0m\u001B[0;34m\u001B[0m\u001B[0m\n",
      "\u001B[0;32m/usr/lib/python3/dist-packages/tensorflow/python/ops/math_ops.py\u001B[0m in \u001B[0;36mbinary_op_wrapper\u001B[0;34m(x, y)\u001B[0m\n\u001B[1;32m   1162\u001B[0m     \u001B[0;32mwith\u001B[0m \u001B[0mops\u001B[0m\u001B[0;34m.\u001B[0m\u001B[0mname_scope\u001B[0m\u001B[0;34m(\u001B[0m\u001B[0;32mNone\u001B[0m\u001B[0;34m,\u001B[0m \u001B[0mop_name\u001B[0m\u001B[0;34m,\u001B[0m \u001B[0;34m[\u001B[0m\u001B[0mx\u001B[0m\u001B[0;34m,\u001B[0m \u001B[0my\u001B[0m\u001B[0;34m]\u001B[0m\u001B[0;34m)\u001B[0m \u001B[0;32mas\u001B[0m \u001B[0mname\u001B[0m\u001B[0;34m:\u001B[0m\u001B[0;34m\u001B[0m\u001B[0;34m\u001B[0m\u001B[0m\n\u001B[1;32m   1163\u001B[0m       \u001B[0;32mtry\u001B[0m\u001B[0;34m:\u001B[0m\u001B[0;34m\u001B[0m\u001B[0;34m\u001B[0m\u001B[0m\n\u001B[0;32m-> 1164\u001B[0;31m         \u001B[0;32mreturn\u001B[0m \u001B[0mfunc\u001B[0m\u001B[0;34m(\u001B[0m\u001B[0mx\u001B[0m\u001B[0;34m,\u001B[0m \u001B[0my\u001B[0m\u001B[0;34m,\u001B[0m \u001B[0mname\u001B[0m\u001B[0;34m=\u001B[0m\u001B[0mname\u001B[0m\u001B[0;34m)\u001B[0m\u001B[0;34m\u001B[0m\u001B[0;34m\u001B[0m\u001B[0m\n\u001B[0m\u001B[1;32m   1165\u001B[0m       \u001B[0;32mexcept\u001B[0m \u001B[0;34m(\u001B[0m\u001B[0mTypeError\u001B[0m\u001B[0;34m,\u001B[0m \u001B[0mValueError\u001B[0m\u001B[0;34m)\u001B[0m \u001B[0;32mas\u001B[0m \u001B[0me\u001B[0m\u001B[0;34m:\u001B[0m\u001B[0;34m\u001B[0m\u001B[0;34m\u001B[0m\u001B[0m\n\u001B[1;32m   1166\u001B[0m         \u001B[0;31m# Even if dispatching the op failed, the RHS may be a tensor aware\u001B[0m\u001B[0;34m\u001B[0m\u001B[0;34m\u001B[0m\u001B[0;34m\u001B[0m\u001B[0m\n",
      "\u001B[0;32m/usr/lib/python3/dist-packages/tensorflow/python/util/dispatch.py\u001B[0m in \u001B[0;36mwrapper\u001B[0;34m(*args, **kwargs)\u001B[0m\n\u001B[1;32m    199\u001B[0m     \u001B[0;34m\"\"\"Call target, and fall back on dispatchers if there is a TypeError.\"\"\"\u001B[0m\u001B[0;34m\u001B[0m\u001B[0;34m\u001B[0m\u001B[0m\n\u001B[1;32m    200\u001B[0m     \u001B[0;32mtry\u001B[0m\u001B[0;34m:\u001B[0m\u001B[0;34m\u001B[0m\u001B[0;34m\u001B[0m\u001B[0m\n\u001B[0;32m--> 201\u001B[0;31m       \u001B[0;32mreturn\u001B[0m \u001B[0mtarget\u001B[0m\u001B[0;34m(\u001B[0m\u001B[0;34m*\u001B[0m\u001B[0margs\u001B[0m\u001B[0;34m,\u001B[0m \u001B[0;34m**\u001B[0m\u001B[0mkwargs\u001B[0m\u001B[0;34m)\u001B[0m\u001B[0;34m\u001B[0m\u001B[0;34m\u001B[0m\u001B[0m\n\u001B[0m\u001B[1;32m    202\u001B[0m     \u001B[0;32mexcept\u001B[0m \u001B[0;34m(\u001B[0m\u001B[0mTypeError\u001B[0m\u001B[0;34m,\u001B[0m \u001B[0mValueError\u001B[0m\u001B[0;34m)\u001B[0m\u001B[0;34m:\u001B[0m\u001B[0;34m\u001B[0m\u001B[0;34m\u001B[0m\u001B[0m\n\u001B[1;32m    203\u001B[0m       \u001B[0;31m# Note: convert_to_eager_tensor currently raises a ValueError, not a\u001B[0m\u001B[0;34m\u001B[0m\u001B[0;34m\u001B[0m\u001B[0;34m\u001B[0m\u001B[0m\n",
      "\u001B[0;32m/usr/lib/python3/dist-packages/tensorflow/python/ops/math_ops.py\u001B[0m in \u001B[0;36m_add_dispatch\u001B[0;34m(x, y, name)\u001B[0m\n\u001B[1;32m   1480\u001B[0m   if not isinstance(y, ops.Tensor) and not isinstance(\n\u001B[1;32m   1481\u001B[0m       y, sparse_tensor.SparseTensor):\n\u001B[0;32m-> 1482\u001B[0;31m     \u001B[0my\u001B[0m \u001B[0;34m=\u001B[0m \u001B[0mops\u001B[0m\u001B[0;34m.\u001B[0m\u001B[0mconvert_to_tensor\u001B[0m\u001B[0;34m(\u001B[0m\u001B[0my\u001B[0m\u001B[0;34m,\u001B[0m \u001B[0mdtype_hint\u001B[0m\u001B[0;34m=\u001B[0m\u001B[0mx\u001B[0m\u001B[0;34m.\u001B[0m\u001B[0mdtype\u001B[0m\u001B[0;34m.\u001B[0m\u001B[0mbase_dtype\u001B[0m\u001B[0;34m,\u001B[0m \u001B[0mname\u001B[0m\u001B[0;34m=\u001B[0m\u001B[0;34m\"y\"\u001B[0m\u001B[0;34m)\u001B[0m\u001B[0;34m\u001B[0m\u001B[0;34m\u001B[0m\u001B[0m\n\u001B[0m\u001B[1;32m   1483\u001B[0m   \u001B[0;32mif\u001B[0m \u001B[0mx\u001B[0m\u001B[0;34m.\u001B[0m\u001B[0mdtype\u001B[0m \u001B[0;34m==\u001B[0m \u001B[0mdtypes\u001B[0m\u001B[0;34m.\u001B[0m\u001B[0mstring\u001B[0m\u001B[0;34m:\u001B[0m\u001B[0;34m\u001B[0m\u001B[0;34m\u001B[0m\u001B[0m\n\u001B[1;32m   1484\u001B[0m     \u001B[0;32mreturn\u001B[0m \u001B[0mgen_math_ops\u001B[0m\u001B[0;34m.\u001B[0m\u001B[0madd\u001B[0m\u001B[0;34m(\u001B[0m\u001B[0mx\u001B[0m\u001B[0;34m,\u001B[0m \u001B[0my\u001B[0m\u001B[0;34m,\u001B[0m \u001B[0mname\u001B[0m\u001B[0;34m=\u001B[0m\u001B[0mname\u001B[0m\u001B[0;34m)\u001B[0m\u001B[0;34m\u001B[0m\u001B[0;34m\u001B[0m\u001B[0m\n",
      "\u001B[0;32m/usr/lib/python3/dist-packages/tensorflow/python/profiler/trace.py\u001B[0m in \u001B[0;36mwrapped\u001B[0;34m(*args, **kwargs)\u001B[0m\n\u001B[1;32m    161\u001B[0m         \u001B[0;32mwith\u001B[0m \u001B[0mTrace\u001B[0m\u001B[0;34m(\u001B[0m\u001B[0mtrace_name\u001B[0m\u001B[0;34m,\u001B[0m \u001B[0;34m**\u001B[0m\u001B[0mtrace_kwargs\u001B[0m\u001B[0;34m)\u001B[0m\u001B[0;34m:\u001B[0m\u001B[0;34m\u001B[0m\u001B[0;34m\u001B[0m\u001B[0m\n\u001B[1;32m    162\u001B[0m           \u001B[0;32mreturn\u001B[0m \u001B[0mfunc\u001B[0m\u001B[0;34m(\u001B[0m\u001B[0;34m*\u001B[0m\u001B[0margs\u001B[0m\u001B[0;34m,\u001B[0m \u001B[0;34m**\u001B[0m\u001B[0mkwargs\u001B[0m\u001B[0;34m)\u001B[0m\u001B[0;34m\u001B[0m\u001B[0;34m\u001B[0m\u001B[0m\n\u001B[0;32m--> 163\u001B[0;31m       \u001B[0;32mreturn\u001B[0m \u001B[0mfunc\u001B[0m\u001B[0;34m(\u001B[0m\u001B[0;34m*\u001B[0m\u001B[0margs\u001B[0m\u001B[0;34m,\u001B[0m \u001B[0;34m**\u001B[0m\u001B[0mkwargs\u001B[0m\u001B[0;34m)\u001B[0m\u001B[0;34m\u001B[0m\u001B[0;34m\u001B[0m\u001B[0m\n\u001B[0m\u001B[1;32m    164\u001B[0m \u001B[0;34m\u001B[0m\u001B[0m\n\u001B[1;32m    165\u001B[0m     \u001B[0;32mreturn\u001B[0m \u001B[0mwrapped\u001B[0m\u001B[0;34m\u001B[0m\u001B[0;34m\u001B[0m\u001B[0m\n",
      "\u001B[0;32m/usr/lib/python3/dist-packages/tensorflow/python/framework/ops.py\u001B[0m in \u001B[0;36mconvert_to_tensor\u001B[0;34m(value, dtype, name, as_ref, preferred_dtype, dtype_hint, ctx, accepted_result_types)\u001B[0m\n\u001B[1;32m   1538\u001B[0m \u001B[0;34m\u001B[0m\u001B[0m\n\u001B[1;32m   1539\u001B[0m     \u001B[0;32mif\u001B[0m \u001B[0mret\u001B[0m \u001B[0;32mis\u001B[0m \u001B[0;32mNone\u001B[0m\u001B[0;34m:\u001B[0m\u001B[0;34m\u001B[0m\u001B[0;34m\u001B[0m\u001B[0m\n\u001B[0;32m-> 1540\u001B[0;31m       \u001B[0mret\u001B[0m \u001B[0;34m=\u001B[0m \u001B[0mconversion_func\u001B[0m\u001B[0;34m(\u001B[0m\u001B[0mvalue\u001B[0m\u001B[0;34m,\u001B[0m \u001B[0mdtype\u001B[0m\u001B[0;34m=\u001B[0m\u001B[0mdtype\u001B[0m\u001B[0;34m,\u001B[0m \u001B[0mname\u001B[0m\u001B[0;34m=\u001B[0m\u001B[0mname\u001B[0m\u001B[0;34m,\u001B[0m \u001B[0mas_ref\u001B[0m\u001B[0;34m=\u001B[0m\u001B[0mas_ref\u001B[0m\u001B[0;34m)\u001B[0m\u001B[0;34m\u001B[0m\u001B[0;34m\u001B[0m\u001B[0m\n\u001B[0m\u001B[1;32m   1541\u001B[0m \u001B[0;34m\u001B[0m\u001B[0m\n\u001B[1;32m   1542\u001B[0m     \u001B[0;32mif\u001B[0m \u001B[0mret\u001B[0m \u001B[0;32mis\u001B[0m \u001B[0mNotImplemented\u001B[0m\u001B[0;34m:\u001B[0m\u001B[0;34m\u001B[0m\u001B[0;34m\u001B[0m\u001B[0m\n",
      "\u001B[0;32m/usr/lib/python3/dist-packages/tensorflow/python/framework/constant_op.py\u001B[0m in \u001B[0;36m_constant_tensor_conversion_function\u001B[0;34m(v, dtype, name, as_ref)\u001B[0m\n\u001B[1;32m    337\u001B[0m                                          as_ref=False):\n\u001B[1;32m    338\u001B[0m   \u001B[0m_\u001B[0m \u001B[0;34m=\u001B[0m \u001B[0mas_ref\u001B[0m\u001B[0;34m\u001B[0m\u001B[0;34m\u001B[0m\u001B[0m\n\u001B[0;32m--> 339\u001B[0;31m   \u001B[0;32mreturn\u001B[0m \u001B[0mconstant\u001B[0m\u001B[0;34m(\u001B[0m\u001B[0mv\u001B[0m\u001B[0;34m,\u001B[0m \u001B[0mdtype\u001B[0m\u001B[0;34m=\u001B[0m\u001B[0mdtype\u001B[0m\u001B[0;34m,\u001B[0m \u001B[0mname\u001B[0m\u001B[0;34m=\u001B[0m\u001B[0mname\u001B[0m\u001B[0;34m)\u001B[0m\u001B[0;34m\u001B[0m\u001B[0;34m\u001B[0m\u001B[0m\n\u001B[0m\u001B[1;32m    340\u001B[0m \u001B[0;34m\u001B[0m\u001B[0m\n\u001B[1;32m    341\u001B[0m \u001B[0;34m\u001B[0m\u001B[0m\n",
      "\u001B[0;32m/usr/lib/python3/dist-packages/tensorflow/python/framework/constant_op.py\u001B[0m in \u001B[0;36mconstant\u001B[0;34m(value, dtype, shape, name)\u001B[0m\n\u001B[1;32m    262\u001B[0m     \u001B[0mValueError\u001B[0m\u001B[0;34m:\u001B[0m \u001B[0;32mif\u001B[0m \u001B[0mcalled\u001B[0m \u001B[0mon\u001B[0m \u001B[0ma\u001B[0m \u001B[0msymbolic\u001B[0m \u001B[0mtensor\u001B[0m\u001B[0;34m.\u001B[0m\u001B[0;34m\u001B[0m\u001B[0;34m\u001B[0m\u001B[0m\n\u001B[1;32m    263\u001B[0m   \"\"\"\n\u001B[0;32m--> 264\u001B[0;31m   return _constant_impl(value, dtype, shape, name, verify_shape=False,\n\u001B[0m\u001B[1;32m    265\u001B[0m                         allow_broadcast=True)\n\u001B[1;32m    266\u001B[0m \u001B[0;34m\u001B[0m\u001B[0m\n",
      "\u001B[0;32m/usr/lib/python3/dist-packages/tensorflow/python/framework/constant_op.py\u001B[0m in \u001B[0;36m_constant_impl\u001B[0;34m(value, dtype, shape, name, verify_shape, allow_broadcast)\u001B[0m\n\u001B[1;32m    274\u001B[0m       \u001B[0;32mwith\u001B[0m \u001B[0mtrace\u001B[0m\u001B[0;34m.\u001B[0m\u001B[0mTrace\u001B[0m\u001B[0;34m(\u001B[0m\u001B[0;34m\"tf.constant\"\u001B[0m\u001B[0;34m)\u001B[0m\u001B[0;34m:\u001B[0m\u001B[0;34m\u001B[0m\u001B[0;34m\u001B[0m\u001B[0m\n\u001B[1;32m    275\u001B[0m         \u001B[0;32mreturn\u001B[0m \u001B[0m_constant_eager_impl\u001B[0m\u001B[0;34m(\u001B[0m\u001B[0mctx\u001B[0m\u001B[0;34m,\u001B[0m \u001B[0mvalue\u001B[0m\u001B[0;34m,\u001B[0m \u001B[0mdtype\u001B[0m\u001B[0;34m,\u001B[0m \u001B[0mshape\u001B[0m\u001B[0;34m,\u001B[0m \u001B[0mverify_shape\u001B[0m\u001B[0;34m)\u001B[0m\u001B[0;34m\u001B[0m\u001B[0;34m\u001B[0m\u001B[0m\n\u001B[0;32m--> 276\u001B[0;31m     \u001B[0;32mreturn\u001B[0m \u001B[0m_constant_eager_impl\u001B[0m\u001B[0;34m(\u001B[0m\u001B[0mctx\u001B[0m\u001B[0;34m,\u001B[0m \u001B[0mvalue\u001B[0m\u001B[0;34m,\u001B[0m \u001B[0mdtype\u001B[0m\u001B[0;34m,\u001B[0m \u001B[0mshape\u001B[0m\u001B[0;34m,\u001B[0m \u001B[0mverify_shape\u001B[0m\u001B[0;34m)\u001B[0m\u001B[0;34m\u001B[0m\u001B[0;34m\u001B[0m\u001B[0m\n\u001B[0m\u001B[1;32m    277\u001B[0m \u001B[0;34m\u001B[0m\u001B[0m\n\u001B[1;32m    278\u001B[0m   \u001B[0mg\u001B[0m \u001B[0;34m=\u001B[0m \u001B[0mops\u001B[0m\u001B[0;34m.\u001B[0m\u001B[0mget_default_graph\u001B[0m\u001B[0;34m(\u001B[0m\u001B[0;34m)\u001B[0m\u001B[0;34m\u001B[0m\u001B[0;34m\u001B[0m\u001B[0m\n",
      "\u001B[0;32m/usr/lib/python3/dist-packages/tensorflow/python/framework/constant_op.py\u001B[0m in \u001B[0;36m_constant_eager_impl\u001B[0;34m(ctx, value, dtype, shape, verify_shape)\u001B[0m\n\u001B[1;32m    299\u001B[0m \u001B[0;32mdef\u001B[0m \u001B[0m_constant_eager_impl\u001B[0m\u001B[0;34m(\u001B[0m\u001B[0mctx\u001B[0m\u001B[0;34m,\u001B[0m \u001B[0mvalue\u001B[0m\u001B[0;34m,\u001B[0m \u001B[0mdtype\u001B[0m\u001B[0;34m,\u001B[0m \u001B[0mshape\u001B[0m\u001B[0;34m,\u001B[0m \u001B[0mverify_shape\u001B[0m\u001B[0;34m)\u001B[0m\u001B[0;34m:\u001B[0m\u001B[0;34m\u001B[0m\u001B[0;34m\u001B[0m\u001B[0m\n\u001B[1;32m    300\u001B[0m   \u001B[0;34m\"\"\"Implementation of eager constant.\"\"\"\u001B[0m\u001B[0;34m\u001B[0m\u001B[0;34m\u001B[0m\u001B[0m\n\u001B[0;32m--> 301\u001B[0;31m   \u001B[0mt\u001B[0m \u001B[0;34m=\u001B[0m \u001B[0mconvert_to_eager_tensor\u001B[0m\u001B[0;34m(\u001B[0m\u001B[0mvalue\u001B[0m\u001B[0;34m,\u001B[0m \u001B[0mctx\u001B[0m\u001B[0;34m,\u001B[0m \u001B[0mdtype\u001B[0m\u001B[0;34m)\u001B[0m\u001B[0;34m\u001B[0m\u001B[0;34m\u001B[0m\u001B[0m\n\u001B[0m\u001B[1;32m    302\u001B[0m   \u001B[0;32mif\u001B[0m \u001B[0mshape\u001B[0m \u001B[0;32mis\u001B[0m \u001B[0;32mNone\u001B[0m\u001B[0;34m:\u001B[0m\u001B[0;34m\u001B[0m\u001B[0;34m\u001B[0m\u001B[0m\n\u001B[1;32m    303\u001B[0m     \u001B[0;32mreturn\u001B[0m \u001B[0mt\u001B[0m\u001B[0;34m\u001B[0m\u001B[0;34m\u001B[0m\u001B[0m\n",
      "\u001B[0;32m/usr/lib/python3/dist-packages/tensorflow/python/framework/constant_op.py\u001B[0m in \u001B[0;36mconvert_to_eager_tensor\u001B[0;34m(value, ctx, dtype)\u001B[0m\n\u001B[1;32m     96\u001B[0m       \u001B[0mdtype\u001B[0m \u001B[0;34m=\u001B[0m \u001B[0mdtypes\u001B[0m\u001B[0;34m.\u001B[0m\u001B[0mas_dtype\u001B[0m\u001B[0;34m(\u001B[0m\u001B[0mdtype\u001B[0m\u001B[0;34m)\u001B[0m\u001B[0;34m.\u001B[0m\u001B[0mas_datatype_enum\u001B[0m\u001B[0;34m\u001B[0m\u001B[0;34m\u001B[0m\u001B[0m\n\u001B[1;32m     97\u001B[0m   \u001B[0mctx\u001B[0m\u001B[0;34m.\u001B[0m\u001B[0mensure_initialized\u001B[0m\u001B[0;34m(\u001B[0m\u001B[0;34m)\u001B[0m\u001B[0;34m\u001B[0m\u001B[0;34m\u001B[0m\u001B[0m\n\u001B[0;32m---> 98\u001B[0;31m   \u001B[0;32mreturn\u001B[0m \u001B[0mops\u001B[0m\u001B[0;34m.\u001B[0m\u001B[0mEagerTensor\u001B[0m\u001B[0;34m(\u001B[0m\u001B[0mvalue\u001B[0m\u001B[0;34m,\u001B[0m \u001B[0mctx\u001B[0m\u001B[0;34m.\u001B[0m\u001B[0mdevice_name\u001B[0m\u001B[0;34m,\u001B[0m \u001B[0mdtype\u001B[0m\u001B[0;34m)\u001B[0m\u001B[0;34m\u001B[0m\u001B[0;34m\u001B[0m\u001B[0m\n\u001B[0m\u001B[1;32m     99\u001B[0m \u001B[0;34m\u001B[0m\u001B[0m\n\u001B[1;32m    100\u001B[0m \u001B[0;34m\u001B[0m\u001B[0m\n",
      "\u001B[0;31mValueError\u001B[0m: Attempt to convert a value (None) with an unsupported type (<class 'NoneType'>) to a Tensor."
     ]
    }
   ]
  },
  {
   "cell_type": "code",
   "metadata": {
    "pycharm": {
     "name": "#%%\n"
    },
    "id": "oRSQ4rWNP3z7",
    "executionInfo": {
     "status": "aborted",
     "timestamp": 1617484820848,
     "user_tz": 240,
     "elapsed": 10966,
     "user": {
      "displayName": "Jonathan Michaels",
      "photoUrl": "https://lh3.googleusercontent.com/a-/AOh14Gh0Ek1qqyQyhZw10le51afY7T-sbK20C7Lqixw3Wv8=s64",
      "userId": "10871465445165793729"
     }
    }
   },
   "source": [
    "#name = '50gru_1e-3dt_weights'\n",
    "#control_rnn.load_weights(os.getcwd() + '/saved_models/' + name)\n",
    "\n",
    "batch_size = 32\n",
    "dataset_size = 3000 * batch_size\n",
    "n_t = int(0.5 / arm.dt)\n",
    "\n",
    "with tf.device('/cpu:0'):\n",
    "    for _ in range(1):\n",
    "        [inputs, targets, init_states] = task.generate(batch_size=dataset_size, n_timesteps=n_t)\n",
    "        control_rnn.fit([inputs, init_states], targets, epochs=1, batch_size=batch_size, verbose=1, callbacks=[batchlog_callback, trainingplot_callback], shuffle=False)\n",
    "\n"
   ],
   "execution_count": null,
   "outputs": []
  },
  {
   "cell_type": "code",
   "execution_count": null,
   "outputs": [],
   "source": [
    "if 'loss' in batchlog_callback.history:\n",
    "    plt.plot(batchlog_callback.history['loss'])\n",
    "    plt.xlabel('batch')\n",
    "    plt.ylabel('loss')\n",
    "    # plt.semilogy()\n",
    "    plt.show()\n"
   ],
   "metadata": {
    "collapsed": false,
    "pycharm": {
     "name": "#%% plot loss\n"
    }
   }
  },
  {
   "cell_type": "code",
   "execution_count": null,
   "outputs": [],
   "source": [
    "[inputs, targets, init_states] = task.generate(n_timesteps=n_t, batch_size=50)\n",
    "\n",
    "results = control_rnn([inputs, init_states], training=False)\n",
    "\n",
    "j_results = results['joint position']\n",
    "c_results = results['cartesian position']\n",
    "m_results = results['muscle state']\n",
    "\n",
    "plt.figure(figsize=(16, 4)).set_tight_layout(True)\n",
    "plt.subplot(121)\n",
    "plot_pos_over_time(cart_results=c_results)\n",
    "plt.scatter(targets[:, -1, 0], targets[:, -1, 1])\n",
    "\n",
    "plt.subplot(122)\n",
    "#plot_pos_over_time(cart_results=c_results - targets)\n",
    "plt.xlabel('distance to target (x)')\n",
    "plt.ylabel('distance to target (y)')"
   ],
   "metadata": {
    "collapsed": false,
    "pycharm": {
     "name": "#%%\n"
    }
   }
  },
  {
   "cell_type": "code",
   "metadata": {
    "pycharm": {
     "name": "#%%\n"
    },
    "id": "dLYSDCGfP3z8",
    "executionInfo": {
     "status": "aborted",
     "timestamp": 1617484820851,
     "user_tz": 240,
     "elapsed": 10952,
     "user": {
      "displayName": "Jonathan Michaels",
      "photoUrl": "https://lh3.googleusercontent.com/a-/AOh14Gh0Ek1qqyQyhZw10le51afY7T-sbK20C7Lqixw3Wv8=s64",
      "userId": "10871465445165793729"
     }
    }
   },
   "source": [
    "trial = 1\n",
    "plt.figure(figsize=(14, 2.5)).set_tight_layout(True)\n",
    "\n",
    "plt.subplot(141)\n",
    "plt.plot(inputs[0,:,:])\n",
    "\n",
    "plt.subplot(142)\n",
    "plt.plot(targets[0,:,:])\n",
    "\n",
    "plt.subplot(143)\n",
    "plt.plot(inputs[1,:,:])\n",
    "\n",
    "plt.subplot(144)\n",
    "plt.plot(targets[1,:,:])\n",
    "\n",
    "plt.show()"
   ],
   "execution_count": null,
   "outputs": []
  },
  {
   "cell_type": "code",
   "execution_count": null,
   "outputs": [],
   "source": [
    "for trial in range(10):\n",
    "    plt.figure(figsize=(14, 2.5)).set_tight_layout(True)\n",
    "\n",
    "    plt.subplot(141)\n",
    "    plt.plot(j_results[trial, :, 0].numpy().squeeze(), label='sho')\n",
    "    plt.plot(j_results[trial, :, 1].numpy().squeeze(), label='elb')\n",
    "    plt.legend()\n",
    "    plt.xlabel('time (ms)')\n",
    "    plt.ylabel('angle (rad)')\n",
    "\n",
    "    plt.subplot(142)\n",
    "    plt.plot(j_results[trial, :, 2].numpy().squeeze(), label='sho')\n",
    "    plt.plot(j_results[trial, :, 3].numpy().squeeze(), label='elb')\n",
    "    plt.legend()\n",
    "    plt.xlabel('time (ms)')\n",
    "    plt.ylabel('angle velocity (rad/sec)')\n",
    "\n",
    "    plt.subplot(143)\n",
    "    plt.plot(m_results[trial, :, 0, :].numpy().squeeze())\n",
    "    plt.xlabel('time (ms)')\n",
    "    plt.ylabel('activation (a.u.)')\n",
    "\n",
    "    plt.subplot(144)\n",
    "    plt.plot(m_results[trial, :, 2, :].numpy().squeeze())\n",
    "    plt.xlabel('time (ms)')\n",
    "    plt.ylabel('muscle velocity (m/sec)')\n",
    "\n",
    "    plt.show()"
   ],
   "metadata": {
    "collapsed": false,
    "pycharm": {
     "name": "#%%\n"
    }
   }
  },
  {
   "cell_type": "code",
   "metadata": {
    "pycharm": {
     "name": "#%% Plot histogram of weight values at initialization and at end of training\n"
    },
    "id": "F2hZNvXFP3z8",
    "executionInfo": {
     "status": "aborted",
     "timestamp": 1617484820852,
     "user_tz": 240,
     "elapsed": 10946,
     "user": {
      "displayName": "Jonathan Michaels",
      "photoUrl": "https://lh3.googleusercontent.com/a-/AOh14Gh0Ek1qqyQyhZw10le51afY7T-sbK20C7Lqixw3Wv8=s64",
      "userId": "10871465445165793729"
     }
    }
   },
   "source": [
    "if len(batchlog_callback.weights_log) > 0:\n",
    "    w0 = batchlog_callback.weights_log[0]\n",
    "    w1 = batchlog_callback.weights_log[-1]\n",
    "\n",
    "    fig, axs = plt.subplots(nrows=2, ncols=len(w0), sharex='col')\n",
    "    fig.set_tight_layout(tight=True)\n",
    "    fig.set_size_inches((15, 6))\n",
    "\n",
    "    for n in range(len(w0)):\n",
    "        weights_ini = w0[n].numpy()\n",
    "        weights_fin = w1[n].numpy()\n",
    "\n",
    "        if len(weights_ini.shape) < 10:\n",
    "            axs[0,n].hist(weights_ini.flatten())\n",
    "            axs[1,n].hist(weights_fin.flatten())\n",
    "        else:\n",
    "            axs[0,n].imshow(weights_ini, interpolation='none')\n",
    "            axs[1,n].imshow(weights_fin, interpolation='none')\n",
    "\n",
    "    plt.show()\n",
    "\n"
   ],
   "execution_count": null,
   "outputs": []
  },
  {
   "cell_type": "code",
   "metadata": {
    "pycharm": {
     "name": "#%% utilities\n"
    },
    "id": "7wfLHJZjP3z8",
    "executionInfo": {
     "status": "aborted",
     "timestamp": 1617484820852,
     "user_tz": 240,
     "elapsed": 10941,
     "user": {
      "displayName": "Jonathan Michaels",
      "photoUrl": "https://lh3.googleusercontent.com/a-/AOh14Gh0Ek1qqyQyhZw10le51afY7T-sbK20C7Lqixw3Wv8=s64",
      "userId": "10871465445165793729"
     }
    }
   },
   "source": [
    "### To apply a set of weights from a previous iteration weight set w1\n",
    "# control_rnn.get_layer('RNN').set_weights([w.numpy() for w in w1])\n",
    "\n",
    "### save model\n",
    "# name = '50gru_1e-3dt_weights'\n",
    "# control_rnn.save_weights(os.getcwd() + '/saved_models/' + name)"
   ],
   "execution_count": null,
   "outputs": []
  },
  {
   "cell_type": "code",
   "metadata": {
    "pycharm": {
     "name": "#%%\n"
    },
    "id": "a1USF90tP3z8",
    "executionInfo": {
     "status": "aborted",
     "timestamp": 1617484820853,
     "user_tz": 240,
     "elapsed": 10936,
     "user": {
      "displayName": "Jonathan Michaels",
      "photoUrl": "https://lh3.googleusercontent.com/a-/AOh14Gh0Ek1qqyQyhZw10le51afY7T-sbK20C7Lqixw3Wv8=s64",
      "userId": "10871465445165793729"
     }
    }
   },
   "source": [
    "from MotorNet.utils.plotor import animate_arm_trajectory\n",
    "\n",
    "results_batch_size = tf.shape(j_results)\n",
    "to_animate = np.expand_dims(np.transpose(np.reshape(np.transpose(j_results.numpy()), (results_batch_size[2], -1), order='F')), axis=0)\n",
    "\n",
    "A = j_results[0:1]\n",
    "\n",
    "animate_arm_trajectory(to_animate[:,0:1500,:], arm, path_name = './Arm_animation.gif')\n",
    "#animate_arm_trajectory(j_results[0:1], arm, path_name = './Arm_animation.gif')\n",
    "\n",
    "\n",
    "\n",
    "\n",
    "\n",
    "\n",
    "\n",
    "\n",
    "\n",
    "\n",
    "\n",
    "\n",
    "\n",
    "\n",
    "\n",
    "\n",
    "\n",
    "\n",
    "\n",
    "\n",
    "\n",
    "\n",
    "\n"
   ],
   "execution_count": null,
   "outputs": []
  }
 ]
}