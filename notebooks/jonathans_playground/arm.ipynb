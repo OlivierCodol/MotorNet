{
 "nbformat": 4,
 "nbformat_minor": 0,
 "metadata": {
  "kernelspec": {
   "name": "python3",
   "language": "python",
   "display_name": "Python 3"
  },
  "language_info": {
   "codemirror_mode": {
    "name": "ipython",
    "version": 2
   },
   "file_extension": ".py",
   "mimetype": "text/x-python",
   "name": "python",
   "nbconvert_exporter": "python",
   "pygments_lexer": "ipython2",
   "version": "2.7.6"
  },
  "colab": {
   "name": "Copy of rigid_tendon.ipynb",
   "provenance": [
    {
     "file_id": "https://github.com/OlivierCodol/LS_replication/blob/JAM/rigid_tendon.ipynb",
     "timestamp": 1617481277374
    }
   ],
   "collapsed_sections": []
  }
 },
 "cells": [
  {
   "cell_type": "code",
   "metadata": {
    "collapsed": true,
    "id": "ExIIsASHP3zj",
    "colab": {
     "base_uri": "https://localhost:8080/"
    },
    "executionInfo": {
     "status": "ok",
     "timestamp": 1617484810056,
     "user_tz": 240,
     "elapsed": 244,
     "user": {
      "displayName": "Jonathan Michaels",
      "photoUrl": "https://lh3.googleusercontent.com/a-/AOh14Gh0Ek1qqyQyhZw10le51afY7T-sbK20C7Lqixw3Wv8=s64",
      "userId": "10871465445165793729"
     }
    },
    "outputId": "4d756cd0-c6d0-4db4-e180-028b1bde32b4"
   },
   "source": [
    "import numpy as np\n",
    "import time\n",
    "import tensorflow as tf\n",
    "import matplotlib.pyplot as plt\n",
    "import os, sys\n",
    "from tensorflow.keras.layers import Input\n",
    "from tensorflow.keras.models import Model\n",
    "\n",
    "# find root directory and add to path\n",
    "root_index = os.getcwd().rfind('notebooks')\n",
    "root_directory = os.path.dirname(os.getcwd()[:root_index])\n",
    "sys.path.append(root_directory)\n",
    "\n",
    "from MotorNet.plants import RigidTendonArm, RigidTendonArmThelen\n",
    "from MotorNet.utils.plotor import plot_pos_over_time\n",
    "from MotorNet.nets.layers import GRUController\n",
    "from MotorNet.nets.callbacks import BatchLogger, TrainingPlotter\n",
    "from MotorNet.tasks.tasks import TaskStaticTarget, TaskDelayedReach\n",
    "\n",
    "from MotorNet.nets.custommodels import MotorNetModel\n",
    "\n",
    "%load_ext autoreload\n",
    "%autoreload 2\n",
    "\n",
    "# tf.debugging.enable_check_numerics()\n",
    "print('tensorflow version: ' + tf.__version__)"
   ],
   "execution_count": 1,
   "outputs": [
    {
     "name": "stdout",
     "output_type": "stream",
     "text": [
      "tensorflow version: 2.4.1\n"
     ]
    }
   ]
  },
  {
   "cell_type": "code",
   "metadata": {
    "pycharm": {
     "name": "#%% Create model\n"
    },
    "id": "N1MiHNq0P3z7",
    "colab": {
     "base_uri": "https://localhost:8080/",
     "height": 375
    },
    "executionInfo": {
     "status": "error",
     "timestamp": 1617484820853,
     "user_tz": 240,
     "elapsed": 10976,
     "user": {
      "displayName": "Jonathan Michaels",
      "photoUrl": "https://lh3.googleusercontent.com/a-/AOh14Gh0Ek1qqyQyhZw10le51afY7T-sbK20C7Lqixw3Wv8=s64",
      "userId": "10871465445165793729"
     }
    },
    "outputId": "b448355d-1220-462b-dac3-7b7df876fb1d"
   },
   "source": [
    "arm = RigidTendonArmThelen(timestep=0.01, proprioceptive_delay=0.01, visual_delay=0.01,\n",
    "          excitation_noise_sd=0.) # 0.005\n",
    "regularizer = 0.\n",
    "feedback_noise = 0.\n",
    "cell = GRUController(plant=arm, n_units=50, kernel_regularizer=regularizer, activity_regularizer=regularizer, recurrent_regularizer=regularizer,\n",
    "                     name='cell',\n",
    "                     proprioceptive_noise_sd=feedback_noise, visual_noise_sd=feedback_noise)\n",
    "task = TaskStaticTarget(plant=arm)\n",
    "\n",
    "# declare inputs\n",
    "targets = Input((None, arm.state_dim,), name='target')\n",
    "inputs = Input((None, task.get_input_dim()))\n",
    "state0 = [Input((arm.state_dim, ), name='joint0'),\n",
    "          Input((arm.state_dim, ), name='cartesian0'),\n",
    "          Input((arm.muscle_state_dim, arm.n_muscles, ), name='muscle0'),\n",
    "          Input((arm.geometry_state_dim, arm.n_muscles, ), name='geometry0'),\n",
    "          Input((arm.n_muscles*2, arm.proprioceptive_delay, ), name='proprio_feedback0'),\n",
    "          Input((arm.space_dim, arm.visual_delay, ), name='visual_feedback0')]\n",
    "state0.extend([Input((n, ), name='gru' + str(k) + '_hidden0') for k, n in enumerate(cell.n_units)])\n",
    "\n",
    "\n",
    "# wrap cell in an RNN layer\n",
    "states_out = tf.keras.layers.RNN(cell=cell, return_sequences=True, name='RNN')(inputs, initial_state=state0)\n",
    "control_rnn = MotorNetModel(inputs=[inputs, state0], outputs=states_out, name='controller')\n",
    "\n",
    "# pull the losses from the task itself\n",
    "[losses, loss_weights] = task.get_losses()\n",
    "\n",
    "# and compile\n",
    "control_rnn.compile(optimizer=tf.optimizers.Adam(), loss=losses, loss_weights=loss_weights)\n",
    "batchlog_callback = BatchLogger()\n",
    "init_states = cell.get_initial_state(batch_size=3, inputs=task.get_initial_state())\n",
    "trainingplot_callback = TrainingPlotter(task, init_states)\n",
    "control_rnn.summary()\n",
    "losses"
   ],
   "execution_count": 2,
   "outputs": [
    {
     "ename": "AttributeError",
     "evalue": "'RigidTendonArmThelen' object has no attribute 'Muscle'",
     "output_type": "error",
     "traceback": [
      "\u001B[0;31m---------------------------------------------------------------------------\u001B[0m",
      "\u001B[0;31mAttributeError\u001B[0m                            Traceback (most recent call last)",
      "\u001B[0;32m<ipython-input-2-7607dc12566f>\u001B[0m in \u001B[0;36m<module>\u001B[0;34m\u001B[0m\n\u001B[1;32m     21\u001B[0m \u001B[0;34m\u001B[0m\u001B[0m\n\u001B[1;32m     22\u001B[0m \u001B[0;31m# wrap cell in an RNN layer\u001B[0m\u001B[0;34m\u001B[0m\u001B[0;34m\u001B[0m\u001B[0;34m\u001B[0m\u001B[0m\n\u001B[0;32m---> 23\u001B[0;31m \u001B[0mstates_out\u001B[0m \u001B[0;34m=\u001B[0m \u001B[0mtf\u001B[0m\u001B[0;34m.\u001B[0m\u001B[0mkeras\u001B[0m\u001B[0;34m.\u001B[0m\u001B[0mlayers\u001B[0m\u001B[0;34m.\u001B[0m\u001B[0mRNN\u001B[0m\u001B[0;34m(\u001B[0m\u001B[0mcell\u001B[0m\u001B[0;34m=\u001B[0m\u001B[0mcell\u001B[0m\u001B[0;34m,\u001B[0m \u001B[0mreturn_sequences\u001B[0m\u001B[0;34m=\u001B[0m\u001B[0;32mTrue\u001B[0m\u001B[0;34m,\u001B[0m \u001B[0mname\u001B[0m\u001B[0;34m=\u001B[0m\u001B[0;34m'RNN'\u001B[0m\u001B[0;34m)\u001B[0m\u001B[0;34m(\u001B[0m\u001B[0minputs\u001B[0m\u001B[0;34m,\u001B[0m \u001B[0minitial_state\u001B[0m\u001B[0;34m=\u001B[0m\u001B[0mstate0\u001B[0m\u001B[0;34m)\u001B[0m\u001B[0;34m\u001B[0m\u001B[0;34m\u001B[0m\u001B[0m\n\u001B[0m\u001B[1;32m     24\u001B[0m \u001B[0mcontrol_rnn\u001B[0m \u001B[0;34m=\u001B[0m \u001B[0mMotorNetModel\u001B[0m\u001B[0;34m(\u001B[0m\u001B[0minputs\u001B[0m\u001B[0;34m=\u001B[0m\u001B[0;34m[\u001B[0m\u001B[0minputs\u001B[0m\u001B[0;34m,\u001B[0m \u001B[0mstate0\u001B[0m\u001B[0;34m]\u001B[0m\u001B[0;34m,\u001B[0m \u001B[0moutputs\u001B[0m\u001B[0;34m=\u001B[0m\u001B[0mstates_out\u001B[0m\u001B[0;34m,\u001B[0m \u001B[0mname\u001B[0m\u001B[0;34m=\u001B[0m\u001B[0;34m'controller'\u001B[0m\u001B[0;34m)\u001B[0m\u001B[0;34m\u001B[0m\u001B[0;34m\u001B[0m\u001B[0m\n\u001B[1;32m     25\u001B[0m \u001B[0;34m\u001B[0m\u001B[0m\n",
      "\u001B[0;32m/usr/lib/python3/dist-packages/tensorflow/python/keras/layers/recurrent.py\u001B[0m in \u001B[0;36m__call__\u001B[0;34m(self, inputs, initial_state, constants, **kwargs)\u001B[0m\n\u001B[1;32m    704\u001B[0m       \u001B[0;31m# Perform the call with temporarily replaced input_spec\u001B[0m\u001B[0;34m\u001B[0m\u001B[0;34m\u001B[0m\u001B[0;34m\u001B[0m\u001B[0m\n\u001B[1;32m    705\u001B[0m       \u001B[0mself\u001B[0m\u001B[0;34m.\u001B[0m\u001B[0minput_spec\u001B[0m \u001B[0;34m=\u001B[0m \u001B[0mfull_input_spec\u001B[0m\u001B[0;34m\u001B[0m\u001B[0;34m\u001B[0m\u001B[0m\n\u001B[0;32m--> 706\u001B[0;31m       \u001B[0moutput\u001B[0m \u001B[0;34m=\u001B[0m \u001B[0msuper\u001B[0m\u001B[0;34m(\u001B[0m\u001B[0mRNN\u001B[0m\u001B[0;34m,\u001B[0m \u001B[0mself\u001B[0m\u001B[0;34m)\u001B[0m\u001B[0;34m.\u001B[0m\u001B[0m__call__\u001B[0m\u001B[0;34m(\u001B[0m\u001B[0mfull_input\u001B[0m\u001B[0;34m,\u001B[0m \u001B[0;34m**\u001B[0m\u001B[0mkwargs\u001B[0m\u001B[0;34m)\u001B[0m\u001B[0;34m\u001B[0m\u001B[0;34m\u001B[0m\u001B[0m\n\u001B[0m\u001B[1;32m    707\u001B[0m       \u001B[0;31m# Remove the additional_specs from input spec and keep the rest. It is\u001B[0m\u001B[0;34m\u001B[0m\u001B[0;34m\u001B[0m\u001B[0;34m\u001B[0m\u001B[0m\n\u001B[1;32m    708\u001B[0m       \u001B[0;31m# important to keep since the input spec was populated by build(), and\u001B[0m\u001B[0;34m\u001B[0m\u001B[0;34m\u001B[0m\u001B[0;34m\u001B[0m\u001B[0m\n",
      "\u001B[0;32m/usr/lib/python3/dist-packages/tensorflow/python/keras/engine/base_layer.py\u001B[0m in \u001B[0;36m__call__\u001B[0;34m(self, *args, **kwargs)\u001B[0m\n\u001B[1;32m    949\u001B[0m     \u001B[0;31m# >> model = tf.keras.Model(inputs, outputs)\u001B[0m\u001B[0;34m\u001B[0m\u001B[0;34m\u001B[0m\u001B[0;34m\u001B[0m\u001B[0m\n\u001B[1;32m    950\u001B[0m     \u001B[0;32mif\u001B[0m \u001B[0m_in_functional_construction_mode\u001B[0m\u001B[0;34m(\u001B[0m\u001B[0mself\u001B[0m\u001B[0;34m,\u001B[0m \u001B[0minputs\u001B[0m\u001B[0;34m,\u001B[0m \u001B[0margs\u001B[0m\u001B[0;34m,\u001B[0m \u001B[0mkwargs\u001B[0m\u001B[0;34m,\u001B[0m \u001B[0minput_list\u001B[0m\u001B[0;34m)\u001B[0m\u001B[0;34m:\u001B[0m\u001B[0;34m\u001B[0m\u001B[0;34m\u001B[0m\u001B[0m\n\u001B[0;32m--> 951\u001B[0;31m       return self._functional_construction_call(inputs, args, kwargs,\n\u001B[0m\u001B[1;32m    952\u001B[0m                                                 input_list)\n\u001B[1;32m    953\u001B[0m \u001B[0;34m\u001B[0m\u001B[0m\n",
      "\u001B[0;32m/usr/lib/python3/dist-packages/tensorflow/python/keras/engine/base_layer.py\u001B[0m in \u001B[0;36m_functional_construction_call\u001B[0;34m(self, inputs, args, kwargs, input_list)\u001B[0m\n\u001B[1;32m   1088\u001B[0m           layer=self, inputs=inputs, build_graph=True, training=training_value):\n\u001B[1;32m   1089\u001B[0m         \u001B[0;31m# Check input assumptions set after layer building, e.g. input shape.\u001B[0m\u001B[0;34m\u001B[0m\u001B[0;34m\u001B[0m\u001B[0;34m\u001B[0m\u001B[0m\n\u001B[0;32m-> 1090\u001B[0;31m         outputs = self._keras_tensor_symbolic_call(\n\u001B[0m\u001B[1;32m   1091\u001B[0m             inputs, input_masks, args, kwargs)\n\u001B[1;32m   1092\u001B[0m \u001B[0;34m\u001B[0m\u001B[0m\n",
      "\u001B[0;32m/usr/lib/python3/dist-packages/tensorflow/python/keras/engine/base_layer.py\u001B[0m in \u001B[0;36m_keras_tensor_symbolic_call\u001B[0;34m(self, inputs, input_masks, args, kwargs)\u001B[0m\n\u001B[1;32m    820\u001B[0m       \u001B[0;32mreturn\u001B[0m \u001B[0mnest\u001B[0m\u001B[0;34m.\u001B[0m\u001B[0mmap_structure\u001B[0m\u001B[0;34m(\u001B[0m\u001B[0mkeras_tensor\u001B[0m\u001B[0;34m.\u001B[0m\u001B[0mKerasTensor\u001B[0m\u001B[0;34m,\u001B[0m \u001B[0moutput_signature\u001B[0m\u001B[0;34m)\u001B[0m\u001B[0;34m\u001B[0m\u001B[0;34m\u001B[0m\u001B[0m\n\u001B[1;32m    821\u001B[0m     \u001B[0;32melse\u001B[0m\u001B[0;34m:\u001B[0m\u001B[0;34m\u001B[0m\u001B[0;34m\u001B[0m\u001B[0m\n\u001B[0;32m--> 822\u001B[0;31m       \u001B[0;32mreturn\u001B[0m \u001B[0mself\u001B[0m\u001B[0;34m.\u001B[0m\u001B[0m_infer_output_signature\u001B[0m\u001B[0;34m(\u001B[0m\u001B[0minputs\u001B[0m\u001B[0;34m,\u001B[0m \u001B[0margs\u001B[0m\u001B[0;34m,\u001B[0m \u001B[0mkwargs\u001B[0m\u001B[0;34m,\u001B[0m \u001B[0minput_masks\u001B[0m\u001B[0;34m)\u001B[0m\u001B[0;34m\u001B[0m\u001B[0;34m\u001B[0m\u001B[0m\n\u001B[0m\u001B[1;32m    823\u001B[0m \u001B[0;34m\u001B[0m\u001B[0m\n\u001B[1;32m    824\u001B[0m   \u001B[0;32mdef\u001B[0m \u001B[0m_infer_output_signature\u001B[0m\u001B[0;34m(\u001B[0m\u001B[0mself\u001B[0m\u001B[0;34m,\u001B[0m \u001B[0minputs\u001B[0m\u001B[0;34m,\u001B[0m \u001B[0margs\u001B[0m\u001B[0;34m,\u001B[0m \u001B[0mkwargs\u001B[0m\u001B[0;34m,\u001B[0m \u001B[0minput_masks\u001B[0m\u001B[0;34m)\u001B[0m\u001B[0;34m:\u001B[0m\u001B[0;34m\u001B[0m\u001B[0;34m\u001B[0m\u001B[0m\n",
      "\u001B[0;32m/usr/lib/python3/dist-packages/tensorflow/python/keras/engine/base_layer.py\u001B[0m in \u001B[0;36m_infer_output_signature\u001B[0;34m(self, inputs, args, kwargs, input_masks)\u001B[0m\n\u001B[1;32m    861\u001B[0m           \u001B[0;31m# TODO(kaftan): do we maybe_build here, or have we already done it?\u001B[0m\u001B[0;34m\u001B[0m\u001B[0;34m\u001B[0m\u001B[0;34m\u001B[0m\u001B[0m\n\u001B[1;32m    862\u001B[0m           \u001B[0mself\u001B[0m\u001B[0;34m.\u001B[0m\u001B[0m_maybe_build\u001B[0m\u001B[0;34m(\u001B[0m\u001B[0minputs\u001B[0m\u001B[0;34m)\u001B[0m\u001B[0;34m\u001B[0m\u001B[0;34m\u001B[0m\u001B[0m\n\u001B[0;32m--> 863\u001B[0;31m           \u001B[0moutputs\u001B[0m \u001B[0;34m=\u001B[0m \u001B[0mcall_fn\u001B[0m\u001B[0;34m(\u001B[0m\u001B[0minputs\u001B[0m\u001B[0;34m,\u001B[0m \u001B[0;34m*\u001B[0m\u001B[0margs\u001B[0m\u001B[0;34m,\u001B[0m \u001B[0;34m**\u001B[0m\u001B[0mkwargs\u001B[0m\u001B[0;34m)\u001B[0m\u001B[0;34m\u001B[0m\u001B[0;34m\u001B[0m\u001B[0m\n\u001B[0m\u001B[1;32m    864\u001B[0m \u001B[0;34m\u001B[0m\u001B[0m\n\u001B[1;32m    865\u001B[0m         \u001B[0mself\u001B[0m\u001B[0;34m.\u001B[0m\u001B[0m_handle_activity_regularization\u001B[0m\u001B[0;34m(\u001B[0m\u001B[0minputs\u001B[0m\u001B[0;34m,\u001B[0m \u001B[0moutputs\u001B[0m\u001B[0;34m)\u001B[0m\u001B[0;34m\u001B[0m\u001B[0;34m\u001B[0m\u001B[0m\n",
      "\u001B[0;32m/usr/lib/python3/dist-packages/tensorflow/python/keras/layers/recurrent.py\u001B[0m in \u001B[0;36mcall\u001B[0;34m(self, inputs, mask, training, initial_state, constants)\u001B[0m\n\u001B[1;32m    792\u001B[0m           \u001B[0mnew_states\u001B[0m \u001B[0;34m=\u001B[0m \u001B[0;34m[\u001B[0m\u001B[0mnew_states\u001B[0m\u001B[0;34m]\u001B[0m\u001B[0;34m\u001B[0m\u001B[0;34m\u001B[0m\u001B[0m\n\u001B[1;32m    793\u001B[0m         \u001B[0;32mreturn\u001B[0m \u001B[0moutput\u001B[0m\u001B[0;34m,\u001B[0m \u001B[0mnew_states\u001B[0m\u001B[0;34m\u001B[0m\u001B[0;34m\u001B[0m\u001B[0m\n\u001B[0;32m--> 794\u001B[0;31m     last_output, outputs, states = K.rnn(\n\u001B[0m\u001B[1;32m    795\u001B[0m         \u001B[0mstep\u001B[0m\u001B[0;34m,\u001B[0m\u001B[0;34m\u001B[0m\u001B[0;34m\u001B[0m\u001B[0m\n\u001B[1;32m    796\u001B[0m         \u001B[0minputs\u001B[0m\u001B[0;34m,\u001B[0m\u001B[0;34m\u001B[0m\u001B[0;34m\u001B[0m\u001B[0m\n",
      "\u001B[0;32m/usr/lib/python3/dist-packages/tensorflow/python/util/dispatch.py\u001B[0m in \u001B[0;36mwrapper\u001B[0;34m(*args, **kwargs)\u001B[0m\n\u001B[1;32m    199\u001B[0m     \u001B[0;34m\"\"\"Call target, and fall back on dispatchers if there is a TypeError.\"\"\"\u001B[0m\u001B[0;34m\u001B[0m\u001B[0;34m\u001B[0m\u001B[0m\n\u001B[1;32m    200\u001B[0m     \u001B[0;32mtry\u001B[0m\u001B[0;34m:\u001B[0m\u001B[0;34m\u001B[0m\u001B[0;34m\u001B[0m\u001B[0m\n\u001B[0;32m--> 201\u001B[0;31m       \u001B[0;32mreturn\u001B[0m \u001B[0mtarget\u001B[0m\u001B[0;34m(\u001B[0m\u001B[0;34m*\u001B[0m\u001B[0margs\u001B[0m\u001B[0;34m,\u001B[0m \u001B[0;34m**\u001B[0m\u001B[0mkwargs\u001B[0m\u001B[0;34m)\u001B[0m\u001B[0;34m\u001B[0m\u001B[0;34m\u001B[0m\u001B[0m\n\u001B[0m\u001B[1;32m    202\u001B[0m     \u001B[0;32mexcept\u001B[0m \u001B[0;34m(\u001B[0m\u001B[0mTypeError\u001B[0m\u001B[0;34m,\u001B[0m \u001B[0mValueError\u001B[0m\u001B[0;34m)\u001B[0m\u001B[0;34m:\u001B[0m\u001B[0;34m\u001B[0m\u001B[0;34m\u001B[0m\u001B[0m\n\u001B[1;32m    203\u001B[0m       \u001B[0;31m# Note: convert_to_eager_tensor currently raises a ValueError, not a\u001B[0m\u001B[0;34m\u001B[0m\u001B[0;34m\u001B[0m\u001B[0;34m\u001B[0m\u001B[0m\n",
      "\u001B[0;32m/usr/lib/python3/dist-packages/tensorflow/python/keras/backend.py\u001B[0m in \u001B[0;36mrnn\u001B[0;34m(step_function, inputs, initial_states, go_backwards, mask, constants, unroll, input_length, time_major, zero_output_for_mask)\u001B[0m\n\u001B[1;32m   4346\u001B[0m     \u001B[0;31m# output_time_zero is used to determine the cell output shape and its dtype.\u001B[0m\u001B[0;34m\u001B[0m\u001B[0;34m\u001B[0m\u001B[0;34m\u001B[0m\u001B[0m\n\u001B[1;32m   4347\u001B[0m     \u001B[0;31m# the value is discarded.\u001B[0m\u001B[0;34m\u001B[0m\u001B[0;34m\u001B[0m\u001B[0;34m\u001B[0m\u001B[0m\n\u001B[0;32m-> 4348\u001B[0;31m     output_time_zero, _ = step_function(\n\u001B[0m\u001B[1;32m   4349\u001B[0m         input_time_zero, tuple(initial_states) + tuple(constants))\n\u001B[1;32m   4350\u001B[0m     output_ta = tuple(\n",
      "\u001B[0;32m/usr/lib/python3/dist-packages/tensorflow/python/keras/layers/recurrent.py\u001B[0m in \u001B[0;36mstep\u001B[0;34m(inputs, states)\u001B[0m\n\u001B[1;32m    788\u001B[0m       \u001B[0;32mdef\u001B[0m \u001B[0mstep\u001B[0m\u001B[0;34m(\u001B[0m\u001B[0minputs\u001B[0m\u001B[0;34m,\u001B[0m \u001B[0mstates\u001B[0m\u001B[0;34m)\u001B[0m\u001B[0;34m:\u001B[0m\u001B[0;34m\u001B[0m\u001B[0;34m\u001B[0m\u001B[0m\n\u001B[1;32m    789\u001B[0m         \u001B[0mstates\u001B[0m \u001B[0;34m=\u001B[0m \u001B[0mstates\u001B[0m\u001B[0;34m[\u001B[0m\u001B[0;36m0\u001B[0m\u001B[0;34m]\u001B[0m \u001B[0;32mif\u001B[0m \u001B[0mlen\u001B[0m\u001B[0;34m(\u001B[0m\u001B[0mstates\u001B[0m\u001B[0;34m)\u001B[0m \u001B[0;34m==\u001B[0m \u001B[0;36m1\u001B[0m \u001B[0;32mand\u001B[0m \u001B[0mis_tf_rnn_cell\u001B[0m \u001B[0;32melse\u001B[0m \u001B[0mstates\u001B[0m\u001B[0;34m\u001B[0m\u001B[0;34m\u001B[0m\u001B[0m\n\u001B[0;32m--> 790\u001B[0;31m         \u001B[0moutput\u001B[0m\u001B[0;34m,\u001B[0m \u001B[0mnew_states\u001B[0m \u001B[0;34m=\u001B[0m \u001B[0mcell_call_fn\u001B[0m\u001B[0;34m(\u001B[0m\u001B[0minputs\u001B[0m\u001B[0;34m,\u001B[0m \u001B[0mstates\u001B[0m\u001B[0;34m,\u001B[0m \u001B[0;34m**\u001B[0m\u001B[0mkwargs\u001B[0m\u001B[0;34m)\u001B[0m\u001B[0;34m\u001B[0m\u001B[0;34m\u001B[0m\u001B[0m\n\u001B[0m\u001B[1;32m    791\u001B[0m         \u001B[0;32mif\u001B[0m \u001B[0;32mnot\u001B[0m \u001B[0mnest\u001B[0m\u001B[0;34m.\u001B[0m\u001B[0mis_nested\u001B[0m\u001B[0;34m(\u001B[0m\u001B[0mnew_states\u001B[0m\u001B[0;34m)\u001B[0m\u001B[0;34m:\u001B[0m\u001B[0;34m\u001B[0m\u001B[0;34m\u001B[0m\u001B[0m\n\u001B[1;32m    792\u001B[0m           \u001B[0mnew_states\u001B[0m \u001B[0;34m=\u001B[0m \u001B[0;34m[\u001B[0m\u001B[0mnew_states\u001B[0m\u001B[0;34m]\u001B[0m\u001B[0;34m\u001B[0m\u001B[0;34m\u001B[0m\u001B[0m\n",
      "\u001B[0;32m/usr/lib/python3/dist-packages/tensorflow/python/keras/engine/base_layer.py\u001B[0m in \u001B[0;36m__call__\u001B[0;34m(self, *args, **kwargs)\u001B[0m\n\u001B[1;32m   1010\u001B[0m         with autocast_variable.enable_auto_cast_variables(\n\u001B[1;32m   1011\u001B[0m             self._compute_dtype_object):\n\u001B[0;32m-> 1012\u001B[0;31m           \u001B[0moutputs\u001B[0m \u001B[0;34m=\u001B[0m \u001B[0mcall_fn\u001B[0m\u001B[0;34m(\u001B[0m\u001B[0minputs\u001B[0m\u001B[0;34m,\u001B[0m \u001B[0;34m*\u001B[0m\u001B[0margs\u001B[0m\u001B[0;34m,\u001B[0m \u001B[0;34m**\u001B[0m\u001B[0mkwargs\u001B[0m\u001B[0;34m)\u001B[0m\u001B[0;34m\u001B[0m\u001B[0;34m\u001B[0m\u001B[0m\n\u001B[0m\u001B[1;32m   1013\u001B[0m \u001B[0;34m\u001B[0m\u001B[0m\n\u001B[1;32m   1014\u001B[0m         \u001B[0;32mif\u001B[0m \u001B[0mself\u001B[0m\u001B[0;34m.\u001B[0m\u001B[0m_activity_regularizer\u001B[0m\u001B[0;34m:\u001B[0m\u001B[0;34m\u001B[0m\u001B[0;34m\u001B[0m\u001B[0m\n",
      "\u001B[0;32m/usr/lib/python3/dist-packages/tensorflow/python/autograph/impl/api.py\u001B[0m in \u001B[0;36mwrapper\u001B[0;34m(*args, **kwargs)\u001B[0m\n\u001B[1;32m    618\u001B[0m   \u001B[0;32mdef\u001B[0m \u001B[0mwrapper\u001B[0m\u001B[0;34m(\u001B[0m\u001B[0;34m*\u001B[0m\u001B[0margs\u001B[0m\u001B[0;34m,\u001B[0m \u001B[0;34m**\u001B[0m\u001B[0mkwargs\u001B[0m\u001B[0;34m)\u001B[0m\u001B[0;34m:\u001B[0m\u001B[0;34m\u001B[0m\u001B[0;34m\u001B[0m\u001B[0m\n\u001B[1;32m    619\u001B[0m     \u001B[0;32mwith\u001B[0m \u001B[0mag_ctx\u001B[0m\u001B[0;34m.\u001B[0m\u001B[0mControlStatusCtx\u001B[0m\u001B[0;34m(\u001B[0m\u001B[0mstatus\u001B[0m\u001B[0;34m=\u001B[0m\u001B[0mag_ctx\u001B[0m\u001B[0;34m.\u001B[0m\u001B[0mStatus\u001B[0m\u001B[0;34m.\u001B[0m\u001B[0mDISABLED\u001B[0m\u001B[0;34m)\u001B[0m\u001B[0;34m:\u001B[0m\u001B[0;34m\u001B[0m\u001B[0;34m\u001B[0m\u001B[0m\n\u001B[0;32m--> 620\u001B[0;31m       \u001B[0;32mreturn\u001B[0m \u001B[0mfunc\u001B[0m\u001B[0;34m(\u001B[0m\u001B[0;34m*\u001B[0m\u001B[0margs\u001B[0m\u001B[0;34m,\u001B[0m \u001B[0;34m**\u001B[0m\u001B[0mkwargs\u001B[0m\u001B[0;34m)\u001B[0m\u001B[0;34m\u001B[0m\u001B[0;34m\u001B[0m\u001B[0m\n\u001B[0m\u001B[1;32m    621\u001B[0m \u001B[0;34m\u001B[0m\u001B[0m\n\u001B[1;32m    622\u001B[0m   \u001B[0;32mif\u001B[0m \u001B[0minspect\u001B[0m\u001B[0;34m.\u001B[0m\u001B[0misfunction\u001B[0m\u001B[0;34m(\u001B[0m\u001B[0mfunc\u001B[0m\u001B[0;34m)\u001B[0m \u001B[0;32mor\u001B[0m \u001B[0minspect\u001B[0m\u001B[0;34m.\u001B[0m\u001B[0mismethod\u001B[0m\u001B[0;34m(\u001B[0m\u001B[0mfunc\u001B[0m\u001B[0;34m)\u001B[0m\u001B[0;34m:\u001B[0m\u001B[0;34m\u001B[0m\u001B[0;34m\u001B[0m\u001B[0m\n",
      "\u001B[0;32m~/Desktop/MotorNet/MotorNet/nets/layers.py\u001B[0m in \u001B[0;36mcall\u001B[0;34m(self, inputs, states, **kwargs)\u001B[0m\n\u001B[1;32m     93\u001B[0m \u001B[0;34m\u001B[0m\u001B[0m\n\u001B[1;32m     94\u001B[0m         \u001B[0;31m# add feedback noise & update feedback backlog\u001B[0m\u001B[0;34m\u001B[0m\u001B[0;34m\u001B[0m\u001B[0;34m\u001B[0m\u001B[0m\n\u001B[0;32m---> 95\u001B[0;31m         \u001B[0mmuscle_len\u001B[0m \u001B[0;34m=\u001B[0m \u001B[0mtf\u001B[0m\u001B[0;34m.\u001B[0m\u001B[0mslice\u001B[0m\u001B[0;34m(\u001B[0m\u001B[0mmstate\u001B[0m\u001B[0;34m,\u001B[0m \u001B[0;34m[\u001B[0m\u001B[0;36m0\u001B[0m\u001B[0;34m,\u001B[0m \u001B[0;36m1\u001B[0m\u001B[0;34m,\u001B[0m \u001B[0;36m0\u001B[0m\u001B[0;34m]\u001B[0m\u001B[0;34m,\u001B[0m \u001B[0;34m[\u001B[0m\u001B[0;34m-\u001B[0m\u001B[0;36m1\u001B[0m\u001B[0;34m,\u001B[0m \u001B[0;36m1\u001B[0m\u001B[0;34m,\u001B[0m \u001B[0;34m-\u001B[0m\u001B[0;36m1\u001B[0m\u001B[0;34m]\u001B[0m\u001B[0;34m)\u001B[0m \u001B[0;34m/\u001B[0m \u001B[0mself\u001B[0m\u001B[0;34m.\u001B[0m\u001B[0mplant\u001B[0m\u001B[0;34m.\u001B[0m\u001B[0mMuscle\u001B[0m\u001B[0;34m.\u001B[0m\u001B[0ml0_ce\u001B[0m\u001B[0;34m\u001B[0m\u001B[0;34m\u001B[0m\u001B[0m\n\u001B[0m\u001B[1;32m     96\u001B[0m         \u001B[0mmuscle_vel\u001B[0m \u001B[0;34m=\u001B[0m \u001B[0mtf\u001B[0m\u001B[0;34m.\u001B[0m\u001B[0mslice\u001B[0m\u001B[0;34m(\u001B[0m\u001B[0mmstate\u001B[0m\u001B[0;34m,\u001B[0m \u001B[0;34m[\u001B[0m\u001B[0;36m0\u001B[0m\u001B[0;34m,\u001B[0m \u001B[0;36m2\u001B[0m\u001B[0;34m,\u001B[0m \u001B[0;36m0\u001B[0m\u001B[0;34m]\u001B[0m\u001B[0;34m,\u001B[0m \u001B[0;34m[\u001B[0m\u001B[0;34m-\u001B[0m\u001B[0;36m1\u001B[0m\u001B[0;34m,\u001B[0m \u001B[0;36m1\u001B[0m\u001B[0;34m,\u001B[0m \u001B[0;34m-\u001B[0m\u001B[0;36m1\u001B[0m\u001B[0;34m]\u001B[0m\u001B[0;34m)\u001B[0m \u001B[0;34m/\u001B[0m \u001B[0mself\u001B[0m\u001B[0;34m.\u001B[0m\u001B[0mplant\u001B[0m\u001B[0;34m.\u001B[0m\u001B[0mMuscle\u001B[0m\u001B[0;34m.\u001B[0m\u001B[0mvmax\u001B[0m\u001B[0;34m\u001B[0m\u001B[0;34m\u001B[0m\u001B[0m\n\u001B[1;32m     97\u001B[0m         \u001B[0;31m# flatten len / vel / n_muscles:\u001B[0m\u001B[0;34m\u001B[0m\u001B[0;34m\u001B[0m\u001B[0;34m\u001B[0m\u001B[0m\n",
      "\u001B[0;31mAttributeError\u001B[0m: 'RigidTendonArmThelen' object has no attribute 'Muscle'"
     ]
    }
   ]
  },
  {
   "cell_type": "code",
   "metadata": {
    "pycharm": {
     "name": "#%%\n"
    },
    "id": "oRSQ4rWNP3z7",
    "executionInfo": {
     "status": "aborted",
     "timestamp": 1617484820848,
     "user_tz": 240,
     "elapsed": 10966,
     "user": {
      "displayName": "Jonathan Michaels",
      "photoUrl": "https://lh3.googleusercontent.com/a-/AOh14Gh0Ek1qqyQyhZw10le51afY7T-sbK20C7Lqixw3Wv8=s64",
      "userId": "10871465445165793729"
     }
    }
   },
   "source": [
    "#name = '50gru_1e-3dt_weights'\n",
    "#control_rnn.load_weights(os.getcwd() + '/saved_models/' + name)\n",
    "\n",
    "batch_size = 64\n",
    "dataset_size = 3000 * batch_size\n",
    "n_t = int(0.5 / arm.dt)\n",
    "\n",
    "with tf.device('/cpu:0'):\n",
    "    for _ in range(1):\n",
    "        init_states = cell.get_initial_state(batch_size=dataset_size, inputs=task.get_initial_state())\n",
    "        [inputs, targets] = task.generate(n_timesteps=n_t, batch_size=dataset_size)\n",
    "        control_rnn.fit([inputs, init_states], targets, epochs=1, batch_size=batch_size, verbose=1, callbacks=[batchlog_callback, trainingplot_callback], shuffle=False)\n",
    "\n"
   ],
   "execution_count": null,
   "outputs": []
  },
  {
   "cell_type": "code",
   "execution_count": null,
   "outputs": [],
   "source": [
    "if 'loss' in batchlog_callback.history:\n",
    "    plt.plot(batchlog_callback.history['loss'])\n",
    "    plt.xlabel('batch')\n",
    "    plt.ylabel('loss')\n",
    "    # plt.semilogy()\n",
    "    plt.show()\n"
   ],
   "metadata": {
    "collapsed": false,
    "pycharm": {
     "name": "#%% plot loss\n"
    }
   }
  },
  {
   "cell_type": "code",
   "execution_count": null,
   "outputs": [],
   "source": [
    "init_states = cell.get_initial_state(batch_size=50, inputs=task.get_initial_state())\n",
    "[inputs, targets] = task.generate(n_timesteps=n_t, batch_size=50)\n",
    "\n",
    "results = control_rnn([inputs, init_states], training=False)\n",
    "\n",
    "j_results = results['joint position']\n",
    "c_results = results['cartesian position']\n",
    "m_results = results['muscle state']\n",
    "\n",
    "plt.figure(figsize=(16, 4)).set_tight_layout(True)\n",
    "plt.subplot(121)\n",
    "plot_pos_over_time(cart_results=c_results)\n",
    "plt.scatter(targets[:, -1, 0], targets[:, -1, 1])\n",
    "\n",
    "plt.subplot(122)\n",
    "#plot_pos_over_time(cart_results=c_results - targets)\n",
    "plt.xlabel('distance to target (x)')\n",
    "plt.ylabel('distance to target (y)')"
   ],
   "metadata": {
    "collapsed": false,
    "pycharm": {
     "name": "#%%\n"
    }
   }
  },
  {
   "cell_type": "code",
   "metadata": {
    "pycharm": {
     "name": "#%%\n"
    },
    "id": "dLYSDCGfP3z8",
    "executionInfo": {
     "status": "aborted",
     "timestamp": 1617484820851,
     "user_tz": 240,
     "elapsed": 10952,
     "user": {
      "displayName": "Jonathan Michaels",
      "photoUrl": "https://lh3.googleusercontent.com/a-/AOh14Gh0Ek1qqyQyhZw10le51afY7T-sbK20C7Lqixw3Wv8=s64",
      "userId": "10871465445165793729"
     }
    }
   },
   "source": [
    "trial = 1\n",
    "plt.figure(figsize=(14, 2.5)).set_tight_layout(True)\n",
    "\n",
    "plt.subplot(141)\n",
    "plt.plot(inputs[0,:,:])\n",
    "\n",
    "plt.subplot(142)\n",
    "plt.plot(targets[0,:,:])\n",
    "\n",
    "plt.subplot(143)\n",
    "plt.plot(inputs[1,:,:])\n",
    "\n",
    "plt.subplot(144)\n",
    "plt.plot(targets[1,:,:])\n",
    "\n",
    "plt.show()"
   ],
   "execution_count": null,
   "outputs": []
  },
  {
   "cell_type": "code",
   "execution_count": null,
   "outputs": [],
   "source": [
    "for trial in range(10):\n",
    "    plt.figure(figsize=(14, 2.5)).set_tight_layout(True)\n",
    "\n",
    "    plt.subplot(141)\n",
    "    plt.plot(j_results[trial, :, 0].numpy().squeeze(), label='sho')\n",
    "    plt.plot(j_results[trial, :, 1].numpy().squeeze(), label='elb')\n",
    "    plt.legend()\n",
    "    plt.xlabel('time (ms)')\n",
    "    plt.ylabel('angle (rad)')\n",
    "\n",
    "    plt.subplot(142)\n",
    "    plt.plot(j_results[trial, :, 2].numpy().squeeze(), label='sho')\n",
    "    plt.plot(j_results[trial, :, 3].numpy().squeeze(), label='elb')\n",
    "    plt.legend()\n",
    "    plt.xlabel('time (ms)')\n",
    "    plt.ylabel('angle velocity (rad/sec)')\n",
    "\n",
    "    plt.subplot(143)\n",
    "    plt.plot(m_results[trial, :, 0, :].numpy().squeeze())\n",
    "    plt.xlabel('time (ms)')\n",
    "    plt.ylabel('activation (a.u.)')\n",
    "\n",
    "    plt.subplot(144)\n",
    "    plt.plot(m_results[trial, :, 2, :].numpy().squeeze())\n",
    "    plt.xlabel('time (ms)')\n",
    "    plt.ylabel('muscle velocity (m/sec)')\n",
    "\n",
    "    plt.show()"
   ],
   "metadata": {
    "collapsed": false,
    "pycharm": {
     "name": "#%%\n"
    }
   }
  },
  {
   "cell_type": "code",
   "metadata": {
    "pycharm": {
     "name": "#%% Plot histogram of weight values at initialization and at end of training\n"
    },
    "id": "F2hZNvXFP3z8",
    "executionInfo": {
     "status": "aborted",
     "timestamp": 1617484820852,
     "user_tz": 240,
     "elapsed": 10946,
     "user": {
      "displayName": "Jonathan Michaels",
      "photoUrl": "https://lh3.googleusercontent.com/a-/AOh14Gh0Ek1qqyQyhZw10le51afY7T-sbK20C7Lqixw3Wv8=s64",
      "userId": "10871465445165793729"
     }
    }
   },
   "source": [
    "if len(batchlog_callback.weights_log) > 0:\n",
    "    w0 = batchlog_callback.weights_log[0]\n",
    "    w1 = batchlog_callback.weights_log[-1]\n",
    "\n",
    "    fig, axs = plt.subplots(nrows=2, ncols=len(w0), sharex='col')\n",
    "    fig.set_tight_layout(tight=True)\n",
    "    fig.set_size_inches((15, 6))\n",
    "\n",
    "    for n in range(len(w0)):\n",
    "        weights_ini = w0[n].numpy()\n",
    "        weights_fin = w1[n].numpy()\n",
    "\n",
    "        if len(weights_ini.shape) < 10:\n",
    "            axs[0,n].hist(weights_ini.flatten())\n",
    "            axs[1,n].hist(weights_fin.flatten())\n",
    "        else:\n",
    "            axs[0,n].imshow(weights_ini, interpolation='none')\n",
    "            axs[1,n].imshow(weights_fin, interpolation='none')\n",
    "\n",
    "    plt.show()\n",
    "\n"
   ],
   "execution_count": null,
   "outputs": []
  },
  {
   "cell_type": "code",
   "metadata": {
    "pycharm": {
     "name": "#%% utilities\n"
    },
    "id": "7wfLHJZjP3z8",
    "executionInfo": {
     "status": "aborted",
     "timestamp": 1617484820852,
     "user_tz": 240,
     "elapsed": 10941,
     "user": {
      "displayName": "Jonathan Michaels",
      "photoUrl": "https://lh3.googleusercontent.com/a-/AOh14Gh0Ek1qqyQyhZw10le51afY7T-sbK20C7Lqixw3Wv8=s64",
      "userId": "10871465445165793729"
     }
    }
   },
   "source": [
    "### To apply a set of weights from a previous iteration weight set w1\n",
    "# control_rnn.get_layer('RNN').set_weights([w.numpy() for w in w1])\n",
    "\n",
    "### save model\n",
    "# name = '50gru_1e-3dt_weights'\n",
    "# control_rnn.save_weights(os.getcwd() + '/saved_models/' + name)"
   ],
   "execution_count": null,
   "outputs": []
  },
  {
   "cell_type": "code",
   "metadata": {
    "pycharm": {
     "name": "#%%\n"
    },
    "id": "a1USF90tP3z8",
    "executionInfo": {
     "status": "aborted",
     "timestamp": 1617484820853,
     "user_tz": 240,
     "elapsed": 10936,
     "user": {
      "displayName": "Jonathan Michaels",
      "photoUrl": "https://lh3.googleusercontent.com/a-/AOh14Gh0Ek1qqyQyhZw10le51afY7T-sbK20C7Lqixw3Wv8=s64",
      "userId": "10871465445165793729"
     }
    }
   },
   "source": [
    "from MotorNet.utils.plotor import animate_arm_trajectory\n",
    "\n",
    "results_batch_size = tf.shape(j_results)\n",
    "to_animate = np.expand_dims(np.transpose(np.reshape(np.transpose(j_results.numpy()), (results_batch_size[2], -1), order='F')), axis=0)\n",
    "\n",
    "A = j_results[0:1]\n",
    "\n",
    "animate_arm_trajectory(to_animate[:,0:1500,:], arm, path_name = './Arm_animation.gif')\n",
    "#animate_arm_trajectory(j_results[0:1], arm, path_name = './Arm_animation.gif')\n",
    "\n",
    "\n",
    "\n",
    "\n",
    "\n",
    "\n",
    "\n",
    "\n",
    "\n",
    "\n",
    "\n",
    "\n",
    "\n",
    "\n",
    "\n",
    "\n",
    "\n",
    "\n",
    "\n",
    "\n",
    "\n",
    "\n",
    "\n"
   ],
   "execution_count": null,
   "outputs": []
  }
 ]
}