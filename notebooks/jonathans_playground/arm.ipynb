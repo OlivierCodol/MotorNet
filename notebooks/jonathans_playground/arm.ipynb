{
 "nbformat": 4,
 "nbformat_minor": 0,
 "metadata": {
  "kernelspec": {
   "name": "python3",
   "language": "python",
   "display_name": "Python 3"
  },
  "language_info": {
   "codemirror_mode": {
    "name": "ipython",
    "version": 2
   },
   "file_extension": ".py",
   "mimetype": "text/x-python",
   "name": "python",
   "nbconvert_exporter": "python",
   "pygments_lexer": "ipython2",
   "version": "2.7.6"
  },
  "colab": {
   "name": "Copy of rigid_tendon.ipynb",
   "provenance": [
    {
     "file_id": "https://github.com/OlivierCodol/LS_replication/blob/JAM/rigid_tendon.ipynb",
     "timestamp": 1617481277374
    }
   ],
   "collapsed_sections": []
  }
 },
 "cells": [
  {
   "cell_type": "code",
   "metadata": {
    "collapsed": true,
    "id": "ExIIsASHP3zj",
    "colab": {
     "base_uri": "https://localhost:8080/"
    },
    "executionInfo": {
     "status": "ok",
     "timestamp": 1617484810056,
     "user_tz": 240,
     "elapsed": 244,
     "user": {
      "displayName": "Jonathan Michaels",
      "photoUrl": "https://lh3.googleusercontent.com/a-/AOh14Gh0Ek1qqyQyhZw10le51afY7T-sbK20C7Lqixw3Wv8=s64",
      "userId": "10871465445165793729"
     }
    },
    "outputId": "4d756cd0-c6d0-4db4-e180-028b1bde32b4"
   },
   "source": [
    "import numpy as np\n",
    "import time\n",
    "import tensorflow as tf\n",
    "import matplotlib.pyplot as plt\n",
    "import os, sys\n",
    "from tensorflow.keras.layers import Input\n",
    "from tensorflow.keras.models import Model\n",
    "\n",
    "# find root directory and add to path\n",
    "root_index = os.getcwd().rfind('notebooks')\n",
    "root_directory = os.path.dirname(os.getcwd()[:root_index])\n",
    "sys.path.append(root_directory)\n",
    "\n",
    "from MotorNet.plants import RigidTendonArm\n",
    "from MotorNet.plants.muscles import RigidTendonHillMuscle, RigidTendonHillMuscleThelen\n",
    "from MotorNet.utils.plotor import plot_pos_over_time\n",
    "from MotorNet.nets.layers import GRUController\n",
    "from MotorNet.nets.callbacks import BatchLogger, TrainingPlotter\n",
    "from MotorNet.tasks.tasks import TaskStaticTarget, TaskDelayedReach, TaskStaticTargetWithPerturbations, TaskDelayedMultiReach\n",
    "\n",
    "from MotorNet.nets.custommodels import MotorNetModel\n",
    "\n",
    "%load_ext autoreload\n",
    "%autoreload 2\n",
    "\n",
    "# tf.debugging.enable_check_numerics()\n",
    "print('tensorflow version: ' + tf.__version__)"
   ],
   "execution_count": 1,
   "outputs": [
    {
     "name": "stdout",
     "output_type": "stream",
     "text": [
      "tensorflow version: 2.4.1\n"
     ]
    }
   ]
  },
  {
   "cell_type": "code",
   "metadata": {
    "pycharm": {
     "name": "#%% Create model\n"
    },
    "id": "N1MiHNq0P3z7",
    "colab": {
     "base_uri": "https://localhost:8080/",
     "height": 375
    },
    "executionInfo": {
     "status": "error",
     "timestamp": 1617484820853,
     "user_tz": 240,
     "elapsed": 10976,
     "user": {
      "displayName": "Jonathan Michaels",
      "photoUrl": "https://lh3.googleusercontent.com/a-/AOh14Gh0Ek1qqyQyhZw10le51afY7T-sbK20C7Lqixw3Wv8=s64",
      "userId": "10871465445165793729"
     }
    },
    "outputId": "b448355d-1220-462b-dac3-7b7df876fb1d"
   },
   "source": [
    "arm = RigidTendonArm(timestep= 0.01, muscle_type=RigidTendonHillMuscleThelen(), proprioceptive_delay=0.04, visual_delay=0.13,\n",
    "                     excitation_noise_sd=0.001)\n",
    "feedback_noise = 0.001\n",
    "# kernel 10**-5, activity 10**-4, recurrent 10**-6\n",
    "cell = GRUController(plant=arm, n_units=300, kernel_regularizer=0, activity_regularizer=0,\n",
    "                     recurrent_regularizer=10**-5, name='cell',\n",
    "                     proprioceptive_noise_sd=feedback_noise, visual_noise_sd=feedback_noise)\n",
    "task = TaskDelayedReach(cell, initial_joint_state=np.deg2rad([45., 90., 0., 0.]))\n",
    "\n",
    "# declare inputs\n",
    "targets = Input((None, arm.state_dim,), name='target')\n",
    "inputs = Input((None, task.get_input_dim()))\n",
    "state0 = [Input((arm.state_dim, ), name='joint0'),\n",
    "          Input((arm.state_dim, ), name='cartesian0'),\n",
    "          Input((arm.muscle_state_dim, arm.n_muscles, ), name='muscle0'),\n",
    "          Input((arm.geometry_state_dim, arm.n_muscles, ), name='geometry0'),\n",
    "          Input((arm.n_muscles*2, arm.proprioceptive_delay, ), name='proprio_feedback0'),\n",
    "          Input((arm.space_dim, arm.visual_delay, ), name='visual_feedback0')]\n",
    "state0.extend([Input((n, ), name='gru' + str(k) + '_hidden0') for k, n in enumerate(cell.n_units)])\n",
    "\n",
    "\n",
    "# wrap cell in an RNN layer\n",
    "states_out = tf.keras.layers.RNN(cell=cell, return_sequences=True, name='RNN')(inputs, initial_state=state0)\n",
    "control_rnn = MotorNetModel(inputs=[inputs, state0], outputs=states_out, name='controller', task=task)\n",
    "\n",
    "# pull the losses from the task itself\n",
    "[losses, loss_weights] = task.get_losses()\n",
    "\n",
    "# and compile\n",
    "control_rnn.compile(optimizer=tf.optimizers.Adam(learning_rate=0.001, clipnorm=1.), loss=losses,\n",
    "                    loss_weights=loss_weights, run_eagerly=False)\n",
    "batchlog_callback = BatchLogger()\n",
    "trainingplot_callback = TrainingPlotter(task, plot_freq=100)\n",
    "control_rnn.summary()\n",
    "losses"
   ],
   "execution_count": 2,
   "outputs": [
    {
     "ename": "TypeError",
     "evalue": "('Keyword argument not understood:', 'task')",
     "output_type": "error",
     "traceback": [
      "\u001B[0;31m---------------------------------------------------------------------------\u001B[0m",
      "\u001B[0;31mTypeError\u001B[0m                                 Traceback (most recent call last)",
      "\u001B[0;32m<ipython-input-2-7dd5aa593d13>\u001B[0m in \u001B[0;36m<module>\u001B[0;34m\u001B[0m\n\u001B[1;32m     22\u001B[0m \u001B[0;31m# wrap cell in an RNN layer\u001B[0m\u001B[0;34m\u001B[0m\u001B[0;34m\u001B[0m\u001B[0;34m\u001B[0m\u001B[0m\n\u001B[1;32m     23\u001B[0m \u001B[0mstates_out\u001B[0m \u001B[0;34m=\u001B[0m \u001B[0mtf\u001B[0m\u001B[0;34m.\u001B[0m\u001B[0mkeras\u001B[0m\u001B[0;34m.\u001B[0m\u001B[0mlayers\u001B[0m\u001B[0;34m.\u001B[0m\u001B[0mRNN\u001B[0m\u001B[0;34m(\u001B[0m\u001B[0mcell\u001B[0m\u001B[0;34m=\u001B[0m\u001B[0mcell\u001B[0m\u001B[0;34m,\u001B[0m \u001B[0mreturn_sequences\u001B[0m\u001B[0;34m=\u001B[0m\u001B[0;32mTrue\u001B[0m\u001B[0;34m,\u001B[0m \u001B[0mname\u001B[0m\u001B[0;34m=\u001B[0m\u001B[0;34m'RNN'\u001B[0m\u001B[0;34m)\u001B[0m\u001B[0;34m(\u001B[0m\u001B[0minputs\u001B[0m\u001B[0;34m,\u001B[0m \u001B[0minitial_state\u001B[0m\u001B[0;34m=\u001B[0m\u001B[0mstate0\u001B[0m\u001B[0;34m)\u001B[0m\u001B[0;34m\u001B[0m\u001B[0;34m\u001B[0m\u001B[0m\n\u001B[0;32m---> 24\u001B[0;31m \u001B[0mcontrol_rnn\u001B[0m \u001B[0;34m=\u001B[0m \u001B[0mMotorNetModel\u001B[0m\u001B[0;34m(\u001B[0m\u001B[0minputs\u001B[0m\u001B[0;34m=\u001B[0m\u001B[0;34m[\u001B[0m\u001B[0minputs\u001B[0m\u001B[0;34m,\u001B[0m \u001B[0mstate0\u001B[0m\u001B[0;34m]\u001B[0m\u001B[0;34m,\u001B[0m \u001B[0moutputs\u001B[0m\u001B[0;34m=\u001B[0m\u001B[0mstates_out\u001B[0m\u001B[0;34m,\u001B[0m \u001B[0mname\u001B[0m\u001B[0;34m=\u001B[0m\u001B[0;34m'controller'\u001B[0m\u001B[0;34m,\u001B[0m \u001B[0mtask\u001B[0m\u001B[0;34m=\u001B[0m\u001B[0mtask\u001B[0m\u001B[0;34m)\u001B[0m\u001B[0;34m\u001B[0m\u001B[0;34m\u001B[0m\u001B[0m\n\u001B[0m\u001B[1;32m     25\u001B[0m \u001B[0;34m\u001B[0m\u001B[0m\n\u001B[1;32m     26\u001B[0m \u001B[0;31m# pull the losses from the task itself\u001B[0m\u001B[0;34m\u001B[0m\u001B[0;34m\u001B[0m\u001B[0;34m\u001B[0m\u001B[0m\n",
      "\u001B[0;32m~/Desktop/MotorNet/MotorNet/nets/custommodels.py\u001B[0m in \u001B[0;36m__init__\u001B[0;34m(self, inputs, outputs, name, **kwargs)\u001B[0m\n\u001B[1;32m      5\u001B[0m \u001B[0;32mclass\u001B[0m \u001B[0mMotorNetModel\u001B[0m\u001B[0;34m(\u001B[0m\u001B[0mkeras\u001B[0m\u001B[0;34m.\u001B[0m\u001B[0mModel\u001B[0m\u001B[0;34m)\u001B[0m\u001B[0;34m:\u001B[0m\u001B[0;34m\u001B[0m\u001B[0;34m\u001B[0m\u001B[0m\n\u001B[1;32m      6\u001B[0m     \u001B[0;32mdef\u001B[0m \u001B[0m__init__\u001B[0m\u001B[0;34m(\u001B[0m\u001B[0mself\u001B[0m\u001B[0;34m,\u001B[0m \u001B[0minputs\u001B[0m\u001B[0;34m,\u001B[0m \u001B[0moutputs\u001B[0m\u001B[0;34m,\u001B[0m \u001B[0mname\u001B[0m\u001B[0;34m=\u001B[0m\u001B[0;34m'controller'\u001B[0m\u001B[0;34m,\u001B[0m \u001B[0;34m**\u001B[0m\u001B[0mkwargs\u001B[0m\u001B[0;34m)\u001B[0m\u001B[0;34m:\u001B[0m\u001B[0;34m\u001B[0m\u001B[0;34m\u001B[0m\u001B[0m\n\u001B[0;32m----> 7\u001B[0;31m         \u001B[0msuper\u001B[0m\u001B[0;34m(\u001B[0m\u001B[0mMotorNetModel\u001B[0m\u001B[0;34m,\u001B[0m \u001B[0mself\u001B[0m\u001B[0;34m)\u001B[0m\u001B[0;34m.\u001B[0m\u001B[0m__init__\u001B[0m\u001B[0;34m(\u001B[0m\u001B[0minputs\u001B[0m\u001B[0;34m=\u001B[0m\u001B[0minputs\u001B[0m\u001B[0;34m,\u001B[0m \u001B[0moutputs\u001B[0m\u001B[0;34m=\u001B[0m\u001B[0moutputs\u001B[0m\u001B[0;34m,\u001B[0m \u001B[0mname\u001B[0m\u001B[0;34m=\u001B[0m\u001B[0mname\u001B[0m\u001B[0;34m,\u001B[0m \u001B[0;34m**\u001B[0m\u001B[0mkwargs\u001B[0m\u001B[0;34m)\u001B[0m\u001B[0;34m\u001B[0m\u001B[0;34m\u001B[0m\u001B[0m\n\u001B[0m\u001B[1;32m      8\u001B[0m         \u001B[0mself\u001B[0m\u001B[0;34m.\u001B[0m\u001B[0mtask\u001B[0m \u001B[0;34m=\u001B[0m \u001B[0mkwargs\u001B[0m\u001B[0;34m.\u001B[0m\u001B[0mget\u001B[0m\u001B[0;34m(\u001B[0m\u001B[0;34m'task'\u001B[0m\u001B[0;34m,\u001B[0m \u001B[0;32mNone\u001B[0m\u001B[0;34m)\u001B[0m\u001B[0;34m\u001B[0m\u001B[0;34m\u001B[0m\u001B[0m\n\u001B[1;32m      9\u001B[0m \u001B[0;34m\u001B[0m\u001B[0m\n",
      "\u001B[0;32m/usr/lib/python3/dist-packages/tensorflow/python/training/tracking/base.py\u001B[0m in \u001B[0;36m_method_wrapper\u001B[0;34m(self, *args, **kwargs)\u001B[0m\n\u001B[1;32m    515\u001B[0m     \u001B[0mself\u001B[0m\u001B[0;34m.\u001B[0m\u001B[0m_self_setattr_tracking\u001B[0m \u001B[0;34m=\u001B[0m \u001B[0;32mFalse\u001B[0m  \u001B[0;31m# pylint: disable=protected-access\u001B[0m\u001B[0;34m\u001B[0m\u001B[0;34m\u001B[0m\u001B[0m\n\u001B[1;32m    516\u001B[0m     \u001B[0;32mtry\u001B[0m\u001B[0;34m:\u001B[0m\u001B[0;34m\u001B[0m\u001B[0;34m\u001B[0m\u001B[0m\n\u001B[0;32m--> 517\u001B[0;31m       \u001B[0mresult\u001B[0m \u001B[0;34m=\u001B[0m \u001B[0mmethod\u001B[0m\u001B[0;34m(\u001B[0m\u001B[0mself\u001B[0m\u001B[0;34m,\u001B[0m \u001B[0;34m*\u001B[0m\u001B[0margs\u001B[0m\u001B[0;34m,\u001B[0m \u001B[0;34m**\u001B[0m\u001B[0mkwargs\u001B[0m\u001B[0;34m)\u001B[0m\u001B[0;34m\u001B[0m\u001B[0;34m\u001B[0m\u001B[0m\n\u001B[0m\u001B[1;32m    518\u001B[0m     \u001B[0;32mfinally\u001B[0m\u001B[0;34m:\u001B[0m\u001B[0;34m\u001B[0m\u001B[0;34m\u001B[0m\u001B[0m\n\u001B[1;32m    519\u001B[0m       \u001B[0mself\u001B[0m\u001B[0;34m.\u001B[0m\u001B[0m_self_setattr_tracking\u001B[0m \u001B[0;34m=\u001B[0m \u001B[0mprevious_value\u001B[0m  \u001B[0;31m# pylint: disable=protected-access\u001B[0m\u001B[0;34m\u001B[0m\u001B[0;34m\u001B[0m\u001B[0m\n",
      "\u001B[0;32m/usr/lib/python3/dist-packages/tensorflow/python/keras/engine/training.py\u001B[0m in \u001B[0;36m__init__\u001B[0;34m(self, *args, **kwargs)\u001B[0m\n\u001B[1;32m    235\u001B[0m         not isinstance(self, functional.Functional)):\n\u001B[1;32m    236\u001B[0m       \u001B[0minject_functional_model_class\u001B[0m\u001B[0;34m(\u001B[0m\u001B[0mself\u001B[0m\u001B[0;34m.\u001B[0m\u001B[0m__class__\u001B[0m\u001B[0;34m)\u001B[0m\u001B[0;34m\u001B[0m\u001B[0;34m\u001B[0m\u001B[0m\n\u001B[0;32m--> 237\u001B[0;31m       \u001B[0mfunctional\u001B[0m\u001B[0;34m.\u001B[0m\u001B[0mFunctional\u001B[0m\u001B[0;34m.\u001B[0m\u001B[0m__init__\u001B[0m\u001B[0;34m(\u001B[0m\u001B[0mself\u001B[0m\u001B[0;34m,\u001B[0m \u001B[0;34m*\u001B[0m\u001B[0margs\u001B[0m\u001B[0;34m,\u001B[0m \u001B[0;34m**\u001B[0m\u001B[0mkwargs\u001B[0m\u001B[0;34m)\u001B[0m\u001B[0;34m\u001B[0m\u001B[0;34m\u001B[0m\u001B[0m\n\u001B[0m\u001B[1;32m    238\u001B[0m       \u001B[0;32mreturn\u001B[0m\u001B[0;34m\u001B[0m\u001B[0;34m\u001B[0m\u001B[0m\n\u001B[1;32m    239\u001B[0m \u001B[0;34m\u001B[0m\u001B[0m\n",
      "\u001B[0;32m/usr/lib/python3/dist-packages/tensorflow/python/training/tracking/base.py\u001B[0m in \u001B[0;36m_method_wrapper\u001B[0;34m(self, *args, **kwargs)\u001B[0m\n\u001B[1;32m    515\u001B[0m     \u001B[0mself\u001B[0m\u001B[0;34m.\u001B[0m\u001B[0m_self_setattr_tracking\u001B[0m \u001B[0;34m=\u001B[0m \u001B[0;32mFalse\u001B[0m  \u001B[0;31m# pylint: disable=protected-access\u001B[0m\u001B[0;34m\u001B[0m\u001B[0;34m\u001B[0m\u001B[0m\n\u001B[1;32m    516\u001B[0m     \u001B[0;32mtry\u001B[0m\u001B[0;34m:\u001B[0m\u001B[0;34m\u001B[0m\u001B[0;34m\u001B[0m\u001B[0m\n\u001B[0;32m--> 517\u001B[0;31m       \u001B[0mresult\u001B[0m \u001B[0;34m=\u001B[0m \u001B[0mmethod\u001B[0m\u001B[0;34m(\u001B[0m\u001B[0mself\u001B[0m\u001B[0;34m,\u001B[0m \u001B[0;34m*\u001B[0m\u001B[0margs\u001B[0m\u001B[0;34m,\u001B[0m \u001B[0;34m**\u001B[0m\u001B[0mkwargs\u001B[0m\u001B[0;34m)\u001B[0m\u001B[0;34m\u001B[0m\u001B[0;34m\u001B[0m\u001B[0m\n\u001B[0m\u001B[1;32m    518\u001B[0m     \u001B[0;32mfinally\u001B[0m\u001B[0;34m:\u001B[0m\u001B[0;34m\u001B[0m\u001B[0;34m\u001B[0m\u001B[0m\n\u001B[1;32m    519\u001B[0m       \u001B[0mself\u001B[0m\u001B[0;34m.\u001B[0m\u001B[0m_self_setattr_tracking\u001B[0m \u001B[0;34m=\u001B[0m \u001B[0mprevious_value\u001B[0m  \u001B[0;31m# pylint: disable=protected-access\u001B[0m\u001B[0;34m\u001B[0m\u001B[0;34m\u001B[0m\u001B[0m\n",
      "\u001B[0;32m/usr/lib/python3/dist-packages/tensorflow/python/keras/engine/functional.py\u001B[0m in \u001B[0;36m__init__\u001B[0;34m(self, inputs, outputs, name, trainable, **kwargs)\u001B[0m\n\u001B[1;32m    116\u001B[0m     \u001B[0;32mif\u001B[0m \u001B[0mskip_init\u001B[0m\u001B[0;34m:\u001B[0m\u001B[0;34m\u001B[0m\u001B[0;34m\u001B[0m\u001B[0m\n\u001B[1;32m    117\u001B[0m       \u001B[0;32mreturn\u001B[0m\u001B[0;34m\u001B[0m\u001B[0;34m\u001B[0m\u001B[0m\n\u001B[0;32m--> 118\u001B[0;31m     \u001B[0mgeneric_utils\u001B[0m\u001B[0;34m.\u001B[0m\u001B[0mvalidate_kwargs\u001B[0m\u001B[0;34m(\u001B[0m\u001B[0mkwargs\u001B[0m\u001B[0;34m,\u001B[0m \u001B[0;34m{\u001B[0m\u001B[0;34m}\u001B[0m\u001B[0;34m)\u001B[0m\u001B[0;34m\u001B[0m\u001B[0;34m\u001B[0m\u001B[0m\n\u001B[0m\u001B[1;32m    119\u001B[0m     \u001B[0msuper\u001B[0m\u001B[0;34m(\u001B[0m\u001B[0mFunctional\u001B[0m\u001B[0;34m,\u001B[0m \u001B[0mself\u001B[0m\u001B[0;34m)\u001B[0m\u001B[0;34m.\u001B[0m\u001B[0m__init__\u001B[0m\u001B[0;34m(\u001B[0m\u001B[0mname\u001B[0m\u001B[0;34m=\u001B[0m\u001B[0mname\u001B[0m\u001B[0;34m,\u001B[0m \u001B[0mtrainable\u001B[0m\u001B[0;34m=\u001B[0m\u001B[0mtrainable\u001B[0m\u001B[0;34m)\u001B[0m\u001B[0;34m\u001B[0m\u001B[0;34m\u001B[0m\u001B[0m\n\u001B[1;32m    120\u001B[0m     \u001B[0mself\u001B[0m\u001B[0;34m.\u001B[0m\u001B[0m_init_graph_network\u001B[0m\u001B[0;34m(\u001B[0m\u001B[0minputs\u001B[0m\u001B[0;34m,\u001B[0m \u001B[0moutputs\u001B[0m\u001B[0;34m)\u001B[0m\u001B[0;34m\u001B[0m\u001B[0;34m\u001B[0m\u001B[0m\n",
      "\u001B[0;32m/usr/lib/python3/dist-packages/tensorflow/python/keras/utils/generic_utils.py\u001B[0m in \u001B[0;36mvalidate_kwargs\u001B[0;34m(kwargs, allowed_kwargs, error_message)\u001B[0m\n\u001B[1;32m    806\u001B[0m   \u001B[0;32mfor\u001B[0m \u001B[0mkwarg\u001B[0m \u001B[0;32min\u001B[0m \u001B[0mkwargs\u001B[0m\u001B[0;34m:\u001B[0m\u001B[0;34m\u001B[0m\u001B[0;34m\u001B[0m\u001B[0m\n\u001B[1;32m    807\u001B[0m     \u001B[0;32mif\u001B[0m \u001B[0mkwarg\u001B[0m \u001B[0;32mnot\u001B[0m \u001B[0;32min\u001B[0m \u001B[0mallowed_kwargs\u001B[0m\u001B[0;34m:\u001B[0m\u001B[0;34m\u001B[0m\u001B[0;34m\u001B[0m\u001B[0m\n\u001B[0;32m--> 808\u001B[0;31m       \u001B[0;32mraise\u001B[0m \u001B[0mTypeError\u001B[0m\u001B[0;34m(\u001B[0m\u001B[0merror_message\u001B[0m\u001B[0;34m,\u001B[0m \u001B[0mkwarg\u001B[0m\u001B[0;34m)\u001B[0m\u001B[0;34m\u001B[0m\u001B[0;34m\u001B[0m\u001B[0m\n\u001B[0m\u001B[1;32m    809\u001B[0m \u001B[0;34m\u001B[0m\u001B[0m\n\u001B[1;32m    810\u001B[0m \u001B[0;34m\u001B[0m\u001B[0m\n",
      "\u001B[0;31mTypeError\u001B[0m: ('Keyword argument not understood:', 'task')"
     ]
    }
   ]
  },
  {
   "cell_type": "code",
   "metadata": {
    "pycharm": {
     "name": "#%%\n"
    },
    "id": "oRSQ4rWNP3z7",
    "executionInfo": {
     "status": "aborted",
     "timestamp": 1617484820848,
     "user_tz": 240,
     "elapsed": 10966,
     "user": {
      "displayName": "Jonathan Michaels",
      "photoUrl": "https://lh3.googleusercontent.com/a-/AOh14Gh0Ek1qqyQyhZw10le51afY7T-sbK20C7Lqixw3Wv8=s64",
      "userId": "10871465445165793729"
     }
    }
   },
   "source": [
    "#name = '50gru_1e-3dt_weights'\n",
    "#control_rnn.load_weights(os.getcwd() + '/saved_models/' + name)\n",
    "\n",
    "batch_size = 32\n",
    "n_t = int(1.0 / arm.dt)\n",
    "\n",
    "task.set_training_params(batch_size=batch_size, n_timesteps=n_t, iterations=3000)\n",
    "with tf.device('/cpu:0'):\n",
    "    control_rnn.fit(task, verbose=1, callbacks=[batchlog_callback, trainingplot_callback], shuffle=False)\n",
    "\n"
   ],
   "execution_count": null,
   "outputs": []
  },
  {
   "cell_type": "code",
   "execution_count": null,
   "outputs": [],
   "source": [
    "if 'loss' in batchlog_callback.history:\n",
    "    plt.plot(batchlog_callback.history['loss'])\n",
    "    plt.xlabel('batch')\n",
    "    plt.ylabel('loss')\n",
    "    # plt.semilogy()\n",
    "    plt.show()\n"
   ],
   "metadata": {
    "collapsed": false,
    "pycharm": {
     "name": "#%% plot loss\n"
    }
   }
  },
  {
   "cell_type": "code",
   "execution_count": null,
   "outputs": [],
   "source": [
    "[inputs, targets, init_states] = task.generate(n_timesteps=n_t, batch_size=50)\n",
    "\n",
    "results = control_rnn([inputs, init_states], training=False)\n",
    "\n",
    "j_results = results['joint position']\n",
    "c_results = results['cartesian position']\n",
    "m_results = results['muscle state']\n",
    "\n",
    "plt.figure(figsize=(16, 4)).set_tight_layout(True)\n",
    "plt.subplot(121)\n",
    "plot_pos_over_time(cart_results=c_results)\n",
    "plt.scatter(targets[:, -1, 0], targets[:, -1, 1])\n",
    "\n",
    "plt.subplot(122)\n",
    "#plot_pos_over_time(cart_results=c_results - targets)\n",
    "plt.xlabel('distance to target (x)')\n",
    "plt.ylabel('distance to target (y)')"
   ],
   "metadata": {
    "collapsed": false,
    "pycharm": {
     "name": "#%%\n"
    }
   }
  },
  {
   "cell_type": "code",
   "metadata": {
    "pycharm": {
     "name": "#%%\n"
    },
    "id": "dLYSDCGfP3z8",
    "executionInfo": {
     "status": "aborted",
     "timestamp": 1617484820851,
     "user_tz": 240,
     "elapsed": 10952,
     "user": {
      "displayName": "Jonathan Michaels",
      "photoUrl": "https://lh3.googleusercontent.com/a-/AOh14Gh0Ek1qqyQyhZw10le51afY7T-sbK20C7Lqixw3Wv8=s64",
      "userId": "10871465445165793729"
     }
    }
   },
   "source": [
    "trial = 1\n",
    "plt.figure(figsize=(14, 2.5)).set_tight_layout(True)\n",
    "\n",
    "plt.subplot(141)\n",
    "plt.plot(inputs[0,:,:])\n",
    "\n",
    "plt.subplot(142)\n",
    "plt.plot(targets[0,:,:])\n",
    "\n",
    "plt.subplot(143)\n",
    "plt.plot(inputs[1,:,:])\n",
    "\n",
    "plt.subplot(144)\n",
    "plt.plot(targets[1,:,:])\n",
    "\n",
    "plt.show()"
   ],
   "execution_count": null,
   "outputs": []
  },
  {
   "cell_type": "code",
   "execution_count": null,
   "outputs": [],
   "source": [
    "for trial in range(10):\n",
    "    plt.figure(figsize=(14, 2.5)).set_tight_layout(True)\n",
    "\n",
    "    plt.subplot(141)\n",
    "    plt.plot(j_results[trial, :, 0].numpy().squeeze(), label='sho')\n",
    "    plt.plot(j_results[trial, :, 1].numpy().squeeze(), label='elb')\n",
    "    plt.legend()\n",
    "    plt.xlabel('time (ms)')\n",
    "    plt.ylabel('angle (rad)')\n",
    "\n",
    "    plt.subplot(142)\n",
    "    plt.plot(j_results[trial, :, 2].numpy().squeeze(), label='sho')\n",
    "    plt.plot(j_results[trial, :, 3].numpy().squeeze(), label='elb')\n",
    "    plt.legend()\n",
    "    plt.xlabel('time (ms)')\n",
    "    plt.ylabel('angle velocity (rad/sec)')\n",
    "\n",
    "    plt.subplot(143)\n",
    "    plt.plot(m_results[trial, :, 0, :].numpy().squeeze())\n",
    "    plt.xlabel('time (ms)')\n",
    "    plt.ylabel('activation (a.u.)')\n",
    "\n",
    "    plt.subplot(144)\n",
    "    plt.plot(m_results[trial, :, 2, :].numpy().squeeze())\n",
    "    plt.xlabel('time (ms)')\n",
    "    plt.ylabel('muscle velocity (m/sec)')\n",
    "\n",
    "    plt.show()"
   ],
   "metadata": {
    "collapsed": false,
    "pycharm": {
     "name": "#%%\n"
    }
   }
  },
  {
   "cell_type": "code",
   "metadata": {
    "pycharm": {
     "name": "#%% Plot histogram of weight values at initialization and at end of training\n"
    },
    "id": "F2hZNvXFP3z8",
    "executionInfo": {
     "status": "aborted",
     "timestamp": 1617484820852,
     "user_tz": 240,
     "elapsed": 10946,
     "user": {
      "displayName": "Jonathan Michaels",
      "photoUrl": "https://lh3.googleusercontent.com/a-/AOh14Gh0Ek1qqyQyhZw10le51afY7T-sbK20C7Lqixw3Wv8=s64",
      "userId": "10871465445165793729"
     }
    }
   },
   "source": [
    "if len(batchlog_callback.weights_log) > 0:\n",
    "    w0 = batchlog_callback.weights_log[0]\n",
    "    w1 = batchlog_callback.weights_log[-1]\n",
    "\n",
    "    fig, axs = plt.subplots(nrows=2, ncols=len(w0), sharex='col')\n",
    "    fig.set_tight_layout(tight=True)\n",
    "    fig.set_size_inches((15, 6))\n",
    "\n",
    "    for n in range(len(w0)):\n",
    "        weights_ini = w0[n].numpy()\n",
    "        weights_fin = w1[n].numpy()\n",
    "\n",
    "        if len(weights_ini.shape) < 10:\n",
    "            axs[0,n].hist(weights_ini.flatten())\n",
    "            axs[1,n].hist(weights_fin.flatten())\n",
    "        else:\n",
    "            axs[0,n].imshow(weights_ini, interpolation='none')\n",
    "            axs[1,n].imshow(weights_fin, interpolation='none')\n",
    "\n",
    "    plt.show()\n",
    "\n"
   ],
   "execution_count": null,
   "outputs": []
  },
  {
   "cell_type": "code",
   "metadata": {
    "pycharm": {
     "name": "#%% utilities\n"
    },
    "id": "7wfLHJZjP3z8",
    "executionInfo": {
     "status": "aborted",
     "timestamp": 1617484820852,
     "user_tz": 240,
     "elapsed": 10941,
     "user": {
      "displayName": "Jonathan Michaels",
      "photoUrl": "https://lh3.googleusercontent.com/a-/AOh14Gh0Ek1qqyQyhZw10le51afY7T-sbK20C7Lqixw3Wv8=s64",
      "userId": "10871465445165793729"
     }
    }
   },
   "source": [
    "### To apply a set of weights from a previous iteration weight set w1\n",
    "# control_rnn.get_layer('RNN').set_weights([w.numpy() for w in w1])\n",
    "\n",
    "### save model\n",
    "name = '50gru_1e-3dt_weights'\n",
    "control_rnn.save_weights(os.getcwd() + '/saved_models/' + name)"
   ],
   "execution_count": null,
   "outputs": []
  },
  {
   "cell_type": "code",
   "metadata": {
    "pycharm": {
     "name": "#%%\n"
    },
    "id": "a1USF90tP3z8",
    "executionInfo": {
     "status": "aborted",
     "timestamp": 1617484820853,
     "user_tz": 240,
     "elapsed": 10936,
     "user": {
      "displayName": "Jonathan Michaels",
      "photoUrl": "https://lh3.googleusercontent.com/a-/AOh14Gh0Ek1qqyQyhZw10le51afY7T-sbK20C7Lqixw3Wv8=s64",
      "userId": "10871465445165793729"
     }
    }
   },
   "source": [
    "from MotorNet.utils.plotor import animate_arm_trajectory\n",
    "\n",
    "results_batch_size = tf.shape(j_results)\n",
    "to_animate = np.expand_dims(np.transpose(np.reshape(np.transpose(j_results.numpy()), (results_batch_size[2], -1), order='F')), axis=0)\n",
    "\n",
    "A = j_results[0:1]\n",
    "\n",
    "animate_arm_trajectory(to_animate[:,0:1500,:], arm, path_name = './Arm_animation.gif')\n",
    "#animate_arm_trajectory(j_results[0:1], arm, path_name = './Arm_animation.gif')\n",
    "\n",
    "\n",
    "\n",
    "\n",
    "\n",
    "\n",
    "\n",
    "\n",
    "\n",
    "\n",
    "\n",
    "\n",
    "\n",
    "\n",
    "\n",
    "\n",
    "\n",
    "\n",
    "\n",
    "\n",
    "\n",
    "\n",
    "\n"
   ],
   "execution_count": null,
   "outputs": []
  }
 ]
}