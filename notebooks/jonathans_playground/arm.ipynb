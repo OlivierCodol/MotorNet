{
 "nbformat": 4,
 "nbformat_minor": 0,
 "metadata": {
  "kernelspec": {
   "name": "python3",
   "language": "python",
   "display_name": "Python 3"
  },
  "language_info": {
   "codemirror_mode": {
    "name": "ipython",
    "version": 2
   },
   "file_extension": ".py",
   "mimetype": "text/x-python",
   "name": "python",
   "nbconvert_exporter": "python",
   "pygments_lexer": "ipython2",
   "version": "2.7.6"
  },
  "colab": {
   "name": "Copy of rigid_tendon.ipynb",
   "provenance": [
    {
     "file_id": "https://github.com/OlivierCodol/LS_replication/blob/JAM/rigid_tendon.ipynb",
     "timestamp": 1617481277374
    }
   ],
   "collapsed_sections": []
  }
 },
 "cells": [
  {
   "cell_type": "code",
   "metadata": {
    "collapsed": true,
    "id": "ExIIsASHP3zj",
    "colab": {
     "base_uri": "https://localhost:8080/"
    },
    "executionInfo": {
     "status": "ok",
     "timestamp": 1617484810056,
     "user_tz": 240,
     "elapsed": 244,
     "user": {
      "displayName": "Jonathan Michaels",
      "photoUrl": "https://lh3.googleusercontent.com/a-/AOh14Gh0Ek1qqyQyhZw10le51afY7T-sbK20C7Lqixw3Wv8=s64",
      "userId": "10871465445165793729"
     }
    },
    "outputId": "4d756cd0-c6d0-4db4-e180-028b1bde32b4"
   },
   "source": [
    "import numpy as np\n",
    "import time\n",
    "import tensorflow as tf\n",
    "import matplotlib.pyplot as plt\n",
    "import os, sys\n",
    "from tensorflow.keras.layers import Input\n",
    "from tensorflow.keras.models import Model\n",
    "\n",
    "# find root directory and add to path\n",
    "root_index = os.getcwd().rfind('notebooks')\n",
    "root_directory = os.path.dirname(os.getcwd()[:root_index])\n",
    "sys.path.append(root_directory)\n",
    "\n",
    "from MotorNet.plants import RigidTendonArm\n",
    "from MotorNet.plants.muscles import RigidTendonHillMuscle, RigidTendonHillMuscleThelen\n",
    "from MotorNet.utils.plotor import plot_pos_over_time\n",
    "from MotorNet.nets.layers import GRUController\n",
    "from MotorNet.nets.callbacks import BatchLogger, TrainingPlotter\n",
    "from MotorNet.tasks.tasks import TaskStaticTarget, TaskDelayedReach, TaskStaticTargetWithPerturbations\n",
    "\n",
    "from MotorNet.nets.custommodels import MotorNetModel\n",
    "\n",
    "%load_ext autoreload\n",
    "%autoreload 2\n",
    "\n",
    "# tf.debugging.enable_check_numerics()\n",
    "print('tensorflow version: ' + tf.__version__)"
   ],
   "execution_count": 3,
   "outputs": [
    {
     "name": "stdout",
     "output_type": "stream",
     "text": [
      "The autoreload extension is already loaded. To reload it, use:\n",
      "  %reload_ext autoreload\n",
      "tensorflow version: 2.3.0\n"
     ]
    }
   ]
  },
  {
   "cell_type": "code",
   "metadata": {
    "pycharm": {
     "name": "#%% Create model\n"
    },
    "id": "N1MiHNq0P3z7",
    "colab": {
     "base_uri": "https://localhost:8080/",
     "height": 375
    },
    "executionInfo": {
     "status": "error",
     "timestamp": 1617484820853,
     "user_tz": 240,
     "elapsed": 10976,
     "user": {
      "displayName": "Jonathan Michaels",
      "photoUrl": "https://lh3.googleusercontent.com/a-/AOh14Gh0Ek1qqyQyhZw10le51afY7T-sbK20C7Lqixw3Wv8=s64",
      "userId": "10871465445165793729"
     }
    },
    "outputId": "b448355d-1220-462b-dac3-7b7df876fb1d"
   },
   "source": [
    "arm = RigidTendonArm(muscle_type=RigidTendonHillMuscleThelen(), proprioceptive_delay=0.04, visual_delay=0.13)\n",
    "regularizer = 10**-6\n",
    "feedback_noise = 0.\n",
    "cell = GRUController(plant=arm, n_units=50, kernel_regularizer=regularizer, activity_regularizer=0., recurrent_regularizer=0.,\n",
    "                     name='cell',\n",
    "                     proprioceptive_noise_sd=feedback_noise, visual_noise_sd=feedback_noise)\n",
    "task = TaskStaticTarget(arm, cell)\n",
    "\n",
    "# declare inputs\n",
    "targets = Input((None, arm.state_dim,), name='target')\n",
    "inputs = Input((None, task.get_input_dim()))\n",
    "state0 = [Input((arm.state_dim, ), name='joint0'),\n",
    "          Input((arm.state_dim, ), name='cartesian0'),\n",
    "          Input((arm.muscle_state_dim, arm.n_muscles, ), name='muscle0'),\n",
    "          Input((arm.geometry_state_dim, arm.n_muscles, ), name='geometry0'),\n",
    "          Input((arm.n_muscles*2, arm.proprioceptive_delay, ), name='proprio_feedback0'),\n",
    "          Input((arm.space_dim, arm.visual_delay, ), name='visual_feedback0')]\n",
    "state0.extend([Input((n, ), name='gru' + str(k) + '_hidden0') for k, n in enumerate(cell.n_units)])\n",
    "\n",
    "\n",
    "# wrap cell in an RNN layer\n",
    "states_out = tf.keras.layers.RNN(cell=cell, return_sequences=True, name='RNN')(inputs, initial_state=state0)\n",
    "control_rnn = MotorNetModel(inputs=[inputs, state0], outputs=states_out, name='controller')\n",
    "\n",
    "# pull the losses from the task itself\n",
    "[losses, loss_weights] = task.get_losses()\n",
    "\n",
    "# and compile\n",
    "control_rnn.compile(optimizer=tf.optimizers.Adam(learning_rate=0.001), loss=losses, loss_weights=loss_weights)\n",
    "batchlog_callback = BatchLogger()\n",
    "trainingplot_callback = TrainingPlotter(task, plot_freq=100)\n",
    "control_rnn.summary()\n",
    "losses"
   ],
   "execution_count": 4,
   "outputs": [
    {
     "name": "stdout",
     "output_type": "stream",
     "text": [
      "Model: \"controller\"\n",
      "__________________________________________________________________________________________________\n",
      "Layer (type)                    Output Shape         Param #     Connected to                     \n",
      "==================================================================================================\n",
      "input_1 (InputLayer)            [(None, None, 2)]    0                                            \n",
      "__________________________________________________________________________________________________\n",
      "joint0 (InputLayer)             [(None, 4)]          0                                            \n",
      "__________________________________________________________________________________________________\n",
      "cartesian0 (InputLayer)         [(None, 4)]          0                                            \n",
      "__________________________________________________________________________________________________\n",
      "muscle0 (InputLayer)            [(None, 6, 6)]       0                                            \n",
      "__________________________________________________________________________________________________\n",
      "geometry0 (InputLayer)          [(None, 4, 6)]       0                                            \n",
      "__________________________________________________________________________________________________\n",
      "proprio_feedback0 (InputLayer)  [(None, 12, 4)]      0                                            \n",
      "__________________________________________________________________________________________________\n",
      "visual_feedback0 (InputLayer)   [(None, 2, 13)]      0                                            \n",
      "__________________________________________________________________________________________________\n",
      "gru0_hidden0 (InputLayer)       [(None, 50)]         0                                            \n",
      "__________________________________________________________________________________________________\n",
      "RNN (RNN)                       {'joint position': ( 10506       input_1[0][0]                    \n",
      "                                                                 joint0[0][0]                     \n",
      "                                                                 cartesian0[0][0]                 \n",
      "                                                                 muscle0[0][0]                    \n",
      "                                                                 geometry0[0][0]                  \n",
      "                                                                 proprio_feedback0[0][0]          \n",
      "                                                                 visual_feedback0[0][0]           \n",
      "                                                                 gru0_hidden0[0][0]               \n",
      "==================================================================================================\n",
      "Total params: 10,506\n",
      "Trainable params: 10,506\n",
      "Non-trainable params: 0\n",
      "__________________________________________________________________________________________________\n"
     ]
    },
    {
     "data": {
      "text/plain": "{'cartesian position': <function MotorNet.nets.losses.position_loss.<locals>.loss(y_true, y_pred)>,\n 'muscle state': <function MotorNet.nets.losses.activation_squared_loss.<locals>.loss(y_true, y_pred)>}"
     },
     "execution_count": 4,
     "metadata": {},
     "output_type": "execute_result"
    }
   ]
  },
  {
   "cell_type": "code",
   "metadata": {
    "pycharm": {
     "name": "#%%\n"
    },
    "id": "oRSQ4rWNP3z7",
    "executionInfo": {
     "status": "aborted",
     "timestamp": 1617484820848,
     "user_tz": 240,
     "elapsed": 10966,
     "user": {
      "displayName": "Jonathan Michaels",
      "photoUrl": "https://lh3.googleusercontent.com/a-/AOh14Gh0Ek1qqyQyhZw10le51afY7T-sbK20C7Lqixw3Wv8=s64",
      "userId": "10871465445165793729"
     }
    }
   },
   "source": [
    "#name = '50gru_1e-3dt_weights'\n",
    "#control_rnn.load_weights(os.getcwd() + '/saved_models/' + name)\n",
    "\n",
    "batch_size = 32\n",
    "dataset_size = 3000 * batch_size\n",
    "n_t = int(0.5 / arm.dt)\n",
    "\n",
    "with tf.device('/cpu:0'):\n",
    "    for _ in range(1):\n",
    "        [inputs, targets, init_states] = task.generate(batch_size=dataset_size, n_timesteps=n_t)\n",
    "        control_rnn.fit([inputs, init_states], targets, epochs=1, batch_size=batch_size, verbose=1, callbacks=[batchlog_callback, trainingplot_callback], shuffle=False)\n",
    "\n"
   ],
   "execution_count": null,
   "outputs": []
  },
  {
   "cell_type": "code",
   "execution_count": null,
   "outputs": [],
   "source": [
    "if 'loss' in batchlog_callback.history:\n",
    "    plt.plot(batchlog_callback.history['loss'])\n",
    "    plt.xlabel('batch')\n",
    "    plt.ylabel('loss')\n",
    "    # plt.semilogy()\n",
    "    plt.show()\n"
   ],
   "metadata": {
    "collapsed": false,
    "pycharm": {
     "name": "#%% plot loss\n"
    }
   }
  },
  {
   "cell_type": "code",
   "execution_count": null,
   "outputs": [],
   "source": [
    "[inputs, targets, init_states] = task.generate(n_timesteps=n_t, batch_size=50)\n",
    "\n",
    "results = control_rnn([inputs, init_states], training=False)\n",
    "\n",
    "j_results = results['joint position']\n",
    "c_results = results['cartesian position']\n",
    "m_results = results['muscle state']\n",
    "\n",
    "plt.figure(figsize=(16, 4)).set_tight_layout(True)\n",
    "plt.subplot(121)\n",
    "plot_pos_over_time(cart_results=c_results)\n",
    "plt.scatter(targets[:, -1, 0], targets[:, -1, 1])\n",
    "\n",
    "plt.subplot(122)\n",
    "#plot_pos_over_time(cart_results=c_results - targets)\n",
    "plt.xlabel('distance to target (x)')\n",
    "plt.ylabel('distance to target (y)')"
   ],
   "metadata": {
    "collapsed": false,
    "pycharm": {
     "name": "#%%\n"
    }
   }
  },
  {
   "cell_type": "code",
   "metadata": {
    "pycharm": {
     "name": "#%%\n"
    },
    "id": "dLYSDCGfP3z8",
    "executionInfo": {
     "status": "aborted",
     "timestamp": 1617484820851,
     "user_tz": 240,
     "elapsed": 10952,
     "user": {
      "displayName": "Jonathan Michaels",
      "photoUrl": "https://lh3.googleusercontent.com/a-/AOh14Gh0Ek1qqyQyhZw10le51afY7T-sbK20C7Lqixw3Wv8=s64",
      "userId": "10871465445165793729"
     }
    }
   },
   "source": [
    "trial = 1\n",
    "plt.figure(figsize=(14, 2.5)).set_tight_layout(True)\n",
    "\n",
    "plt.subplot(141)\n",
    "plt.plot(inputs[0,:,:])\n",
    "\n",
    "plt.subplot(142)\n",
    "plt.plot(targets[0,:,:])\n",
    "\n",
    "plt.subplot(143)\n",
    "plt.plot(inputs[1,:,:])\n",
    "\n",
    "plt.subplot(144)\n",
    "plt.plot(targets[1,:,:])\n",
    "\n",
    "plt.show()"
   ],
   "execution_count": null,
   "outputs": []
  },
  {
   "cell_type": "code",
   "execution_count": null,
   "outputs": [],
   "source": [
    "for trial in range(10):\n",
    "    plt.figure(figsize=(14, 2.5)).set_tight_layout(True)\n",
    "\n",
    "    plt.subplot(141)\n",
    "    plt.plot(j_results[trial, :, 0].numpy().squeeze(), label='sho')\n",
    "    plt.plot(j_results[trial, :, 1].numpy().squeeze(), label='elb')\n",
    "    plt.legend()\n",
    "    plt.xlabel('time (ms)')\n",
    "    plt.ylabel('angle (rad)')\n",
    "\n",
    "    plt.subplot(142)\n",
    "    plt.plot(j_results[trial, :, 2].numpy().squeeze(), label='sho')\n",
    "    plt.plot(j_results[trial, :, 3].numpy().squeeze(), label='elb')\n",
    "    plt.legend()\n",
    "    plt.xlabel('time (ms)')\n",
    "    plt.ylabel('angle velocity (rad/sec)')\n",
    "\n",
    "    plt.subplot(143)\n",
    "    plt.plot(m_results[trial, :, 0, :].numpy().squeeze())\n",
    "    plt.xlabel('time (ms)')\n",
    "    plt.ylabel('activation (a.u.)')\n",
    "\n",
    "    plt.subplot(144)\n",
    "    plt.plot(m_results[trial, :, 2, :].numpy().squeeze())\n",
    "    plt.xlabel('time (ms)')\n",
    "    plt.ylabel('muscle velocity (m/sec)')\n",
    "\n",
    "    plt.show()"
   ],
   "metadata": {
    "collapsed": false,
    "pycharm": {
     "name": "#%%\n"
    }
   }
  },
  {
   "cell_type": "code",
   "metadata": {
    "pycharm": {
     "name": "#%% Plot histogram of weight values at initialization and at end of training\n"
    },
    "id": "F2hZNvXFP3z8",
    "executionInfo": {
     "status": "aborted",
     "timestamp": 1617484820852,
     "user_tz": 240,
     "elapsed": 10946,
     "user": {
      "displayName": "Jonathan Michaels",
      "photoUrl": "https://lh3.googleusercontent.com/a-/AOh14Gh0Ek1qqyQyhZw10le51afY7T-sbK20C7Lqixw3Wv8=s64",
      "userId": "10871465445165793729"
     }
    }
   },
   "source": [
    "if len(batchlog_callback.weights_log) > 0:\n",
    "    w0 = batchlog_callback.weights_log[0]\n",
    "    w1 = batchlog_callback.weights_log[-1]\n",
    "\n",
    "    fig, axs = plt.subplots(nrows=2, ncols=len(w0), sharex='col')\n",
    "    fig.set_tight_layout(tight=True)\n",
    "    fig.set_size_inches((15, 6))\n",
    "\n",
    "    for n in range(len(w0)):\n",
    "        weights_ini = w0[n].numpy()\n",
    "        weights_fin = w1[n].numpy()\n",
    "\n",
    "        if len(weights_ini.shape) < 10:\n",
    "            axs[0,n].hist(weights_ini.flatten())\n",
    "            axs[1,n].hist(weights_fin.flatten())\n",
    "        else:\n",
    "            axs[0,n].imshow(weights_ini, interpolation='none')\n",
    "            axs[1,n].imshow(weights_fin, interpolation='none')\n",
    "\n",
    "    plt.show()\n",
    "\n"
   ],
   "execution_count": null,
   "outputs": []
  },
  {
   "cell_type": "code",
   "metadata": {
    "pycharm": {
     "name": "#%% utilities\n"
    },
    "id": "7wfLHJZjP3z8",
    "executionInfo": {
     "status": "aborted",
     "timestamp": 1617484820852,
     "user_tz": 240,
     "elapsed": 10941,
     "user": {
      "displayName": "Jonathan Michaels",
      "photoUrl": "https://lh3.googleusercontent.com/a-/AOh14Gh0Ek1qqyQyhZw10le51afY7T-sbK20C7Lqixw3Wv8=s64",
      "userId": "10871465445165793729"
     }
    }
   },
   "source": [
    "### To apply a set of weights from a previous iteration weight set w1\n",
    "# control_rnn.get_layer('RNN').set_weights([w.numpy() for w in w1])\n",
    "\n",
    "### save model\n",
    "# name = '50gru_1e-3dt_weights'\n",
    "# control_rnn.save_weights(os.getcwd() + '/saved_models/' + name)"
   ],
   "execution_count": null,
   "outputs": []
  },
  {
   "cell_type": "code",
   "metadata": {
    "pycharm": {
     "name": "#%%\n"
    },
    "id": "a1USF90tP3z8",
    "executionInfo": {
     "status": "aborted",
     "timestamp": 1617484820853,
     "user_tz": 240,
     "elapsed": 10936,
     "user": {
      "displayName": "Jonathan Michaels",
      "photoUrl": "https://lh3.googleusercontent.com/a-/AOh14Gh0Ek1qqyQyhZw10le51afY7T-sbK20C7Lqixw3Wv8=s64",
      "userId": "10871465445165793729"
     }
    }
   },
   "source": [
    "from MotorNet.utils.plotor import animate_arm_trajectory\n",
    "\n",
    "results_batch_size = tf.shape(j_results)\n",
    "to_animate = np.expand_dims(np.transpose(np.reshape(np.transpose(j_results.numpy()), (results_batch_size[2], -1), order='F')), axis=0)\n",
    "\n",
    "A = j_results[0:1]\n",
    "\n",
    "animate_arm_trajectory(to_animate[:,0:1500,:], arm, path_name = './Arm_animation.gif')\n",
    "#animate_arm_trajectory(j_results[0:1], arm, path_name = './Arm_animation.gif')\n",
    "\n",
    "\n",
    "\n",
    "\n",
    "\n",
    "\n",
    "\n",
    "\n",
    "\n",
    "\n",
    "\n",
    "\n",
    "\n",
    "\n",
    "\n",
    "\n",
    "\n",
    "\n",
    "\n",
    "\n",
    "\n",
    "\n",
    "\n"
   ],
   "execution_count": null,
   "outputs": []
  }
 ]
}