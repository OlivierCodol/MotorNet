{
 "cells": [
  {
   "cell_type": "code",
   "execution_count": 1,
   "outputs": [
    {
     "ename": "ImportError",
     "evalue": "cannot import name 'MultiLayerRNN' from 'MotorNet.nets.layers' (/home/jonathan/Desktop/MotorNet/MotorNet/nets/layers.py)",
     "output_type": "error",
     "traceback": [
      "\u001B[0;31m---------------------------------------------------------------------------\u001B[0m",
      "\u001B[0;31mImportError\u001B[0m                               Traceback (most recent call last)",
      "\u001B[0;32m<ipython-input-1-366fb8e22a16>\u001B[0m in \u001B[0;36m<module>\u001B[0;34m\u001B[0m\n\u001B[1;32m     16\u001B[0m \u001B[0;32mfrom\u001B[0m \u001B[0mMotorNet\u001B[0m\u001B[0;34m.\u001B[0m\u001B[0mutils\u001B[0m\u001B[0;34m.\u001B[0m\u001B[0mplotor\u001B[0m \u001B[0;32mimport\u001B[0m \u001B[0mplot_pos_over_time\u001B[0m\u001B[0;34m\u001B[0m\u001B[0;34m\u001B[0m\u001B[0m\n\u001B[1;32m     17\u001B[0m \u001B[0;32mfrom\u001B[0m \u001B[0mMotorNet\u001B[0m\u001B[0;34m.\u001B[0m\u001B[0mnets\u001B[0m\u001B[0;34m.\u001B[0m\u001B[0mlosses\u001B[0m \u001B[0;32mimport\u001B[0m \u001B[0mempty_loss\u001B[0m\u001B[0;34m,\u001B[0m \u001B[0mposition_loss\u001B[0m\u001B[0;34m,\u001B[0m \u001B[0mactivation_squared_loss\u001B[0m\u001B[0;34m\u001B[0m\u001B[0;34m\u001B[0m\u001B[0m\n\u001B[0;32m---> 18\u001B[0;31m \u001B[0;32mfrom\u001B[0m \u001B[0mMotorNet\u001B[0m\u001B[0;34m.\u001B[0m\u001B[0mnets\u001B[0m\u001B[0;34m.\u001B[0m\u001B[0mlayers\u001B[0m \u001B[0;32mimport\u001B[0m \u001B[0mMultiLayerRNN\u001B[0m\u001B[0;34m\u001B[0m\u001B[0;34m\u001B[0m\u001B[0m\n\u001B[0m\u001B[1;32m     19\u001B[0m \u001B[0;32mfrom\u001B[0m \u001B[0mMotorNet\u001B[0m\u001B[0;34m.\u001B[0m\u001B[0mnets\u001B[0m\u001B[0;34m.\u001B[0m\u001B[0mcallbacks\u001B[0m \u001B[0;32mimport\u001B[0m \u001B[0mNBatchLogger\u001B[0m\u001B[0;34m\u001B[0m\u001B[0;34m\u001B[0m\u001B[0m\n\u001B[1;32m     20\u001B[0m \u001B[0;34m\u001B[0m\u001B[0m\n",
      "\u001B[0;31mImportError\u001B[0m: cannot import name 'MultiLayerRNN' from 'MotorNet.nets.layers' (/home/jonathan/Desktop/MotorNet/MotorNet/nets/layers.py)"
     ]
    }
   ],
   "source": [
    "import numpy as np\n",
    "import time\n",
    "import tensorflow as tf\n",
    "import matplotlib.pyplot as plt\n",
    "import os, sys\n",
    "from tensorflow.keras.layers import Lambda, Input\n",
    "from tensorflow.keras.models import Model\n",
    "from mpl_toolkits.mplot3d import Axes3D\n",
    "\n",
    "# find root directory and add to path\n",
    "root_index = os.getcwd().rfind('notebooks')\n",
    "root_directory = os.path.dirname(os.getcwd()[:root_index])\n",
    "sys.path.append(root_directory)\n",
    "\n",
    "from MotorNet.plants.skeletons import Arm\n",
    "from MotorNet.utils.plotor import plot_pos_over_time\n",
    "from MotorNet.nets.losses import empty_loss, position_loss, activation_squared_loss\n",
    "from MotorNet.nets.layers import MultiLayerRNN\n",
    "from MotorNet.nets.callbacks import NBatchLogger\n",
    "\n",
    "%load_ext autoreload\n",
    "%autoreload 2\n",
    "\n",
    "# tf.debugging.enable_check_numerics()\n",
    "print('tensorflow version: ' + tf.__version__)"
   ],
   "metadata": {
    "collapsed": false,
    "pycharm": {
     "name": "#%%\n"
    }
   }
  },
  {
   "cell_type": "code",
   "execution_count": null,
   "outputs": [],
   "source": [],
   "metadata": {
    "collapsed": false,
    "pycharm": {
     "name": "#%%"
    }
   }
  }
 ],
 "metadata": {
  "kernelspec": {
   "display_name": "Python 3",
   "language": "python",
   "name": "python3"
  },
  "language_info": {
   "codemirror_mode": {
    "name": "ipython",
    "version": 2
   },
   "file_extension": ".py",
   "mimetype": "text/x-python",
   "name": "python",
   "nbconvert_exporter": "python",
   "pygments_lexer": "ipython2",
   "version": "2.7.6"
  }
 },
 "nbformat": 4,
 "nbformat_minor": 0
}