{
 "cells": [
  {
   "cell_type": "markdown",
   "metadata": {
    "collapsed": false
   },
   "source": [
    "# Create a custom Task\n",
    "\n",
    "In this tutorial, we will go over `Task` objects, how they work and how to build a custom subclass to implement your own task design.\n",
    "\n",
    "Let's start by importing what we need.\n"
   ]
  },
  {
   "cell_type": "code",
   "execution_count": 1,
   "metadata": {
    "collapsed": true
   },
   "outputs": [
    {
     "name": "stdout",
     "output_type": "stream",
     "text": [
      "Already initialized using LOCAL initialization.\n",
      "All packages imported.\n",
      "tensorflow version: 2.7.0\n",
      "numpy version: 1.21.5\n"
     ]
    }
   ],
   "source": [
    "import os\n",
    "import sys\n",
    "import numpy as np\n",
    "import tensorflow as tf\n",
    "\n",
    "colab_env = 'google.colab' in str(get_ipython()) if hasattr(__builtins__,'__IPYTHON__') else False\n",
    "colab_initialized = True if os.path.exists(\"MotorNet\") else False\n",
    "\n",
    "if colab_env and not colab_initialized:\n",
    "  !git clone https://github.com/OlivierCodol/MotorNet\n",
    "  sys.path.append('MotorNet')\n",
    "  print(\"Running cell using COLAB initialization...\")\n",
    "elif colab_env and colab_initialized:\n",
    "  print(\"Already initialized using COLAB initialization.\")\n",
    "else:\n",
    "  paths = [p for p in sys.path if os.path.exists(p)]\n",
    "  local_initialized = True if [p for p in paths if \"motornet\" in os.listdir(p)] else False\n",
    "  if local_initialized:\n",
    "    %load_ext autoreload\n",
    "    %autoreload 2\n",
    "    print(\"Already initialized using LOCAL initialization.\")\n",
    "  else:\n",
    "    path = [p for p in paths if p.__contains__(\"tutorials\")]\n",
    "    if len(path) != 1:\n",
    "      raise ValueError(\"Path to MotorNet could not be determined with certainty.\")\n",
    "    sys.path.append(os.path.dirname(path[:path.rfind('tutorials')]))\n",
    "    %load_ext autoreload\n",
    "    %autoreload 2\n",
    "    print(\"Running cell using LOCAL initialization...\")\n",
    "\n",
    "\n",
    "import motornet as mn\n",
    "\n",
    "print('All packages imported.')\n",
    "print('tensorflow version: ' + tf.__version__)\n",
    "print('numpy version: ' + np.__version__)"
   ]
  },
  {
   "cell_type": "markdown",
   "metadata": {
    "collapsed": false
   },
   "source": [
    "\n",
    "# I. Useful methods in Task objects\n",
    "\n",
    "Several methods are useful to assess what your task object currently contains.\n",
    "- The `print_attributes` method will print all attributes held by the `Task` instance as well as their current value. This includes the losses declared via the `Task` object.\n",
    "- The `get_attributes` method will fetch those attributes, and return two lists: one with the name of each attribute, and one with the associated value of each attribute.\n",
    "- The `print_loss` method will print the losses currently declared via the `add_loss` method.\n",
    "\n",
    "First, let's import a built-in `Task` object and create an instance of it."
   ]
  },
  {
   "cell_type": "code",
   "execution_count": 2,
   "metadata": {
    "collapsed": false,
    "pycharm": {
     "name": "#%%\n"
    }
   },
   "outputs": [],
   "source": [
    "\n",
    "plant = mn.plants.ReluPointMass24()\n",
    "network = mn.nets.layers.GRUNetwork(plant=plant, n_units=50, kernel_regularizer=10**-6, name='network')\n",
    "\n",
    "task = mn.tasks.CentreOutReach(network=network)\n"
   ]
  },
  {
   "cell_type": "code",
   "execution_count": 3,
   "metadata": {
    "collapsed": false,
    "pycharm": {
     "name": "#%%\n"
    }
   },
   "outputs": [
    {
     "name": "stdout",
     "output_type": "stream",
     "text": [
      "angular_step:  15\n",
      "catch_trial_perc:  50\n",
      "delay_range:  [5, 25]\n",
      "do_recompute_targets:  False\n",
      "dt:  0.01\n",
      "go_cue_range:  [5, 25]\n",
      "initial_joint_state:  None\n",
      "initial_joint_state_original:  None\n",
      "n_initial_joint_states:  None\n",
      "reaching_distance:  0.1\n",
      "start_position:  [[0. 0.]]\n",
      "training_batch_size:  32\n",
      "training_n_timesteps:  100\n",
      "\n",
      "loss_weights:\n",
      " {'joint position': 0.0, 'cartesian position': 1.0, 'muscle state': 5, 'geometry state': 0.0, 'proprioceptive feedback': 0.0, 'visual feedback': 0.0, 'excitation': 0.0, 'gru_hidden_0': 0.1}\n",
      "\n",
      "losses:\n",
      " {'joint position': None, 'cartesian position': <motornet.nets.losses.PositionLoss object at 0x000001A3594E0C70>, 'muscle state': <motornet.nets.losses.L2xDxActivationLoss object at 0x000001A3594E0BE0>, 'geometry state': None, 'proprioceptive feedback': None, 'visual feedback': None, 'excitation': None, 'gru_hidden_0': <motornet.nets.losses.L2xDxRegularizer object at 0x000001A3594E0B80>}\n",
      "\n",
      "loss_names:\n",
      " {'joint position': 'joint position', 'cartesian position': 'position', 'muscle state': 'l2_xdx_activation', 'geometry state': 'geometry state', 'proprioceptive feedback': 'proprioceptive feedback', 'visual feedback': 'visual feedback', 'excitation': 'excitation', 'gru_hidden_0': 'gru_regularizer'}\n"
     ]
    }
   ],
   "source": [
    "\n",
    "task.print_attributes()"
   ]
  },
  {
   "cell_type": "code",
   "execution_count": 4,
   "metadata": {
    "collapsed": false,
    "pycharm": {
     "name": "#%%\n"
    }
   },
   "outputs": [
    {
     "name": "stdout",
     "output_type": "stream",
     "text": [
      "['angular_step', 'catch_trial_perc', 'delay_range', 'do_recompute_targets', 'dt', 'go_cue_range', 'initial_joint_state', 'initial_joint_state_original', 'n_initial_joint_states', 'reaching_distance', 'start_position', 'training_batch_size', 'training_n_timesteps']\n",
      "[15, 50, [5, 25], False, 0.01, [5, 25], None, None, None, 0.1, array([[0., 0.]], dtype=float32), 32, 100]\n"
     ]
    }
   ],
   "source": [
    "attr_names, attr_values = task.get_attributes()\n",
    "print(attr_names)\n",
    "print(attr_values)"
   ]
  },
  {
   "cell_type": "code",
   "execution_count": 5,
   "metadata": {
    "collapsed": false,
    "pycharm": {
     "name": "#%%\n"
    }
   },
   "outputs": [
    {
     "name": "stdout",
     "output_type": "stream",
     "text": [
      "ASSIGNED OUTPUT: cartesian position\n",
      "-----------------------------------\n",
      "loss function:  <motornet.nets.losses.PositionLoss object at 0x000001A3594E0C70>\n",
      "loss weight:    1.0\n",
      "loss name:      position\n",
      "Compounded:     NO\n",
      "\n",
      "\n",
      "ASSIGNED OUTPUT: muscle state\n",
      "-----------------------------\n",
      "loss function:  <motornet.nets.losses.L2xDxActivationLoss object at 0x000001A3594E0BE0>\n",
      "loss weight:    5\n",
      "loss name:      l2_xdx_activation\n",
      "Compounded:     NO\n",
      "\n",
      "\n",
      "ASSIGNED OUTPUT: gru_hidden_0\n",
      "-----------------------------\n",
      "loss function:  <motornet.nets.losses.L2xDxRegularizer object at 0x000001A3594E0B80>\n",
      "loss weight:    0.1\n",
      "loss name:      gru_regularizer\n",
      "Compounded:     NO\n",
      "\n",
      "\n"
     ]
    }
   ],
   "source": [
    "\n",
    "task.print_losses()\n",
    "\n"
   ]
  },
  {
   "cell_type": "markdown",
   "metadata": {
    "collapsed": false
   },
   "source": [
    "\n",
    "If we then add another loss using the `add_loss` method, and re-print the losses, the new loss will be included in the print-out.\n",
    "\n",
    "Note that \"Compounded\" indicates if the loss shares an assigned output with another loss (see the tutorial on losses for more details).\n"
   ]
  },
  {
   "cell_type": "code",
   "execution_count": 6,
   "metadata": {
    "collapsed": false,
    "pycharm": {
     "name": "#%%\n"
    }
   },
   "outputs": [
    {
     "name": "stdout",
     "output_type": "stream",
     "text": [
      "ASSIGNED OUTPUT: cartesian position\n",
      "-----------------------------------\n",
      "loss function:  <motornet.nets.losses.PositionLoss object at 0x000001A3594E0C70>\n",
      "loss weight:    1.0\n",
      "loss name:      position\n",
      "Compounded:     YES\n",
      "\n",
      "\n",
      "ASSIGNED OUTPUT: cartesian position\n",
      "-----------------------------------\n",
      "loss function:  <motornet.nets.losses.PositionLoss object at 0x000001A359558250>\n",
      "loss weight:    1.0\n",
      "loss name:      position\n",
      "Compounded:     YES\n",
      "\n",
      "\n",
      "ASSIGNED OUTPUT: muscle state\n",
      "-----------------------------\n",
      "loss function:  <motornet.nets.losses.L2xDxActivationLoss object at 0x000001A3594E0BE0>\n",
      "loss weight:    5\n",
      "loss name:      l2_xdx_activation\n",
      "Compounded:     NO\n",
      "\n",
      "\n",
      "ASSIGNED OUTPUT: gru_hidden_0\n",
      "-----------------------------\n",
      "loss function:  <motornet.nets.losses.L2xDxRegularizer object at 0x000001A3594E0B80>\n",
      "loss weight:    0.1\n",
      "loss name:      gru_regularizer\n",
      "Compounded:     NO\n",
      "\n",
      "\n"
     ]
    }
   ],
   "source": [
    "task.add_loss(loss=mn.nets.losses.PositionLoss(), assigned_output=\"cartesian position\")\n",
    "task.print_losses()\n"
   ]
  },
  {
   "cell_type": "markdown",
   "metadata": {
    "collapsed": false
   },
   "source": [
    "# II. Initializing a MotorNetModel with a Task object\n",
    "\n",
    "\n",
    "In `tensorflow`, creating a model requires declaring `tf.keras.layers.Input` layers that will handle the input and initial state data. Creating these `Input` layers mainly require to declare the shape of the arrays that will be passed through. The `Task` class should provide those using the `get_input_dict_layers` and `get_initial_state_layers` methods.\n",
    "\n"
   ]
  },
  {
   "cell_type": "code",
   "execution_count": 7,
   "metadata": {
    "collapsed": false,
    "pycharm": {
     "name": "#%%\n"
    }
   },
   "outputs": [
    {
     "name": "stdout",
     "output_type": "stream",
     "text": [
      "inputs :-->  KerasTensor(type_spec=TensorSpec(shape=(None, None, 5), dtype=tf.float32, name='inputs'), name='inputs', description=\"created by layer 'inputs'\")\n"
     ]
    }
   ],
   "source": [
    "inputs = task.get_input_dict_layers()\n",
    "\n",
    "for k, v in inputs.items():\n",
    "    print(k + \" :--> \", v)"
   ]
  },
  {
   "cell_type": "markdown",
   "metadata": {
    "collapsed": false
   },
   "source": [
    "\n",
    "As we can see, the input layer is simply a dictionary containing `keras` tensors.\n"
   ]
  },
  {
   "cell_type": "code",
   "execution_count": 8,
   "metadata": {
    "collapsed": false,
    "pycharm": {
     "name": "#%%\n"
    }
   },
   "outputs": [
    {
     "name": "stdout",
     "output_type": "stream",
     "text": [
      "KerasTensor(type_spec=TensorSpec(shape=(None, 4), dtype=tf.float32, name='joint0'), name='joint0', description=\"created by layer 'joint0'\")\n",
      "KerasTensor(type_spec=TensorSpec(shape=(None, 4), dtype=tf.float32, name='cartesian0'), name='cartesian0', description=\"created by layer 'cartesian0'\")\n",
      "KerasTensor(type_spec=TensorSpec(shape=(None, 4, 4), dtype=tf.float32, name='muscle0'), name='muscle0', description=\"created by layer 'muscle0'\")\n",
      "KerasTensor(type_spec=TensorSpec(shape=(None, 4, 4), dtype=tf.float32, name='geometry0'), name='geometry0', description=\"created by layer 'geometry0'\")\n",
      "KerasTensor(type_spec=TensorSpec(shape=(None, 8, 1), dtype=tf.float32, name='proprio_feedback0'), name='proprio_feedback0', description=\"created by layer 'proprio_feedback0'\")\n",
      "KerasTensor(type_spec=TensorSpec(shape=(None, 2, 1), dtype=tf.float32, name='visual_feedback0'), name='visual_feedback0', description=\"created by layer 'visual_feedback0'\")\n",
      "KerasTensor(type_spec=TensorSpec(shape=(None, 4), dtype=tf.float32, name='excitation'), name='excitation', description=\"created by layer 'excitation'\")\n",
      "KerasTensor(type_spec=TensorSpec(shape=(None, 50), dtype=tf.float32, name='gru_hidden_0_0'), name='gru_hidden_0_0', description=\"created by layer 'gru_hidden_0_0'\")\n"
     ]
    }
   ],
   "source": [
    "\n",
    "state0 = task.get_initial_state_layers()\n",
    "\n",
    "for s in state0:\n",
    "    print(s)"
   ]
  },
  {
   "cell_type": "markdown",
   "metadata": {
    "collapsed": false
   },
   "source": [
    "Conversely, the initial state is a list of `keras` tensors. This difference is simply because `tensorflow` models are built with that logic, and so require initial states to be lists. Inputs don't have to be dictionary but dictionaries are in practice clearer and more versatile than lists so we chose this over other possibilities."
   ]
  },
  {
   "cell_type": "markdown",
   "metadata": {
    "collapsed": false
   },
   "source": [
    "# III. Subclassing a Task object\n",
    "\n",
    "Now let's try to build our own task design. To do so, we will go over a simple subclassing process to create a custom task.\n",
    "\n",
    "\n",
    "### III. 1. Initialization of the Task subclass\n",
    "The base class for tasks is `mn.tasks.Task`, so we will make the custom task inherit from that base class. We can then define a `__name__` for the class, and declare the losses in the `__init__` method using a `self.add_loss` method that is inherited from the base class.\n",
    "\n",
    "Note that declaring losses through the `Task` object is not mandatory for the simulation to run, but this is easier, as otherwise we would have to manually do all the things that the `add_loss` method does automatically for us. Also this may result in misleading (shuffled) loss labels when printing progress bars at runtime because `tensorflow` models (`tf.keras.Model`) do not maintain loss label orders properly (the loss dictionary gets flattened). Adding losses to the task object will make it available to our curstom-made `tf.keras.Model` subclass, which is `mn.nets.MotorNetModel`. In `MotorNetModel` the losses available in `Task` subclasses will be re-ordered properly to avoid the parent class `tf.keras.Model` reshuffling the labels in a wrong order.\n",
    "\n",
    "The `add_loss` method takes three arguments:\n",
    "- `assigned_output` should be a string matching one of the keys of the `MotorNetModel`'s output dictionary. Of note, each key corresponds to a state of the model. In its current version, `motornet` only allows one loss per output key.\n",
    "- `loss` should pass a loss object, either custom-made or from the `mn.nets.losses` module.\n",
    "- `loss_weight` is a scalar that defines the weight of the loss in the global loss that the network will optimize at runtime.\n",
    "\n",
    "\n",
    "### III. 2. Generating inputs\n",
    "We can next define the `task.generate` method. It should take as inputs:\n",
    "- `batch_size`\n",
    "- `n_timesteps`\n",
    "\n",
    "If desired, it can also take `**kwargs` inputs.\n",
    "\n",
    "It should produce as output a list containing three items, in the order below:\n",
    "- A dictionary containing the inputs to the network.\n",
    "- The targets that will be passed to the network (often called `y` or `y_true`, as opposed to `x` or `y_pred`).\n",
    "- The initial states to the network.\n",
    "\n",
    "\n",
    "#### III. 2. a. Input dictionary\n",
    "The input dictionary only requires a \"inputs\" key. The value assigned to that key will be passed as-is as input to the network for a forward pass. So is content is essentially up to the user, according to what the user wishes the network to receive as input information. Typically, for a reaching movement, this could be the target's position in cartesian coordinates. If a delayed reach is desired, one could consider adding a go cue as well.\n",
    "\n",
    "Similar to states, the first dimension (rows) should always be  `batch_size` and the second dimension (columns) should always be the number of timesteps for the reach. This is true for any value in that dictionary, not just for the value associated with the \"inputs\" key.\n",
    "\n",
    "Other notable keys one may add are \"joint_load\" and \"endpoint_load\". These would be transmitted to the plant by the network. If one wishes to add more keys to the input dictionary, it would be required to subclass the network to implement appropriate handling of these custom-made keys in the `call` method of the network.\n",
    "\n",
    "We decided to use a dictionary as input because of the flexibility and clarity of code it provides. Note however that generally, `tensorflow` models can accept other forms of inputs, such as simple arrays, though our `motornet` model will not handle them.\n",
    "\n",
    "\n",
    "#### III. 2. b. Targets\n",
    "The target values that the plant should produce, and that will be passed to the loss functions. In `tensorflow` nomenclature, this is sometimes referred to as the `y_true`, to which the `y_pred` is compared.\n",
    "In practice this could be the position of the target for a reaching movement. If a delayed movement is desired, it could be the starting position until the go cue time, and the target position afterwards.\n",
    "\n",
    "\n",
    "#### III. 2. c. Initial states\n",
    "The value of the initial states at simulation start. These can be obtained from the `task.get_initial_state(batch_size=batch_size)` method. If a pre-defined starting position is desired, one can pass an optional `joint_state` argument to this method as well.\n",
    "\n",
    "\n"
   ]
  },
  {
   "cell_type": "code",
   "execution_count": 9,
   "metadata": {
    "collapsed": false,
    "pycharm": {
     "name": "#%%\n"
    }
   },
   "outputs": [
    {
     "name": "stdout",
     "output_type": "stream",
     "text": [
      "Task subclass built.\n",
      "\n",
      "Dictionary content:\n",
      "\tinputs shape :-->  (5, 10, 2)\n",
      "\tendpoint_load shape :-->  (5, 10, 2)\n",
      "\n",
      "targets shape :-->  (5, 10, 4) \n",
      "\n",
      "initial states shape:\n",
      "\t (5, 4)\n",
      "\t (5, 4)\n",
      "\t (5, 4, 4)\n",
      "\t (5, 4, 4)\n",
      "\t (5, 8, 1)\n",
      "\t (5, 2, 1)\n",
      "\t (5, 4)\n",
      "\t (5, 50)\n"
     ]
    }
   ],
   "source": [
    "\n",
    "class RandomTargetReachWithLoads(mn.tasks.Task):\n",
    "    def __init__(self, network, endpoint_load: float, **kwargs):\n",
    "        super().__init__(network, **kwargs)\n",
    "        self.__name__ = 'RandomTargetReachWithLoads'\n",
    "        self.endpoint_load = endpoint_load\n",
    "\n",
    "        # losses\n",
    "        max_iso_force = self.network.plant.muscle.max_iso_force\n",
    "        c_loss = mn.nets.losses.PositionLoss()\n",
    "        m_loss = mn.nets.losses.L2ActivationLoss(max_iso_force=max_iso_force)\n",
    "        self.add_loss(assigned_output='cartesian position', loss=c_loss, loss_weight=1.)\n",
    "        self.add_loss(assigned_output='muscle state', loss=m_loss, loss_weight=.2)\n",
    "\n",
    "    def generate(self, batch_size, n_timesteps, **kwargs):\n",
    "        validation = kwargs.get(\"validation\", False)\n",
    "\n",
    "        if not validation:\n",
    "            init_states = self.get_initial_state(batch_size=batch_size)\n",
    "        else:\n",
    "            # if validation, then always start in the center (0, 0)\n",
    "            joint_state = tf.zeros((batch_size, self.network.plant.space_dim))\n",
    "            init_states = self.get_initial_state(batch_size=batch_size, joint_state=joint_state)\n",
    "\n",
    "        goal_states_j = self.network.plant.draw_random_uniform_states(batch_size=batch_size)\n",
    "        goal_states = self.network.plant.joint2cartesian(goal_states_j)\n",
    "        targets = self.network.plant.state2target(state=goal_states, n_timesteps=n_timesteps).numpy()\n",
    "\n",
    "        inputs = {\n",
    "          \"inputs\": targets[:, :, :self.network.plant.space_dim],\n",
    "          \"endpoint_load\": tf.constant(self.endpoint_load, shape=(batch_size, n_timesteps, 2))\n",
    "        }\n",
    "        return [inputs, targets, init_states]\n",
    "\n",
    "\n",
    "task = RandomTargetReachWithLoads(network=network, endpoint_load=3.)\n",
    "print(\"Task subclass built.\\n\")\n",
    "\n",
    "\n",
    "\n",
    "L = task.generate(batch_size=5, n_timesteps=10, validation=True)\n",
    "\n",
    "print(\"Dictionary content:\")\n",
    "for k, v in L[0].items():\n",
    "    print(\"\\t\" + k + \" shape :--> \", v.shape)\n",
    "\n",
    "print(\"\\ntargets shape :--> \", L[1].shape, \"\\n\")\n",
    "\n",
    "print(\"initial states shape:\")\n",
    "for elem in L[2]:\n",
    "    print(\"\\t\", elem.shape)"
   ]
  }
 ],
 "metadata": {
  "kernelspec": {
   "display_name": "Python 3",
   "language": "python",
   "name": "python3"
  },
  "language_info": {
   "codemirror_mode": {
    "name": "ipython",
    "version": 2
   },
   "file_extension": ".py",
   "mimetype": "text/x-python",
   "name": "python",
   "nbconvert_exporter": "python",
   "pygments_lexer": "ipython2",
   "version": "2.7.6"
  }
 },
 "nbformat": 4,
 "nbformat_minor": 0
}
