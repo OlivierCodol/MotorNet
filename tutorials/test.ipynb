{
 "cells": [
  {
   "cell_type": "code",
   "execution_count": 1,
   "metadata": {
    "collapsed": true
   },
   "outputs": [],
   "source": [
    "import os\n",
    "import sys\n",
    "\n",
    "\n",
    "file_dir = sys.path[0]\n",
    "sys.path.append(os.path.dirname(file_dir[:file_dir.rfind('tutorials')]))\n",
    "\n",
    "%load_ext autoreload\n",
    "%autoreload 2\n",
    "\n"
   ]
  },
  {
   "cell_type": "code",
   "execution_count": 3,
   "outputs": [
    {
     "name": "stdout",
     "output_type": "stream",
     "text": [
      "tensorflow version: 2.7.0\n"
     ]
    }
   ],
   "source": [
    "import tensorflow as tf\n",
    "import motornet as mn\n",
    "print('tensorflow version: ' + tf.__version__)"
   ],
   "metadata": {
    "collapsed": false,
    "pycharm": {
     "name": "#%%\n"
    }
   }
  },
  {
   "cell_type": "code",
   "execution_count": 14,
   "outputs": [
    {
     "name": "stdout",
     "output_type": "stream",
     "text": [
      "tensorflow version: 2.7.0\n",
      "Model: \"model\"\n",
      "__________________________________________________________________________________________________\n",
      " Layer (type)                   Output Shape         Param #     Connected to                     \n",
      "==================================================================================================\n",
      " inputs (InputLayer)            [(None, None, 5)]    0           []                               \n",
      "                                                                                                  \n",
      " joint0 (InputLayer)            [(None, 4)]          0           []                               \n",
      "                                                                                                  \n",
      " cartesian0 (InputLayer)        [(None, 4)]          0           []                               \n",
      "                                                                                                  \n",
      " muscle0 (InputLayer)           [(None, 4, 4)]       0           []                               \n",
      "                                                                                                  \n",
      " geometry0 (InputLayer)         [(None, 4, 4)]       0           []                               \n",
      "                                                                                                  \n",
      " proprio_feedback0 (InputLayer)  [(None, 8, 1)]      0           []                               \n",
      "                                                                                                  \n",
      " visual_feedback0 (InputLayer)  [(None, 2, 1)]       0           []                               \n",
      "                                                                                                  \n",
      " excitation (InputLayer)        [(None, 4)]          0           []                               \n",
      "                                                                                                  \n",
      " gru0_hidden0 (InputLayer)      [(None, 50)]         0           []                               \n",
      "                                                                                                  \n",
      " RNN (RNN)                      {'joint position':   10254       ['inputs[0][0]',                 \n",
      "                                (None, None, 4),                  'joint0[0][0]',                 \n",
      "                                 'cartesian positio               'cartesian0[0][0]',             \n",
      "                                n': (None, None, 4)               'muscle0[0][0]',                \n",
      "                                , 'muscle state': (               'geometry0[0][0]',              \n",
      "                                None, None, 4, 4),                'proprio_feedback0[0][0]',      \n",
      "                                 'geometry state':                'visual_feedback0[0][0]',       \n",
      "                                (None, None, 4, 4),               'excitation[0][0]',             \n",
      "                                 'proprioceptive fe               'gru0_hidden0[0][0]']           \n",
      "                                edback': (None, Non                                               \n",
      "                                e, 8, 1),                                                         \n",
      "                                 'visual feedback':                                               \n",
      "                                 (None, None, 2, 1)                                               \n",
      "                                , 'excitation': (No                                               \n",
      "                                ne, None, 4),                                                     \n",
      "                                 'gru_hidden0': (No                                               \n",
      "                                ne, None, 50)}                                                    \n",
      "                                                                                                  \n",
      "==================================================================================================\n",
      "Total params: 10,254\n",
      "Trainable params: 10,254\n",
      "Non-trainable params: 0\n",
      "__________________________________________________________________________________________________\n"
     ]
    }
   ],
   "source": [
    "import tensorflow as tf\n",
    "import motornet as mn\n",
    "print('tensorflow version: ' + tf.__version__)\n",
    "\n",
    "plant = mn.plants.ReluPointMass24()\n",
    "network = mn.nets.layers.GRUNetwork(plant=plant, n_units=50, kernel_regularizer=10**-6, name='network')\n",
    "task = mn.tasks.CentreOutReach(network=network)\n",
    "\n",
    "inputs = task.get_input_dict_layers()\n",
    "state0 = task.get_initial_state_layers()\n",
    "\n",
    "rnn = tf.keras.layers.RNN(cell=network, return_sequences=True, name='RNN')\n",
    "states_out = rnn(inputs, initial_state=state0)\n",
    "\n",
    "model = mn.nets.MotorNetModel(inputs=[inputs, state0], outputs=states_out, name='model', task=task)\n",
    "model.compile(optimizer=tf.optimizers.Adam(clipnorm=1.), loss=task.losses, loss_weights=task.loss_weights)\n",
    "model.summary()\n"
   ],
   "metadata": {
    "collapsed": false,
    "pycharm": {
     "name": "#%%\n"
    }
   }
  }
 ],
 "metadata": {
  "kernelspec": {
   "display_name": "Python 3",
   "language": "python",
   "name": "python3"
  },
  "language_info": {
   "codemirror_mode": {
    "name": "ipython",
    "version": 2
   },
   "file_extension": ".py",
   "mimetype": "text/x-python",
   "name": "python",
   "nbconvert_exporter": "python",
   "pygments_lexer": "ipython2",
   "version": "2.7.6"
  }
 },
 "nbformat": 4,
 "nbformat_minor": 0
}