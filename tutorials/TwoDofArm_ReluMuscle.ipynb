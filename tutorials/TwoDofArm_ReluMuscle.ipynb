{
 "cells": [
  {
   "cell_type": "code",
   "execution_count": 1,
   "id": "4318dce2",
   "metadata": {},
   "outputs": [
    {
     "name": "stdout",
     "output_type": "stream",
     "text": [
      "tensorflow version: 2.6.0\n",
      "numpy version: 1.19.5\n"
     ]
    }
   ],
   "source": [
    "import numpy as np\n",
    "import tensorflow as tf\n",
    "import matplotlib.pyplot as plt\n",
    "import os, sys\n",
    "from tensorflow.keras.layers import Input\n",
    "\n",
    "#find root directory and add to path\n",
    "root_index = os.getcwd().rfind('MotorNet') + len('MotorNet')+1\n",
    "root_directory = os.path.dirname(os.getcwd()[:root_index])\n",
    "sys.path.append(root_directory)\n",
    "\n",
    "from MotorNet.plants import PlantWrapper\n",
    "from MotorNet.plants.skeletons import TwoDofArm\n",
    "from MotorNet.plants.muscles import ReluMuscle\n",
    "from MotorNet.utils.plotor import plot_pos_over_time\n",
    "from MotorNet.nets.losses import empty_loss, position_loss, activation_squared_loss\n",
    "from MotorNet.nets.callbacks import BatchLogger\n",
    "from MotorNet.nets.layers import GRUController\n",
    "from MotorNet.tasks import TaskStaticTarget\n",
    "from MotorNet.nets.models import MotorNetModel\n",
    "\n",
    "%load_ext autoreload\n",
    "%autoreload 2\n",
    "\n",
    "#tf.debugging.enable_check_numerics()\n",
    "print('tensorflow version: ' + tf.__version__)\n",
    "print('numpy version: ' + np.__version__)\n"
   ]
  },
  {
   "cell_type": "code",
   "execution_count": 2,
   "id": "2800c022",
   "metadata": {},
   "outputs": [],
   "source": [
    "plant = PlantWrapper(skeleton=TwoDofArm(),muscle_type=ReluMuscle(), proprioceptive_delay=0.04, visual_delay=0.13)\n",
    "\n",
    "plant.add_muscle(path_fixation_body=[0, 1], path_coordinates=[[5,  5],[0, 0]], name='ur', max_isometric_force=500)\n",
    "plant.add_muscle(path_fixation_body=[0, 1], path_coordinates=[[-5, 5],[0, 0]], name='ul', max_isometric_force=500)\n",
    "plant.add_muscle(path_fixation_body=[0, 1], path_coordinates=[[5, -5],[0, 0]], name='dr', max_isometric_force=500)\n",
    "plant.add_muscle(path_fixation_body=[0, 1], path_coordinates=[[-5,-5],[0, 0]], name='dl', max_isometric_force=500)"
   ]
  },
  {
   "cell_type": "code",
   "execution_count": 7,
   "id": "4b2de2cd",
   "metadata": {},
   "outputs": [
    {
     "ename": "AttributeError",
     "evalue": "in user code:\n\n    C:\\Users\\decomite\\Documents\\SuperlabMotornet\\MotorNet\\MotorNet\\nets\\layers.py:140 call  *\n        jstate, cstate, mstate, gstate = self.plant(u, jstate, mstate, gstate, **inputs)\n    C:\\Users\\decomite\\Documents\\SuperlabMotornet\\MotorNet\\MotorNet\\plants\\__init__.py:131 __call__  *\n        return self._call_fn((muscle_input, joint_state, muscle_state, geometry_state, endpoint_load, joint_load))\n    C:\\Users\\decomite\\Anaconda3\\lib\\site-packages\\keras\\engine\\base_layer.py:1037 __call__  **\n        outputs = call_fn(inputs, *args, **kwargs)\n    C:\\Users\\decomite\\Anaconda3\\lib\\site-packages\\keras\\layers\\core.py:903 call\n        result = self.function(inputs, **kwargs)\n    C:\\Users\\decomite\\Documents\\SuperlabMotornet\\MotorNet\\MotorNet\\plants\\__init__.py:76 <lambda>\n        self._call_fn = Lambda(lambda x: self.call(*x))\n    C:\\Users\\decomite\\Documents\\SuperlabMotornet\\MotorNet\\MotorNet\\plants\\__init__.py:175 call\n        self.integrate(muscle_input, joint_state, muscle_state, geometry_state, endpoint_load, joint_load)\n    C:\\Users\\decomite\\Documents\\SuperlabMotornet\\MotorNet\\MotorNet\\plants\\__init__.py:134 integrate\n        return self._integrate_fn((muscle_input, joint_state, muscle_state, geometry_state, endpoint_load, joint_load))\n    C:\\Users\\decomite\\Anaconda3\\lib\\site-packages\\keras\\engine\\base_layer.py:1037 __call__\n        outputs = call_fn(inputs, *args, **kwargs)\n    C:\\Users\\decomite\\Anaconda3\\lib\\site-packages\\keras\\layers\\core.py:903 call\n        result = self.function(inputs, **kwargs)\n    C:\\Users\\decomite\\Documents\\SuperlabMotornet\\MotorNet\\MotorNet\\plants\\__init__.py:83 <lambda>\n        self._integrate_fn = Lambda(lambda x: self._euler(*x))\n    C:\\Users\\decomite\\Documents\\SuperlabMotornet\\MotorNet\\MotorNet\\plants\\__init__.py:139 _euler\n        states = self.integration_step(self.dt, state_derivative=state_derivative, states=states0)\n    C:\\Users\\decomite\\Documents\\SuperlabMotornet\\MotorNet\\MotorNet\\plants\\__init__.py:159 integration_step\n        new_states[\"geometry\"] = self.get_geometry(new_states[\"joint\"])\n    C:\\Users\\decomite\\Documents\\SuperlabMotornet\\MotorNet\\MotorNet\\plants\\__init__.py:301 get_geometry\n        return self._get_geometry_fn(joint_state)\n    C:\\Users\\decomite\\Anaconda3\\lib\\site-packages\\keras\\engine\\base_layer.py:1037 __call__\n        outputs = call_fn(inputs, *args, **kwargs)\n    C:\\Users\\decomite\\Anaconda3\\lib\\site-packages\\keras\\layers\\core.py:903 call\n        result = self.function(inputs, **kwargs)\n    C:\\Users\\decomite\\Documents\\SuperlabMotornet\\MotorNet\\MotorNet\\plants\\__init__.py:75 <lambda>\n        self._get_geometry_fn = Lambda(lambda x: self._get_geometry(x))\n    C:\\Users\\decomite\\Documents\\SuperlabMotornet\\MotorNet\\MotorNet\\plants\\__init__.py:181 _get_geometry\n        xy, dxy_dt, dxy_ddof = self.Skeleton.path2cartesian(self.path_coordinates, self.path_fixation_body, joint_state)\n    C:\\Users\\decomite\\Documents\\SuperlabMotornet\\MotorNet\\MotorNet\\plants\\skeletons.py:87 path2cartesian\n        return self._path2cartesian_fn((path_coordinates, path_fixation_body, joint_state))\n    C:\\Users\\decomite\\Anaconda3\\lib\\site-packages\\keras\\engine\\base_layer.py:1037 __call__\n        outputs = call_fn(inputs, *args, **kwargs)\n    C:\\Users\\decomite\\Anaconda3\\lib\\site-packages\\keras\\layers\\core.py:903 call\n        result = self.function(inputs, **kwargs)\n    C:\\Users\\decomite\\Documents\\SuperlabMotornet\\MotorNet\\MotorNet\\plants\\skeletons.py:32 <lambda>\n        self._path2cartesian_fn = Lambda(lambda x: self._path2cartesian(*x))\n    C:\\Users\\decomite\\Documents\\SuperlabMotornet\\MotorNet\\MotorNet\\plants\\skeletons.py:228 _path2cartesian\n        n_points = tf.size(path_fixation_body).numpy()\n    C:\\Users\\decomite\\AppData\\Roaming\\Python\\Python38\\site-packages\\tensorflow\\python\\framework\\ops.py:401 __getattr__\n        self.__getattribute__(name)\n\n    AttributeError: 'Tensor' object has no attribute 'numpy'\n",
     "output_type": "error",
     "traceback": [
      "\u001b[1;31m---------------------------------------------------------------------------\u001b[0m",
      "\u001b[1;31mAttributeError\u001b[0m                            Traceback (most recent call last)",
      "\u001b[1;32m<ipython-input-7-e8e361c92dec>\u001b[0m in \u001b[0;36m<module>\u001b[1;34m\u001b[0m\n\u001b[0;32m     14\u001b[0m \u001b[1;31m# wrap cell in an RNN layer\u001b[0m\u001b[1;33m\u001b[0m\u001b[1;33m\u001b[0m\u001b[1;33m\u001b[0m\u001b[0m\n\u001b[0;32m     15\u001b[0m \u001b[0mrnn\u001b[0m \u001b[1;33m=\u001b[0m \u001b[0mtf\u001b[0m\u001b[1;33m.\u001b[0m\u001b[0mkeras\u001b[0m\u001b[1;33m.\u001b[0m\u001b[0mlayers\u001b[0m\u001b[1;33m.\u001b[0m\u001b[0mRNN\u001b[0m\u001b[1;33m(\u001b[0m\u001b[0mcell\u001b[0m\u001b[1;33m=\u001b[0m\u001b[0mcell\u001b[0m\u001b[1;33m,\u001b[0m \u001b[0mreturn_sequences\u001b[0m\u001b[1;33m=\u001b[0m\u001b[1;32mTrue\u001b[0m\u001b[1;33m,\u001b[0m \u001b[0mname\u001b[0m\u001b[1;33m=\u001b[0m\u001b[1;34m'RNN'\u001b[0m\u001b[1;33m)\u001b[0m\u001b[1;33m\u001b[0m\u001b[1;33m\u001b[0m\u001b[0m\n\u001b[1;32m---> 16\u001b[1;33m \u001b[0mstates_out\u001b[0m \u001b[1;33m=\u001b[0m \u001b[0mrnn\u001b[0m\u001b[1;33m(\u001b[0m\u001b[0minputs\u001b[0m\u001b[1;33m,\u001b[0m \u001b[0minitial_state\u001b[0m\u001b[1;33m=\u001b[0m\u001b[0mstate0\u001b[0m\u001b[1;33m)\u001b[0m\u001b[1;33m\u001b[0m\u001b[1;33m\u001b[0m\u001b[0m\n\u001b[0m\u001b[0;32m     17\u001b[0m \u001b[0mcontrol_rnn\u001b[0m \u001b[1;33m=\u001b[0m \u001b[0mMotorNetModel\u001b[0m\u001b[1;33m(\u001b[0m\u001b[0minputs\u001b[0m\u001b[1;33m=\u001b[0m\u001b[1;33m[\u001b[0m\u001b[0minputs\u001b[0m\u001b[1;33m,\u001b[0m \u001b[0mstate0\u001b[0m\u001b[1;33m]\u001b[0m\u001b[1;33m,\u001b[0m \u001b[0moutputs\u001b[0m\u001b[1;33m=\u001b[0m\u001b[0mstates_out\u001b[0m\u001b[1;33m,\u001b[0m \u001b[0mname\u001b[0m\u001b[1;33m=\u001b[0m\u001b[1;34m'controller'\u001b[0m\u001b[1;33m,\u001b[0m \u001b[0mtask\u001b[0m\u001b[1;33m=\u001b[0m\u001b[0mtask\u001b[0m\u001b[1;33m)\u001b[0m\u001b[1;33m\u001b[0m\u001b[1;33m\u001b[0m\u001b[0m\n\u001b[0;32m     18\u001b[0m \u001b[1;33m\u001b[0m\u001b[0m\n",
      "\u001b[1;32m~\\Anaconda3\\lib\\site-packages\\keras\\layers\\recurrent.py\u001b[0m in \u001b[0;36m__call__\u001b[1;34m(self, inputs, initial_state, constants, **kwargs)\u001b[0m\n\u001b[0;32m    703\u001b[0m       \u001b[1;31m# Perform the call with temporarily replaced input_spec\u001b[0m\u001b[1;33m\u001b[0m\u001b[1;33m\u001b[0m\u001b[1;33m\u001b[0m\u001b[0m\n\u001b[0;32m    704\u001b[0m       \u001b[0mself\u001b[0m\u001b[1;33m.\u001b[0m\u001b[0minput_spec\u001b[0m \u001b[1;33m=\u001b[0m \u001b[0mfull_input_spec\u001b[0m\u001b[1;33m\u001b[0m\u001b[1;33m\u001b[0m\u001b[0m\n\u001b[1;32m--> 705\u001b[1;33m       \u001b[0moutput\u001b[0m \u001b[1;33m=\u001b[0m \u001b[0msuper\u001b[0m\u001b[1;33m(\u001b[0m\u001b[0mRNN\u001b[0m\u001b[1;33m,\u001b[0m \u001b[0mself\u001b[0m\u001b[1;33m)\u001b[0m\u001b[1;33m.\u001b[0m\u001b[0m__call__\u001b[0m\u001b[1;33m(\u001b[0m\u001b[0mfull_input\u001b[0m\u001b[1;33m,\u001b[0m \u001b[1;33m**\u001b[0m\u001b[0mkwargs\u001b[0m\u001b[1;33m)\u001b[0m\u001b[1;33m\u001b[0m\u001b[1;33m\u001b[0m\u001b[0m\n\u001b[0m\u001b[0;32m    706\u001b[0m       \u001b[1;31m# Remove the additional_specs from input spec and keep the rest. It is\u001b[0m\u001b[1;33m\u001b[0m\u001b[1;33m\u001b[0m\u001b[1;33m\u001b[0m\u001b[0m\n\u001b[0;32m    707\u001b[0m       \u001b[1;31m# important to keep since the input spec was populated by build(), and\u001b[0m\u001b[1;33m\u001b[0m\u001b[1;33m\u001b[0m\u001b[1;33m\u001b[0m\u001b[0m\n",
      "\u001b[1;32m~\\Anaconda3\\lib\\site-packages\\keras\\engine\\base_layer.py\u001b[0m in \u001b[0;36m__call__\u001b[1;34m(self, *args, **kwargs)\u001b[0m\n\u001b[0;32m    974\u001b[0m     \u001b[1;31m# >> model = tf.keras.Model(inputs, outputs)\u001b[0m\u001b[1;33m\u001b[0m\u001b[1;33m\u001b[0m\u001b[1;33m\u001b[0m\u001b[0m\n\u001b[0;32m    975\u001b[0m     \u001b[1;32mif\u001b[0m \u001b[0m_in_functional_construction_mode\u001b[0m\u001b[1;33m(\u001b[0m\u001b[0mself\u001b[0m\u001b[1;33m,\u001b[0m \u001b[0minputs\u001b[0m\u001b[1;33m,\u001b[0m \u001b[0margs\u001b[0m\u001b[1;33m,\u001b[0m \u001b[0mkwargs\u001b[0m\u001b[1;33m,\u001b[0m \u001b[0minput_list\u001b[0m\u001b[1;33m)\u001b[0m\u001b[1;33m:\u001b[0m\u001b[1;33m\u001b[0m\u001b[1;33m\u001b[0m\u001b[0m\n\u001b[1;32m--> 976\u001b[1;33m       return self._functional_construction_call(inputs, args, kwargs,\n\u001b[0m\u001b[0;32m    977\u001b[0m                                                 input_list)\n\u001b[0;32m    978\u001b[0m \u001b[1;33m\u001b[0m\u001b[0m\n",
      "\u001b[1;32m~\\Anaconda3\\lib\\site-packages\\keras\\engine\\base_layer.py\u001b[0m in \u001b[0;36m_functional_construction_call\u001b[1;34m(self, inputs, args, kwargs, input_list)\u001b[0m\n\u001b[0;32m   1112\u001b[0m         layer=self, inputs=inputs, build_graph=True, training=training_value):\n\u001b[0;32m   1113\u001b[0m       \u001b[1;31m# Check input assumptions set after layer building, e.g. input shape.\u001b[0m\u001b[1;33m\u001b[0m\u001b[1;33m\u001b[0m\u001b[1;33m\u001b[0m\u001b[0m\n\u001b[1;32m-> 1114\u001b[1;33m       outputs = self._keras_tensor_symbolic_call(\n\u001b[0m\u001b[0;32m   1115\u001b[0m           inputs, input_masks, args, kwargs)\n\u001b[0;32m   1116\u001b[0m \u001b[1;33m\u001b[0m\u001b[0m\n",
      "\u001b[1;32m~\\Anaconda3\\lib\\site-packages\\keras\\engine\\base_layer.py\u001b[0m in \u001b[0;36m_keras_tensor_symbolic_call\u001b[1;34m(self, inputs, input_masks, args, kwargs)\u001b[0m\n\u001b[0;32m    846\u001b[0m       \u001b[1;32mreturn\u001b[0m \u001b[0mtf\u001b[0m\u001b[1;33m.\u001b[0m\u001b[0mnest\u001b[0m\u001b[1;33m.\u001b[0m\u001b[0mmap_structure\u001b[0m\u001b[1;33m(\u001b[0m\u001b[0mkeras_tensor\u001b[0m\u001b[1;33m.\u001b[0m\u001b[0mKerasTensor\u001b[0m\u001b[1;33m,\u001b[0m \u001b[0moutput_signature\u001b[0m\u001b[1;33m)\u001b[0m\u001b[1;33m\u001b[0m\u001b[1;33m\u001b[0m\u001b[0m\n\u001b[0;32m    847\u001b[0m     \u001b[1;32melse\u001b[0m\u001b[1;33m:\u001b[0m\u001b[1;33m\u001b[0m\u001b[1;33m\u001b[0m\u001b[0m\n\u001b[1;32m--> 848\u001b[1;33m       \u001b[1;32mreturn\u001b[0m \u001b[0mself\u001b[0m\u001b[1;33m.\u001b[0m\u001b[0m_infer_output_signature\u001b[0m\u001b[1;33m(\u001b[0m\u001b[0minputs\u001b[0m\u001b[1;33m,\u001b[0m \u001b[0margs\u001b[0m\u001b[1;33m,\u001b[0m \u001b[0mkwargs\u001b[0m\u001b[1;33m,\u001b[0m \u001b[0minput_masks\u001b[0m\u001b[1;33m)\u001b[0m\u001b[1;33m\u001b[0m\u001b[1;33m\u001b[0m\u001b[0m\n\u001b[0m\u001b[0;32m    849\u001b[0m \u001b[1;33m\u001b[0m\u001b[0m\n\u001b[0;32m    850\u001b[0m   \u001b[1;32mdef\u001b[0m \u001b[0m_infer_output_signature\u001b[0m\u001b[1;33m(\u001b[0m\u001b[0mself\u001b[0m\u001b[1;33m,\u001b[0m \u001b[0minputs\u001b[0m\u001b[1;33m,\u001b[0m \u001b[0margs\u001b[0m\u001b[1;33m,\u001b[0m \u001b[0mkwargs\u001b[0m\u001b[1;33m,\u001b[0m \u001b[0minput_masks\u001b[0m\u001b[1;33m)\u001b[0m\u001b[1;33m:\u001b[0m\u001b[1;33m\u001b[0m\u001b[1;33m\u001b[0m\u001b[0m\n",
      "\u001b[1;32m~\\Anaconda3\\lib\\site-packages\\keras\\engine\\base_layer.py\u001b[0m in \u001b[0;36m_infer_output_signature\u001b[1;34m(self, inputs, args, kwargs, input_masks)\u001b[0m\n\u001b[0;32m    886\u001b[0m           \u001b[0mself\u001b[0m\u001b[1;33m.\u001b[0m\u001b[0m_maybe_build\u001b[0m\u001b[1;33m(\u001b[0m\u001b[0minputs\u001b[0m\u001b[1;33m)\u001b[0m\u001b[1;33m\u001b[0m\u001b[1;33m\u001b[0m\u001b[0m\n\u001b[0;32m    887\u001b[0m           \u001b[0minputs\u001b[0m \u001b[1;33m=\u001b[0m \u001b[0mself\u001b[0m\u001b[1;33m.\u001b[0m\u001b[0m_maybe_cast_inputs\u001b[0m\u001b[1;33m(\u001b[0m\u001b[0minputs\u001b[0m\u001b[1;33m)\u001b[0m\u001b[1;33m\u001b[0m\u001b[1;33m\u001b[0m\u001b[0m\n\u001b[1;32m--> 888\u001b[1;33m           \u001b[0moutputs\u001b[0m \u001b[1;33m=\u001b[0m \u001b[0mcall_fn\u001b[0m\u001b[1;33m(\u001b[0m\u001b[0minputs\u001b[0m\u001b[1;33m,\u001b[0m \u001b[1;33m*\u001b[0m\u001b[0margs\u001b[0m\u001b[1;33m,\u001b[0m \u001b[1;33m**\u001b[0m\u001b[0mkwargs\u001b[0m\u001b[1;33m)\u001b[0m\u001b[1;33m\u001b[0m\u001b[1;33m\u001b[0m\u001b[0m\n\u001b[0m\u001b[0;32m    889\u001b[0m \u001b[1;33m\u001b[0m\u001b[0m\n\u001b[0;32m    890\u001b[0m         \u001b[0mself\u001b[0m\u001b[1;33m.\u001b[0m\u001b[0m_handle_activity_regularization\u001b[0m\u001b[1;33m(\u001b[0m\u001b[0minputs\u001b[0m\u001b[1;33m,\u001b[0m \u001b[0moutputs\u001b[0m\u001b[1;33m)\u001b[0m\u001b[1;33m\u001b[0m\u001b[1;33m\u001b[0m\u001b[0m\n",
      "\u001b[1;32m~\\Anaconda3\\lib\\site-packages\\keras\\layers\\recurrent.py\u001b[0m in \u001b[0;36mcall\u001b[1;34m(self, inputs, mask, training, initial_state, constants)\u001b[0m\n\u001b[0;32m    791\u001b[0m           \u001b[0mnew_states\u001b[0m \u001b[1;33m=\u001b[0m \u001b[1;33m[\u001b[0m\u001b[0mnew_states\u001b[0m\u001b[1;33m]\u001b[0m\u001b[1;33m\u001b[0m\u001b[1;33m\u001b[0m\u001b[0m\n\u001b[0;32m    792\u001b[0m         \u001b[1;32mreturn\u001b[0m \u001b[0moutput\u001b[0m\u001b[1;33m,\u001b[0m \u001b[0mnew_states\u001b[0m\u001b[1;33m\u001b[0m\u001b[1;33m\u001b[0m\u001b[0m\n\u001b[1;32m--> 793\u001b[1;33m     last_output, outputs, states = backend.rnn(\n\u001b[0m\u001b[0;32m    794\u001b[0m         \u001b[0mstep\u001b[0m\u001b[1;33m,\u001b[0m\u001b[1;33m\u001b[0m\u001b[1;33m\u001b[0m\u001b[0m\n\u001b[0;32m    795\u001b[0m         \u001b[0minputs\u001b[0m\u001b[1;33m,\u001b[0m\u001b[1;33m\u001b[0m\u001b[1;33m\u001b[0m\u001b[0m\n",
      "\u001b[1;32m~\\AppData\\Roaming\\Python\\Python38\\site-packages\\tensorflow\\python\\util\\dispatch.py\u001b[0m in \u001b[0;36mwrapper\u001b[1;34m(*args, **kwargs)\u001b[0m\n\u001b[0;32m    204\u001b[0m     \u001b[1;34m\"\"\"Call target, and fall back on dispatchers if there is a TypeError.\"\"\"\u001b[0m\u001b[1;33m\u001b[0m\u001b[1;33m\u001b[0m\u001b[0m\n\u001b[0;32m    205\u001b[0m     \u001b[1;32mtry\u001b[0m\u001b[1;33m:\u001b[0m\u001b[1;33m\u001b[0m\u001b[1;33m\u001b[0m\u001b[0m\n\u001b[1;32m--> 206\u001b[1;33m       \u001b[1;32mreturn\u001b[0m \u001b[0mtarget\u001b[0m\u001b[1;33m(\u001b[0m\u001b[1;33m*\u001b[0m\u001b[0margs\u001b[0m\u001b[1;33m,\u001b[0m \u001b[1;33m**\u001b[0m\u001b[0mkwargs\u001b[0m\u001b[1;33m)\u001b[0m\u001b[1;33m\u001b[0m\u001b[1;33m\u001b[0m\u001b[0m\n\u001b[0m\u001b[0;32m    207\u001b[0m     \u001b[1;32mexcept\u001b[0m \u001b[1;33m(\u001b[0m\u001b[0mTypeError\u001b[0m\u001b[1;33m,\u001b[0m \u001b[0mValueError\u001b[0m\u001b[1;33m)\u001b[0m\u001b[1;33m:\u001b[0m\u001b[1;33m\u001b[0m\u001b[1;33m\u001b[0m\u001b[0m\n\u001b[0;32m    208\u001b[0m       \u001b[1;31m# Note: convert_to_eager_tensor currently raises a ValueError, not a\u001b[0m\u001b[1;33m\u001b[0m\u001b[1;33m\u001b[0m\u001b[1;33m\u001b[0m\u001b[0m\n",
      "\u001b[1;32m~\\Anaconda3\\lib\\site-packages\\keras\\backend.py\u001b[0m in \u001b[0;36mrnn\u001b[1;34m(step_function, inputs, initial_states, go_backwards, mask, constants, unroll, input_length, time_major, zero_output_for_mask)\u001b[0m\n\u001b[0;32m   4352\u001b[0m     \u001b[1;31m# output_time_zero is used to determine the cell output shape and its dtype.\u001b[0m\u001b[1;33m\u001b[0m\u001b[1;33m\u001b[0m\u001b[1;33m\u001b[0m\u001b[0m\n\u001b[0;32m   4353\u001b[0m     \u001b[1;31m# the value is discarded.\u001b[0m\u001b[1;33m\u001b[0m\u001b[1;33m\u001b[0m\u001b[1;33m\u001b[0m\u001b[0m\n\u001b[1;32m-> 4354\u001b[1;33m     output_time_zero, _ = step_function(\n\u001b[0m\u001b[0;32m   4355\u001b[0m         input_time_zero, tuple(initial_states) + tuple(constants))\n\u001b[0;32m   4356\u001b[0m     output_ta = tuple(\n",
      "\u001b[1;32m~\\Anaconda3\\lib\\site-packages\\keras\\layers\\recurrent.py\u001b[0m in \u001b[0;36mstep\u001b[1;34m(inputs, states)\u001b[0m\n\u001b[0;32m    787\u001b[0m       \u001b[1;32mdef\u001b[0m \u001b[0mstep\u001b[0m\u001b[1;33m(\u001b[0m\u001b[0minputs\u001b[0m\u001b[1;33m,\u001b[0m \u001b[0mstates\u001b[0m\u001b[1;33m)\u001b[0m\u001b[1;33m:\u001b[0m\u001b[1;33m\u001b[0m\u001b[1;33m\u001b[0m\u001b[0m\n\u001b[0;32m    788\u001b[0m         \u001b[0mstates\u001b[0m \u001b[1;33m=\u001b[0m \u001b[0mstates\u001b[0m\u001b[1;33m[\u001b[0m\u001b[1;36m0\u001b[0m\u001b[1;33m]\u001b[0m \u001b[1;32mif\u001b[0m \u001b[0mlen\u001b[0m\u001b[1;33m(\u001b[0m\u001b[0mstates\u001b[0m\u001b[1;33m)\u001b[0m \u001b[1;33m==\u001b[0m \u001b[1;36m1\u001b[0m \u001b[1;32mand\u001b[0m \u001b[0mis_tf_rnn_cell\u001b[0m \u001b[1;32melse\u001b[0m \u001b[0mstates\u001b[0m\u001b[1;33m\u001b[0m\u001b[1;33m\u001b[0m\u001b[0m\n\u001b[1;32m--> 789\u001b[1;33m         \u001b[0moutput\u001b[0m\u001b[1;33m,\u001b[0m \u001b[0mnew_states\u001b[0m \u001b[1;33m=\u001b[0m \u001b[0mcell_call_fn\u001b[0m\u001b[1;33m(\u001b[0m\u001b[0minputs\u001b[0m\u001b[1;33m,\u001b[0m \u001b[0mstates\u001b[0m\u001b[1;33m,\u001b[0m \u001b[1;33m**\u001b[0m\u001b[0mkwargs\u001b[0m\u001b[1;33m)\u001b[0m\u001b[1;33m\u001b[0m\u001b[1;33m\u001b[0m\u001b[0m\n\u001b[0m\u001b[0;32m    790\u001b[0m         \u001b[1;32mif\u001b[0m \u001b[1;32mnot\u001b[0m \u001b[0mtf\u001b[0m\u001b[1;33m.\u001b[0m\u001b[0mnest\u001b[0m\u001b[1;33m.\u001b[0m\u001b[0mis_nested\u001b[0m\u001b[1;33m(\u001b[0m\u001b[0mnew_states\u001b[0m\u001b[1;33m)\u001b[0m\u001b[1;33m:\u001b[0m\u001b[1;33m\u001b[0m\u001b[1;33m\u001b[0m\u001b[0m\n\u001b[0;32m    791\u001b[0m           \u001b[0mnew_states\u001b[0m \u001b[1;33m=\u001b[0m \u001b[1;33m[\u001b[0m\u001b[0mnew_states\u001b[0m\u001b[1;33m]\u001b[0m\u001b[1;33m\u001b[0m\u001b[1;33m\u001b[0m\u001b[0m\n",
      "\u001b[1;32m~\\Anaconda3\\lib\\site-packages\\keras\\engine\\base_layer.py\u001b[0m in \u001b[0;36m__call__\u001b[1;34m(self, *args, **kwargs)\u001b[0m\n\u001b[0;32m   1035\u001b[0m         with autocast_variable.enable_auto_cast_variables(\n\u001b[0;32m   1036\u001b[0m             self._compute_dtype_object):\n\u001b[1;32m-> 1037\u001b[1;33m           \u001b[0moutputs\u001b[0m \u001b[1;33m=\u001b[0m \u001b[0mcall_fn\u001b[0m\u001b[1;33m(\u001b[0m\u001b[0minputs\u001b[0m\u001b[1;33m,\u001b[0m \u001b[1;33m*\u001b[0m\u001b[0margs\u001b[0m\u001b[1;33m,\u001b[0m \u001b[1;33m**\u001b[0m\u001b[0mkwargs\u001b[0m\u001b[1;33m)\u001b[0m\u001b[1;33m\u001b[0m\u001b[1;33m\u001b[0m\u001b[0m\n\u001b[0m\u001b[0;32m   1038\u001b[0m \u001b[1;33m\u001b[0m\u001b[0m\n\u001b[0;32m   1039\u001b[0m         \u001b[1;32mif\u001b[0m \u001b[0mself\u001b[0m\u001b[1;33m.\u001b[0m\u001b[0m_activity_regularizer\u001b[0m\u001b[1;33m:\u001b[0m\u001b[1;33m\u001b[0m\u001b[1;33m\u001b[0m\u001b[0m\n",
      "\u001b[1;32m~\\AppData\\Roaming\\Python\\Python38\\site-packages\\tensorflow\\python\\autograph\\impl\\api.py\u001b[0m in \u001b[0;36mwrapper\u001b[1;34m(*args, **kwargs)\u001b[0m\n\u001b[0;32m    693\u001b[0m       \u001b[1;32mexcept\u001b[0m \u001b[0mException\u001b[0m \u001b[1;32mas\u001b[0m \u001b[0me\u001b[0m\u001b[1;33m:\u001b[0m  \u001b[1;31m# pylint:disable=broad-except\u001b[0m\u001b[1;33m\u001b[0m\u001b[1;33m\u001b[0m\u001b[0m\n\u001b[0;32m    694\u001b[0m         \u001b[1;32mif\u001b[0m \u001b[0mhasattr\u001b[0m\u001b[1;33m(\u001b[0m\u001b[0me\u001b[0m\u001b[1;33m,\u001b[0m \u001b[1;34m'ag_error_metadata'\u001b[0m\u001b[1;33m)\u001b[0m\u001b[1;33m:\u001b[0m\u001b[1;33m\u001b[0m\u001b[1;33m\u001b[0m\u001b[0m\n\u001b[1;32m--> 695\u001b[1;33m           \u001b[1;32mraise\u001b[0m \u001b[0me\u001b[0m\u001b[1;33m.\u001b[0m\u001b[0mag_error_metadata\u001b[0m\u001b[1;33m.\u001b[0m\u001b[0mto_exception\u001b[0m\u001b[1;33m(\u001b[0m\u001b[0me\u001b[0m\u001b[1;33m)\u001b[0m\u001b[1;33m\u001b[0m\u001b[1;33m\u001b[0m\u001b[0m\n\u001b[0m\u001b[0;32m    696\u001b[0m         \u001b[1;32melse\u001b[0m\u001b[1;33m:\u001b[0m\u001b[1;33m\u001b[0m\u001b[1;33m\u001b[0m\u001b[0m\n\u001b[0;32m    697\u001b[0m           \u001b[1;32mraise\u001b[0m\u001b[1;33m\u001b[0m\u001b[1;33m\u001b[0m\u001b[0m\n",
      "\u001b[1;31mAttributeError\u001b[0m: in user code:\n\n    C:\\Users\\decomite\\Documents\\SuperlabMotornet\\MotorNet\\MotorNet\\nets\\layers.py:140 call  *\n        jstate, cstate, mstate, gstate = self.plant(u, jstate, mstate, gstate, **inputs)\n    C:\\Users\\decomite\\Documents\\SuperlabMotornet\\MotorNet\\MotorNet\\plants\\__init__.py:131 __call__  *\n        return self._call_fn((muscle_input, joint_state, muscle_state, geometry_state, endpoint_load, joint_load))\n    C:\\Users\\decomite\\Anaconda3\\lib\\site-packages\\keras\\engine\\base_layer.py:1037 __call__  **\n        outputs = call_fn(inputs, *args, **kwargs)\n    C:\\Users\\decomite\\Anaconda3\\lib\\site-packages\\keras\\layers\\core.py:903 call\n        result = self.function(inputs, **kwargs)\n    C:\\Users\\decomite\\Documents\\SuperlabMotornet\\MotorNet\\MotorNet\\plants\\__init__.py:76 <lambda>\n        self._call_fn = Lambda(lambda x: self.call(*x))\n    C:\\Users\\decomite\\Documents\\SuperlabMotornet\\MotorNet\\MotorNet\\plants\\__init__.py:175 call\n        self.integrate(muscle_input, joint_state, muscle_state, geometry_state, endpoint_load, joint_load)\n    C:\\Users\\decomite\\Documents\\SuperlabMotornet\\MotorNet\\MotorNet\\plants\\__init__.py:134 integrate\n        return self._integrate_fn((muscle_input, joint_state, muscle_state, geometry_state, endpoint_load, joint_load))\n    C:\\Users\\decomite\\Anaconda3\\lib\\site-packages\\keras\\engine\\base_layer.py:1037 __call__\n        outputs = call_fn(inputs, *args, **kwargs)\n    C:\\Users\\decomite\\Anaconda3\\lib\\site-packages\\keras\\layers\\core.py:903 call\n        result = self.function(inputs, **kwargs)\n    C:\\Users\\decomite\\Documents\\SuperlabMotornet\\MotorNet\\MotorNet\\plants\\__init__.py:83 <lambda>\n        self._integrate_fn = Lambda(lambda x: self._euler(*x))\n    C:\\Users\\decomite\\Documents\\SuperlabMotornet\\MotorNet\\MotorNet\\plants\\__init__.py:139 _euler\n        states = self.integration_step(self.dt, state_derivative=state_derivative, states=states0)\n    C:\\Users\\decomite\\Documents\\SuperlabMotornet\\MotorNet\\MotorNet\\plants\\__init__.py:159 integration_step\n        new_states[\"geometry\"] = self.get_geometry(new_states[\"joint\"])\n    C:\\Users\\decomite\\Documents\\SuperlabMotornet\\MotorNet\\MotorNet\\plants\\__init__.py:301 get_geometry\n        return self._get_geometry_fn(joint_state)\n    C:\\Users\\decomite\\Anaconda3\\lib\\site-packages\\keras\\engine\\base_layer.py:1037 __call__\n        outputs = call_fn(inputs, *args, **kwargs)\n    C:\\Users\\decomite\\Anaconda3\\lib\\site-packages\\keras\\layers\\core.py:903 call\n        result = self.function(inputs, **kwargs)\n    C:\\Users\\decomite\\Documents\\SuperlabMotornet\\MotorNet\\MotorNet\\plants\\__init__.py:75 <lambda>\n        self._get_geometry_fn = Lambda(lambda x: self._get_geometry(x))\n    C:\\Users\\decomite\\Documents\\SuperlabMotornet\\MotorNet\\MotorNet\\plants\\__init__.py:181 _get_geometry\n        xy, dxy_dt, dxy_ddof = self.Skeleton.path2cartesian(self.path_coordinates, self.path_fixation_body, joint_state)\n    C:\\Users\\decomite\\Documents\\SuperlabMotornet\\MotorNet\\MotorNet\\plants\\skeletons.py:87 path2cartesian\n        return self._path2cartesian_fn((path_coordinates, path_fixation_body, joint_state))\n    C:\\Users\\decomite\\Anaconda3\\lib\\site-packages\\keras\\engine\\base_layer.py:1037 __call__\n        outputs = call_fn(inputs, *args, **kwargs)\n    C:\\Users\\decomite\\Anaconda3\\lib\\site-packages\\keras\\layers\\core.py:903 call\n        result = self.function(inputs, **kwargs)\n    C:\\Users\\decomite\\Documents\\SuperlabMotornet\\MotorNet\\MotorNet\\plants\\skeletons.py:32 <lambda>\n        self._path2cartesian_fn = Lambda(lambda x: self._path2cartesian(*x))\n    C:\\Users\\decomite\\Documents\\SuperlabMotornet\\MotorNet\\MotorNet\\plants\\skeletons.py:228 _path2cartesian\n        n_points = tf.size(path_fixation_body).numpy()\n    C:\\Users\\decomite\\AppData\\Roaming\\Python\\Python38\\site-packages\\tensorflow\\python\\framework\\ops.py:401 __getattr__\n        self.__getattribute__(name)\n\n    AttributeError: 'Tensor' object has no attribute 'numpy'\n"
     ]
    }
   ],
   "source": [
    "cell = GRUController(plant=plant, n_units=50, kernel_regularizer=10**-6, name='cell')\n",
    "task = TaskStaticTarget(cell, delay_range=[0.3, 0.6])\n",
    "\n",
    "# declare inputs\n",
    "inputs = {key:Input((None, val,), name=key) for key, val in task.get_input_dim().items()}\n",
    "state0 = [Input((plant.output_dim, ), name='joint0'),\n",
    "          Input((plant.output_dim, ), name='cartesian0'),\n",
    "          Input((plant.muscle_state_dim, plant.n_muscles, ), name='muscle0'),\n",
    "          Input((plant.geometry_state_dim, plant.n_muscles, ), name='geometry0'),\n",
    "          Input((plant.n_muscles * 2, plant.proprioceptive_delay, ), name='proprio_feedback0'),\n",
    "          Input((plant.space_dim, plant.visual_delay, ), name='visual_feedback0')]\n",
    "state0.extend([Input((n, ), name='gru' + str(k) + '_hidden0') for k, n in enumerate(cell.n_units)])\n",
    "\n",
    "# wrap cell in an RNN layer\n",
    "rnn = tf.keras.layers.RNN(cell=cell, return_sequences=True, name='RNN')\n",
    "states_out = rnn(inputs, initial_state=state0)\n",
    "control_rnn = MotorNetModel(inputs=[inputs, state0], outputs=states_out, name='controller', task=task)\n",
    "\n",
    "# and compile\n",
    "control_rnn.compile(optimizer=tf.optimizers.Adam(clipnorm=1.), loss=task.losses, loss_weights=task.loss_weights)\n",
    "batchlog_callback = BatchLogger()\n",
    "control_rnn.summary()"
   ]
  },
  {
   "cell_type": "code",
   "execution_count": null,
   "id": "3a9aba08",
   "metadata": {},
   "outputs": [],
   "source": [
    "dataset_size = 2000 *32\n",
    "n_t = int(1 / plant.dt)\n",
    "\n",
    "with tf.device('/cpu:0'):\n",
    "    [inputs, targets, init_states] = task.generate(batch_size=dataset_size, n_timesteps=n_t)\n",
    "    control_rnn.fit([inputs, init_states], targets, epoch=1, batch_size=32, verbose=1, callbacks=[batchlog_callback], shuffle=False)\n",
    "    "
   ]
  },
  {
   "cell_type": "code",
   "execution_count": null,
   "id": "0ac007e8",
   "metadata": {},
   "outputs": [],
   "source": [
    "if 'loss'in batchlog_callback.history:\n",
    "    last_loss = batchlog_callback.history['loss'][-1]\n",
    "    print('last loss value = ' + str(last_loss))\n",
    "    plt.plot(batchlog_callback.history['loss'])\n",
    "    plt.xlabel('batch')\n",
    "    plt.ylabel('loss')\n",
    "    #plt.semilogy()\n",
    "    plt.show()"
   ]
  },
  {
   "cell_type": "code",
   "execution_count": null,
   "id": "aaf99091",
   "metadata": {},
   "outputs": [],
   "source": [
    "def grad(model, model_inputs, y_true, loss):\n",
    "    with tf.GradientTape() as tape:\n",
    "        model_pred = model(model_inputs, trainin=False)\n",
    "        y_pred = model.pred['cartesian position']\n",
    "        loss_value = loss(y_true=y_true, y_pred=y_pred)\n",
    "    return loss_value, tape.gradient(loss_value, model.trainable_variables)\n",
    "[inputs_sample, targets_sample, init_states_sample]=task.generate(batch_size=1, n_timesteps=n_t)\n",
    "loss_val, gradients = grad(control_rnn, [inputs_sample, init_states_sample], targets_sample, position_loss())\n",
    "#gradients"
   ]
  },
  {
   "cell_type": "code",
   "execution_count": null,
   "id": "8c6de3a5",
   "metadata": {},
   "outputs": [],
   "source": [
    "[inputs_sample, targets_sample, init_states_sample]=task.generate(batch_size=20,n_timesteps=n_t)\n",
    "results=control_rnn([inputs_sample, init_states_sample],training=False)\n",
    "\n",
    "j_results = results['joint position']\n",
    "c_results = results['cartesian position']\n",
    "m_results = results['muscle state']\n",
    "\n",
    "plt.figure(figsize=16,4)).set_tight_layout(True)\n",
    "plt.subplot(131)\n",
    "plot_pos_over_time(cart_results=c_results)\n",
    "plt.scatter(targets_sample[:,0,0], targets_sample[:,0,1])\n",
    "\n",
    "plt.subplot(132)\n",
    "plot_pos_over_time(cart_results=c_results - np.expand_dims(targets_sample[:,-1,:],axis=1))\n",
    "plt.xlabel('cartesian distance to target (x)')\n",
    "plt.ylabel('cartesian distance to target (y)')\n",
    "\n",
    "plt.subplot(133)\n",
    "plt.scatter(j_results[:,-1,0].numpy().T, j_results[:,-1,1].numpy().T)\n",
    "plt.xlabel('shoulder end-reach position (rad)')\n",
    "plt.ylabel('elbow end-reach position (rad)')\n",
    "plt.show()"
   ]
  },
  {
   "cell_type": "code",
   "execution_count": null,
   "id": "bebb417e",
   "metadata": {},
   "outputs": [],
   "source": [
    "#The goal here is to represent only one trial \n",
    "\n",
    "trial = 0\n",
    "plt.figure(figsize=(14, 2.5)).set_tight_layout(True)\n",
    "\n",
    "plt.subplot(141)\n",
    "plt.plot(j_results[trial,:,0].numpy().squeeze(),label='sho')\n",
    "plt.plot(j_results[trial,:,1].numpy().squeeze(),label='elb')\n",
    "plt.legend()\n",
    "plt.xlabel('time (ms)')\n",
    "plt.ylabel('angle (rad)')\n",
    "\n",
    "plt.subplot(142)\n",
    "plt.plot(j_results[trial,:,2].numpy().squeeze(),label='sho')\n",
    "plt.plot(j_results[trial,:,3].numpy().squeeze(),label='elb')\n",
    "plt.legend()\n",
    "plt.xlabel('time(ms)')\n",
    "plt.ylabel('angle velocity (rad/sec)')\n",
    "\n",
    "plt.subplot(143)\n",
    "plt.plot(m_results[trial,:,0,:].numpy().squeeze())\n",
    "plt.xlabel('time (ms)')\n",
    "plt.ylabel('activation (a.u.)')\n",
    "\n",
    "plt.subplot(144)\n",
    "plt.plot(m_results[trial,:,1,:].numpy().squeeze())\n",
    "plt.xlabel('time (ms)')\n",
    "plt.ylabel('force (N)')\n",
    "plt.show()"
   ]
  }
 ],
 "metadata": {
  "kernelspec": {
   "display_name": "Python 3",
   "language": "python",
   "name": "python3"
  },
  "language_info": {
   "codemirror_mode": {
    "name": "ipython",
    "version": 3
   },
   "file_extension": ".py",
   "mimetype": "text/x-python",
   "name": "python",
   "nbconvert_exporter": "python",
   "pygments_lexer": "ipython3",
   "version": "3.8.8"
  }
 },
 "nbformat": 4,
 "nbformat_minor": 5
}
