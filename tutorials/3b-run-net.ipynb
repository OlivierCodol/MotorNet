{
 "cells": [
  {
   "cell_type": "markdown",
   "source": [
    "# Running a network\n",
    "\n",
    "The purpose of this notebook is to showcase how to train, save, and re-load a network, as well as how to produce predictions once training is done.\n",
    "\n",
    "For how to build a plant from scratch, feel free to look up the `1-build-plant.ipynb` notebook.\n",
    "For how to build a network, feel free to look up the `2-build-net.ipynb` notebook.\n",
    "\n",
    "Let's start by importing what we need.\n"
   ],
   "metadata": {
    "collapsed": false
   }
  },
  {
   "cell_type": "code",
   "execution_count": 1,
   "outputs": [
    {
     "name": "stdout",
     "output_type": "stream",
     "text": [
      "\n",
      "\n",
      "tensorflow version: 2.7.0\n",
      "numpy version: 1.21.5\n"
     ]
    },
    {
     "data": {
      "text/plain": "<Figure size 432x288 with 0 Axes>"
     },
     "metadata": {},
     "output_type": "display_data"
    }
   ],
   "source": [
    "\n",
    "import os\n",
    "import sys\n",
    "import json\n",
    "import pickle\n",
    "import numpy as np\n",
    "import tensorflow as tf\n",
    "import matplotlib.pyplot as plt\n",
    "\n",
    "file_dir = sys.path[0]\n",
    "sys.path.append(os.path.dirname(file_dir[:file_dir.rfind('tutorials')]))\n",
    "\n",
    "import motornet as mn\n",
    "\n",
    "%load_ext autoreload\n",
    "%autoreload 2\n",
    "\n",
    "print('\\n')\n",
    "print('tensorflow version: ' + tf.__version__)\n",
    "print('numpy version: ' + np.__version__)\n"
   ],
   "metadata": {
    "collapsed": false,
    "pycharm": {
     "name": "#%%\n"
    }
   }
  },
  {
   "cell_type": "markdown",
   "source": [
    "\n",
    "# I. Introduction\n",
    "\n",
    "Since the purpose of this notebook is not to show how to build a plant, we will use a pre-built plant that comes with the `motornet` toolbox. This is a 4-muscles point mass plant, with `ReluMuscle` actuators.\n",
    "\n",
    "We will also use the default `motornet` network, which is a GRU network. Since we only specify an integer (rather than a list of integers) for `n_units`, this will end up being a one-layer GRU network.\n",
    "\n",
    "We will also recreate a network similar to that created in `2-build-net.ipynb`\n"
   ],
   "metadata": {
    "collapsed": false
   }
  },
  {
   "cell_type": "code",
   "execution_count": 77,
   "outputs": [
    {
     "name": "stdout",
     "output_type": "stream",
     "text": [
      "Model: \"model\"\n",
      "__________________________________________________________________________________________________\n",
      " Layer (type)                   Output Shape         Param #     Connected to                     \n",
      "==================================================================================================\n",
      " inputs (InputLayer)            [(None, None, 5)]    0           []                               \n",
      "                                                                                                  \n",
      " joint0 (InputLayer)            [(None, 4)]          0           []                               \n",
      "                                                                                                  \n",
      " cartesian0 (InputLayer)        [(None, 4)]          0           []                               \n",
      "                                                                                                  \n",
      " muscle0 (InputLayer)           [(None, 4, 4)]       0           []                               \n",
      "                                                                                                  \n",
      " geometry0 (InputLayer)         [(None, 4, 4)]       0           []                               \n",
      "                                                                                                  \n",
      " proprio_feedback0 (InputLayer)  [(None, 8, 30)]     0           []                               \n",
      "                                                                                                  \n",
      " visual_feedback0 (InputLayer)  [(None, 2, 1)]       0           []                               \n",
      "                                                                                                  \n",
      " excitation (InputLayer)        [(None, 4)]          0           []                               \n",
      "                                                                                                  \n",
      " gru_hidden_0_0 (InputLayer)    [(None, 50)]         0           []                               \n",
      "                                                                                                  \n",
      " RNN (RNN)                      {'joint position':   10254       ['inputs[0][0]',                 \n",
      "                                (None, None, 4),                  'joint0[0][0]',                 \n",
      "                                 'cartesian positio               'cartesian0[0][0]',             \n",
      "                                n': (None, None, 4)               'muscle0[0][0]',                \n",
      "                                , 'muscle state': (               'geometry0[0][0]',              \n",
      "                                None, None, 4, 4),                'proprio_feedback0[0][0]',      \n",
      "                                 'geometry state':                'visual_feedback0[0][0]',       \n",
      "                                (None, None, 4, 4),               'excitation[0][0]',             \n",
      "                                 'proprioceptive fe               'gru_hidden_0_0[0][0]']         \n",
      "                                edback': (None, Non                                               \n",
      "                                e, 8, 30),                                                        \n",
      "                                 'visual feedback':                                               \n",
      "                                 (None, None, 2, 1)                                               \n",
      "                                , 'excitation': (No                                               \n",
      "                                ne, None, 4),                                                     \n",
      "                                 'gru_hidden_0': (N                                               \n",
      "                                one, None, 50)}                                                   \n",
      "                                                                                                  \n",
      "==================================================================================================\n",
      "Total params: 10,254\n",
      "Trainable params: 10,254\n",
      "Non-trainable params: 0\n",
      "__________________________________________________________________________________________________\n"
     ]
    }
   ],
   "source": [
    "\n",
    "def create_network():\n",
    "  plant = mn.plants.ReluPointMass24(proprioceptive_delay=0.3)\n",
    "  network = mn.nets.layers.GRUNetwork(plant=plant, n_units=50, kernel_regularizer=10**-6, name='network')\n",
    "  task = mn.tasks.CentreOutReach(network=network)\n",
    "  rnn = tf.keras.layers.RNN(cell=network, return_sequences=True, name='RNN')\n",
    "\n",
    "  input_dict = task.get_input_dict_layers()\n",
    "  state0 = task.get_initial_state_layers()\n",
    "  states_out = rnn(input_dict, initial_state=state0)\n",
    "\n",
    "  nn = mn.nets.MotorNetModel(inputs=[input_dict, state0], outputs=states_out, name='model', task=task)\n",
    "  nn.compile(optimizer=tf.optimizers.Adam(clipnorm=1.), loss=task.losses, loss_weights=task.loss_weights)\n",
    "  return nn\n",
    "\n",
    "model = create_network()\n",
    "model.summary()\n"
   ],
   "metadata": {
    "collapsed": false,
    "pycharm": {
     "name": "#%%\n"
    }
   }
  },
  {
   "cell_type": "markdown",
   "source": [
    "# II. Training the network\n",
    "\n",
    "The process for training a network is sensibly similar to that of `tensorflow`, from which `motornet` is built.\n"
   ],
   "metadata": {
    "collapsed": false
   }
  },
  {
   "cell_type": "code",
   "execution_count": null,
   "outputs": [
    {
     "name": "stdout",
     "output_type": "stream",
     "text": [
      "2483/3000 [=======================>......] - ETA: 1:12 - loss: 0.1436 - position_loss: 0.1253 - gru_regularizer_loss: 0.1606 - l2_xdx_activation_loss: 4.3536e-04"
     ]
    }
   ],
   "source": [
    "\n",
    "n_t = 100\n",
    "n_batches = 3000\n",
    "batch_size = 32\n",
    "\n",
    "# this callback logs training information for each batch passed, rather than for each epoch.\n",
    "callbacks = [mn.nets.callbacks.BatchLogger()]\n",
    "\n",
    "[inputs, targets, init_states] = model.task.generate(n_timesteps=n_t, batch_size=n_batches * batch_size)\n",
    "h = model.fit(x=[inputs, init_states], y=targets, verbose=1, epochs=1, batch_size=batch_size, shuffle=False, callbacks=callbacks)\n",
    "\n",
    "\n"
   ],
   "metadata": {
    "collapsed": false,
    "pycharm": {
     "name": "#%%\n",
     "is_executing": true
    }
   }
  },
  {
   "cell_type": "markdown",
   "source": [
    "\n",
    "Using the training log, stored in the `BatchLogger` callback object, we can plot all losses over training iterations.\n"
   ],
   "metadata": {
    "collapsed": false
   }
  },
  {
   "cell_type": "code",
   "execution_count": null,
   "outputs": [],
   "source": [
    "\n",
    "def print_training_log(log):\n",
    "  plt.figure().set_tight_layout(True)\n",
    "  for kk, vv in log.items():\n",
    "    plt.plot(vv, label=kk)\n",
    "\n",
    "  plt.ylabel(\"Loss\")\n",
    "  plt.xlabel(\"Batch #\")\n",
    "  plt.legend()\n",
    "  plt.show()\n",
    "\n",
    "training_log = callbacks[0].history\n",
    "print_training_log(log=training_log)\n"
   ],
   "metadata": {
    "collapsed": false,
    "pycharm": {
     "name": "#%%\n"
    }
   }
  },
  {
   "cell_type": "markdown",
   "source": [
    "# III. Evaluating performance\n",
    "\n",
    "Again, this is fairly similar to what one would expect from a `tensorflow` model.\n",
    "A forward pass on the model (with `training=False`) will yield a dictionary containing all the states over time.\n"
   ],
   "metadata": {
    "collapsed": false
   }
  },
  {
   "cell_type": "code",
   "execution_count": null,
   "outputs": [],
   "source": [
    "[inputs, targets, init_states] = model.task.generate(n_timesteps=n_t, batch_size=32)\n",
    "results = model([inputs, init_states], training=False)\n",
    "\n",
    "print(\"returned shape of each state:\")\n",
    "print(\"-----------------------------\")\n",
    "for k, v in results.items():\n",
    "  print(k + \": \", v.shape)\n"
   ],
   "metadata": {
    "collapsed": false,
    "pycharm": {
     "name": "#%%\n"
    }
   }
  },
  {
   "cell_type": "markdown",
   "source": [
    "We can plot these states to quickly visualize what the network is doing.\n"
   ],
   "metadata": {
    "collapsed": false
   }
  },
  {
   "cell_type": "code",
   "execution_count": null,
   "outputs": [],
   "source": [
    "\n",
    "plotor = mn.utils.plotor.plot_pos_over_time\n",
    "\n",
    "def plot_simulations(xy, target_xy):\n",
    "  target_x = target_xy[:, -1, 0]\n",
    "  target_y = target_xy[:, -1, 1]\n",
    "\n",
    "  plt.figure(figsize=(15,5))\n",
    "\n",
    "  plt.subplot(1,2,1)\n",
    "  plotor(xy)\n",
    "  plt.scatter(target_x, target_y)\n",
    "\n",
    "  plt.subplot(1,2,2)\n",
    "  plotor(xy - target_xy)\n",
    "  plt.axhline(0, c=\"grey\")\n",
    "  plt.axvline(0, c=\"grey\")\n",
    "  plt.xlabel(\"X distance to target\")\n",
    "  plt.ylabel(\"Y distance to target\")\n",
    "  plt.show()\n",
    "\n",
    "plot_simulations(xy=results[\"cartesian position\"], target_xy=targets)\n"
   ],
   "metadata": {
    "collapsed": false,
    "pycharm": {
     "name": "#%%\n"
    }
   }
  },
  {
   "cell_type": "markdown",
   "source": [
    "# IV. Saving the model\n",
    "\n",
    "Next, we can save the model using built-in methods. We will also save the training history as a `.json` file.\n"
   ],
   "metadata": {
    "collapsed": false
   }
  },
  {
   "cell_type": "code",
   "execution_count": null,
   "outputs": [],
   "source": [
    "\n",
    "weight_file = \"save\" + os.path.sep + \"weights\"\n",
    "log_file = \"save\" + os.path.sep + \"log.json\"\n",
    "data_file = \"save\" + os.path.sep + \"data.pickle\"\n",
    "cfg_file = \"save\" + os.path.sep + \"cfg\"\n",
    "\n",
    "# save model weights\n",
    "model.save_weights(weight_file)\n",
    "\n",
    "# save model configuration\n",
    "model.save_model(cfg_file)\n",
    "\n",
    "# save training history (log)\n",
    "with open(log_file, 'w') as file:\n",
    "    json.dump(training_log, file)\n",
    "\n",
    "print(\"Done.\")"
   ],
   "metadata": {
    "collapsed": false,
    "pycharm": {
     "name": "#%%\n"
    }
   }
  },
  {
   "cell_type": "markdown",
   "source": [
    "\n",
    "# V. Loading the model\n",
    "\n",
    "## V. 1. The configuration file\n",
    "This file is what the `model.save_model` method produces. It contains a dictionary with all the parameter and configuration values used to create the model. Let's look into its structure quickly.\n"
   ],
   "metadata": {
    "collapsed": false
   }
  },
  {
   "cell_type": "code",
   "execution_count": null,
   "outputs": [],
   "source": [
    "\n",
    "\n",
    "with open(cfg_file + \".json\", 'r') as file:\n",
    "    cfg = json.load(file)\n",
    "\n",
    "\n",
    "for k1, v1 in cfg.items():\n",
    "  print(k1 + \":\")\n",
    "  for k2, v2 in v1.items():\n",
    "    if type(v2) is dict:\n",
    "      print(\"\\t\\t\" + k2 + \":\")\n",
    "      for k3, v3 in v2.items():\n",
    "        print(\"\\t\\t\\t\\t\" + k3 + \": \", v3)\n",
    "    else:\n",
    "      print(\"\\t\\t\" + k2 + \": \", v2)\n"
   ],
   "metadata": {
    "collapsed": false,
    "pycharm": {
     "name": "#%%\n"
    }
   }
  },
  {
   "cell_type": "markdown",
   "source": [
    "\n",
    "## V. 2. Training history\n",
    "\n",
    "We can use the `.json` file containing the training history to retrieve and plot losses over time."
   ],
   "metadata": {
    "collapsed": false
   }
  },
  {
   "cell_type": "code",
   "execution_count": null,
   "outputs": [],
   "source": [
    "\n",
    "# retrieve and plot training history\n",
    "with open(log_file, 'r') as file:\n",
    "    loaded_training_log = json.load(file)\n",
    "\n",
    "print_training_log(log=loaded_training_log)\n",
    "\n"
   ],
   "metadata": {
    "collapsed": false,
    "pycharm": {
     "name": "#%%\n"
    }
   }
  },
  {
   "cell_type": "markdown",
   "source": [
    "\n",
    "## V. 3. The model itself\n",
    "\n",
    "Unfortunately there is no straightforward, one-liner way to save a model. This is to an extent due to limitations from the `tensorflow` saving routines, and also due to the fact that we use fairly non-conventional models, with plants, tasks, etc... nested into one object. Usually, reloading the model would involve re-creating the same model, and applying the trained weights to that model again. To re-create the model, one could re-use the same function as was used to create the original model (that's what we will do here), or one could exploit the configuration file we saved and re-loaded above to recreate a model exhaustively. The latter method might be more tedious to implement but has the benefit of being more exhaustive on the long run.\n",
    "\n",
    "Note that the task object is contained in the network and so can be retried from there.\n"
   ],
   "metadata": {
    "collapsed": false
   }
  },
  {
   "cell_type": "code",
   "execution_count": null,
   "outputs": [],
   "source": [
    "\n",
    "# The model has to be re-created\n",
    "model2 = create_network()\n",
    "task2 = model2.task\n",
    "\n",
    "# We then load the weights obtained from the training process\n",
    "model2.load_weights(weight_file).expect_partial()\n",
    "\n"
   ],
   "metadata": {
    "collapsed": false,
    "pycharm": {
     "name": "#%%\n"
    }
   }
  },
  {
   "cell_type": "markdown",
   "source": [
    "\n",
    "# VI. Evaluate the loaded model\n",
    "\n",
    "We can then do a forward pass the loaded model like we did on the original model.\n",
    "\n",
    "We can also save the data resulting from the forward pass, for later analyses if desired. This could have been done following the evaluation of the original model as well, obviously.\n"
   ],
   "metadata": {
    "collapsed": false
   }
  },
  {
   "cell_type": "code",
   "execution_count": null,
   "outputs": [],
   "source": [
    "[inputs, targets, init_states] = task2.generate(n_timesteps=n_t, batch_size=32)\n",
    "\n",
    "results = model2([inputs, init_states], training=False)\n",
    "\n",
    "# convert results to numpy array for saving later.\n",
    "# (this is not mandatory)\n",
    "inputs_np = {key: np.array(val) for key, val in inputs.items()}\n",
    "results_np = {key: np.array(val) for key, val in results.items()}\n",
    "\n",
    "# save as a .pickle file\n",
    "with open(data_file, 'wb') as file:\n",
    "  pickle.dump(\n",
    "    obj={'results': results_np,\n",
    "         'inputs': inputs_np,\n",
    "         'targets': np.array(targets),\n",
    "         'weights': model.get_weights(),\n",
    "         'training_log': training_log,\n",
    "         'task': cfg['Task'],\n",
    "         'controller': cfg['Network'],\n",
    "         'plant': cfg['Plant']},\n",
    "    file=file)\n",
    "  file.close()\n",
    "\n",
    "print(\"Done.\")\n"
   ],
   "metadata": {
    "collapsed": false,
    "pycharm": {
     "name": "#%%\n"
    }
   }
  },
  {
   "cell_type": "markdown",
   "source": [
    "# VII. Analyze saved data\n",
    "\n",
    "We can reload the saved data to perform analyses on it at any later time."
   ],
   "metadata": {
    "collapsed": false
   }
  },
  {
   "cell_type": "code",
   "execution_count": null,
   "outputs": [],
   "source": [
    "\n",
    "\n",
    "# open data file\n",
    "with open(data_file, 'rb') as file:\n",
    "  data = pickle.load(file)\n",
    "\n",
    "# plot data from data file\n",
    "plot_simulations(xy=data[\"results\"][\"cartesian position\"], target_xy=data[\"targets\"])\n"
   ],
   "metadata": {
    "collapsed": false,
    "pycharm": {
     "name": "#%%\n"
    }
   }
  }
 ],
 "metadata": {
  "kernelspec": {
   "display_name": "Python 3",
   "language": "python",
   "name": "python3"
  },
  "language_info": {
   "codemirror_mode": {
    "name": "ipython",
    "version": 2
   },
   "file_extension": ".py",
   "mimetype": "text/x-python",
   "name": "python",
   "nbconvert_exporter": "python",
   "pygments_lexer": "ipython2",
   "version": "2.7.6"
  }
 },
 "nbformat": 4,
 "nbformat_minor": 0
}